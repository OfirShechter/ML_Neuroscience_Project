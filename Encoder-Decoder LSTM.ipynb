{
 "cells": [
  {
   "cell_type": "code",
   "execution_count": 1,
   "metadata": {
    "colab": {
     "base_uri": "https://localhost:8080/"
    },
    "id": "Sbuf5w82w5E2",
    "outputId": "f3b893e1-3397-4002-c16b-e03ed1bfa5c4"
   },
   "outputs": [
    {
     "name": "stdout",
     "output_type": "stream",
     "text": [
      "Mounted at /content/drive\n"
     ]
    }
   ],
   "source": [
    "from google.colab import drive\n",
    "drive.mount('/content/drive', force_remount=True)"
   ]
  },
  {
   "cell_type": "code",
   "execution_count": 2,
   "metadata": {
    "id": "H2AuZ7YM4aR2"
   },
   "outputs": [],
   "source": [
    "import torch"
   ]
  },
  {
   "cell_type": "code",
   "execution_count": 3,
   "metadata": {
    "id": "qR_-31pO4Ume"
   },
   "outputs": [],
   "source": [
    "torch.set_default_tensor_type(torch.cuda.FloatTensor)"
   ]
  },
  {
   "cell_type": "code",
   "execution_count": 4,
   "metadata": {
    "colab": {
     "base_uri": "https://localhost:8080/"
    },
    "id": "1MuMBD3M3j3g",
    "outputId": "bf5fd439-76c8-43e4-ae79-8cac5edee50e"
   },
   "outputs": [
    {
     "name": "stdout",
     "output_type": "stream",
     "text": [
      "Fri Sep 10 13:52:00 2021       \n",
      "+-----------------------------------------------------------------------------+\n",
      "| NVIDIA-SMI 470.63.01    Driver Version: 460.32.03    CUDA Version: 11.2     |\n",
      "|-------------------------------+----------------------+----------------------+\n",
      "| GPU  Name        Persistence-M| Bus-Id        Disp.A | Volatile Uncorr. ECC |\n",
      "| Fan  Temp  Perf  Pwr:Usage/Cap|         Memory-Usage | GPU-Util  Compute M. |\n",
      "|                               |                      |               MIG M. |\n",
      "|===============================+======================+======================|\n",
      "|   0  Tesla T4            Off  | 00000000:00:04.0 Off |                    0 |\n",
      "| N/A   40C    P8     9W /  70W |      0MiB / 15109MiB |      0%      Default |\n",
      "|                               |                      |                  N/A |\n",
      "+-------------------------------+----------------------+----------------------+\n",
      "                                                                               \n",
      "+-----------------------------------------------------------------------------+\n",
      "| Processes:                                                                  |\n",
      "|  GPU   GI   CI        PID   Type   Process name                  GPU Memory |\n",
      "|        ID   ID                                                   Usage      |\n",
      "|=============================================================================|\n",
      "|  No running processes found                                                 |\n",
      "+-----------------------------------------------------------------------------+\n"
     ]
    }
   ],
   "source": [
    "!nvidia-smi"
   ]
  },
  {
   "cell_type": "code",
   "execution_count": 5,
   "metadata": {
    "id": "CscQ27TDxczb"
   },
   "outputs": [],
   "source": [
    "import pickle,tqdm\n",
    "import numpy as np"
   ]
  },
  {
   "cell_type": "code",
   "execution_count": 6,
   "metadata": {
    "id": "Cn-D2fGFXWbJ"
   },
   "outputs": [],
   "source": [
    "pickle_data_path = '/content/drive/MyDrive/rar_stock_brain/data- all hours/Hour7'"
   ]
  },
  {
   "cell_type": "code",
   "execution_count": 7,
   "metadata": {
    "id": "ZYmCyQ9vxxvZ"
   },
   "outputs": [],
   "source": [
    "with open(pickle_data_path,'rb') as f:\n",
    "  data = pickle.load(f)"
   ]
  },
  {
   "cell_type": "code",
   "execution_count": 8,
   "metadata": {
    "id": "ANn2cUiGRESK"
   },
   "outputs": [],
   "source": [
    "import matplotlib.pyplot as plt"
   ]
  },
  {
   "cell_type": "code",
   "execution_count": 9,
   "metadata": {
    "colab": {
     "base_uri": "https://localhost:8080/",
     "height": 276
    },
    "id": "6myvvBRw8DQK",
    "outputId": "f9aa6113-f779-4421-c5e0-1d84b419aef9"
   },
   "outputs": [
    {
     "data": {
      "image/png": "[encoded data removed]",
      "text/plain": [
       "<Figure size 432x288 with 1 Axes>"
      ]
     },
     "metadata": {
      "needs_background": "light"
     },
     "output_type": "display_data"
    }
   ],
   "source": [
    "# histogram of the data\n",
    "p = plt.hist(data,bins=400)"
   ]
  },
  {
   "cell_type": "code",
   "execution_count": 10,
   "metadata": {
    "id": "lxYkiElkRhEe"
   },
   "outputs": [],
   "source": [
    "# data_clipped = data.clip(max=50,min=-50)"
   ]
  },
  {
   "cell_type": "code",
   "execution_count": 11,
   "metadata": {
    "id": "DTrAX-a8Pv5J"
   },
   "outputs": [],
   "source": [
    "# mean = data.mean()\n",
    "# std = data.std()\n",
    "# data = (data - mean) / std"
   ]
  },
  {
   "cell_type": "markdown",
   "metadata": {
    "id": "L1C-qcmWNyC3"
   },
   "source": [
    "set the working path to the LSTM_encoder_decoder/code path"
   ]
  },
  {
   "cell_type": "code",
   "execution_count": 12,
   "metadata": {
    "colab": {
     "base_uri": "https://localhost:8080/"
    },
    "id": "-ZbazeVZxz8R",
    "outputId": "164b1c9f-2467-417c-9115-8112a8302b90"
   },
   "outputs": [
    {
     "name": "stdout",
     "output_type": "stream",
     "text": [
      "/content/drive/MyDrive/rar_stock_brain/LSTM_encoder_decoder/code\n"
     ]
    }
   ],
   "source": [
    "cd /content/drive/MyDrive/rar_stock_brain/LSTM_encoder_decoder/code/"
   ]
  },
  {
   "cell_type": "markdown",
   "metadata": {
    "id": "u3I--HZMyAsI"
   },
   "source": [
    "the following is based on :\n",
    "https://github.com/lkulowski/LSTM_encoder_decoder.git"
   ]
  },
  {
   "cell_type": "code",
   "execution_count": 13,
   "metadata": {
    "id": "7_u3WJPxx54B"
   },
   "outputs": [],
   "source": [
    "\n",
    "import numpy as np\n",
    "import matplotlib\n",
    "import matplotlib.pyplot as plt\n",
    "from importlib import reload\n",
    "import sys\n",
    "\n",
    "import generate_dataset\n",
    "import lstm_encoder_decoder\n",
    "import plotting \n",
    "\n",
    "import matplotlib.pyplot as pl\n",
    "from scipy import signal\n",
    "\n",
    "\n",
    "matplotlib.rcParams.update({'font.size': 17})"
   ]
  },
  {
   "cell_type": "markdown",
   "metadata": {
    "id": "KPBtq1jr0NmZ"
   },
   "source": [
    "Resample the signal from 20khz to 250hz for easier model construction and training, also the signal is amplified by 100 in order to \n",
    "magnify the MSE loss"
   ]
  },
  {
   "cell_type": "code",
   "execution_count": 14,
   "metadata": {
    "id": "W_N9Vi88yH88"
   },
   "outputs": [],
   "source": [
    "############## DOWNSAMPLE from 20000Hz to 250Hz ################\n",
    "new_sr = 250\n",
    "current_sr = 20000\n",
    "signal_amplification = 0.25\n",
    "\n",
    "\n",
    "resample_ratio =current_sr /new_sr\n",
    "from scipy import signal\n",
    "f = signal.resample(data, int((data.shape[0] / current_sr)*new_sr))\n",
    "tnew = np.arange(0,data.shape[0],resample_ratio)\n",
    "t = np.arange(0,data.shape[0],1)"
   ]
  },
  {
   "cell_type": "code",
   "execution_count": 15,
   "metadata": {
    "colab": {
     "base_uri": "https://localhost:8080/",
     "height": 328
    },
    "id": "sx9NV6A9yWCG",
    "outputId": "823d1395-e1a5-4194-f7c5-ad916aad6060"
   },
   "outputs": [
    {
     "data": {
      "image/png": "[encoded data removed]",
      "text/plain": [
       "<Figure size 720x360 with 1 Axes>"
      ]
     },
     "metadata": {
      "needs_background": "light"
     },
     "output_type": "display_data"
    }
   ],
   "source": [
    "import matplotlib.pyplot as pl\n",
    "f = f*signal_amplification\n",
    "l = int(660000/resample_ratio)\n",
    "plt.figure(figsize=(10,5))\n",
    "plt.plot(t[:660000], data[:660000]*signal_amplification, '.-',tnew[:l], f[:l], '.-')\n",
    "plt.legend(['original data', 'resampled'], loc='best')\n",
    "plt.show()"
   ]
  },
  {
   "cell_type": "code",
   "execution_count": 16,
   "metadata": {
    "id": "GJuXK_0v0xLI"
   },
   "outputs": [],
   "source": [
    "y, t = f, tnew"
   ]
  },
  {
   "cell_type": "markdown",
   "metadata": {
    "id": "oxdtiYxI02HY"
   },
   "source": [
    "80% goes for train split and 20% for validation"
   ]
  },
  {
   "cell_type": "code",
   "execution_count": 17,
   "metadata": {
    "id": "h970QyqMyzOV"
   },
   "outputs": [],
   "source": [
    "t_train, y_train, t_test, y_test = generate_dataset.train_test_split(t, y, split = 0.8)\n"
   ]
  },
  {
   "cell_type": "markdown",
   "metadata": {
    "id": "zWH7Jdqy1Xa3"
   },
   "source": [
    "##split the data using sliding window to input segments and label segments of size:\n",
    "\n",
    "iw = 250 # past data to pass (to predict next samples)\n",
    "\n",
    "ow = 25 # samples to predict\n",
    "\n",
    "s = 5 # overlap between windows (steps to start iw)\n"
   ]
  },
  {
   "cell_type": "code",
   "execution_count": 18,
   "metadata": {
    "id": "Kii5DEUL0tae"
   },
   "outputs": [],
   "source": [
    "# set size of input/output windows \n",
    "iw = 250 # past data to pass (to predict next samples)\n",
    "ow = 25 # samples to predict\n",
    "s = 5 # overlap between windows (steps to start iw)\n",
    "\n",
    "# generate windowed training/test datasets\n",
    "Xtrain, Ytrain= generate_dataset.windowed_dataset(y_train, input_window = iw, output_window = ow, stride = s)\n",
    "Xtest, Ytest = generate_dataset.windowed_dataset(y_test, input_window = iw, output_window = ow, stride = s)"
   ]
  },
  {
   "cell_type": "markdown",
   "metadata": {
    "id": "nwPJQuFd14dk"
   },
   "source": [
    "# plot example of windowed data  \n"
   ]
  },
  {
   "cell_type": "code",
   "execution_count": 19,
   "metadata": {
    "colab": {
     "base_uri": "https://localhost:8080/",
     "height": 426
    },
    "id": "eCzvgFib1tL0",
    "outputId": "86978d6f-86d2-4a38-cb33-39bdae8bf8be"
   },
   "outputs": [
    {
     "data": {
      "image/png": "[encoded data removed]",
      "text/plain": [
       "<Figure size 720x432 with 1 Axes>"
      ]
     },
     "metadata": {
      "needs_background": "light"
     },
     "output_type": "display_data"
    }
   ],
   "source": [
    "plt.figure(figsize = (10, 6)) \n",
    "plt.plot(np.arange(0, iw), Xtrain[:, 0, 0], 'k', linewidth = 2.2, label = 'Input')\n",
    "plt.plot(np.arange(iw - 1, iw + ow), np.concatenate([[Xtrain[-1, 0, 0]], Ytrain[:, 0, 0]]),\n",
    "         color = (0.2, 0.42, 0.72), linewidth = 2.2, label = 'Target')\n",
    "plt.xlim([0, iw + ow - 1])\n",
    "plt.xlabel(r'$t$')\n",
    "plt.ylabel(r'$y$')\n",
    "plt.title('Example of Windowed Training Data')\n",
    "plt.legend(bbox_to_anchor=(1.3, 1))\n",
    "plt.tight_layout() \n",
    "plt.savefig('plots/windowed_data.png')"
   ]
  },
  {
   "cell_type": "code",
   "execution_count": 20,
   "metadata": {
    "id": "-pmcfdb-pVxc"
   },
   "outputs": [],
   "source": [
    "# LSTM encoder-decoder\n",
    "\n",
    "# convert windowed data from np.array to PyTorch tensor\n",
    "X_train, Y_train, X_test, Y_test = generate_dataset.numpy_to_torch(Xtrain, Ytrain, Xtest, Ytest)\n"
   ]
  },
  {
   "cell_type": "code",
   "execution_count": 21,
   "metadata": {
    "id": "dgJaiz_cpYhK"
   },
   "outputs": [],
   "source": [
    "\n",
    "# specify model parameters and train\n",
    "model = lstm_encoder_decoder.lstm_seq2seq(input_size = X_train.shape[2], hidden_size = 30)"
   ]
  },
  {
   "cell_type": "code",
   "execution_count": 22,
   "metadata": {
    "colab": {
     "base_uri": "https://localhost:8080/"
    },
    "id": "zOv8narepZqs",
    "outputId": "ea00f2bf-c013-4273-854f-f9c4bb029fb9"
   },
   "outputs": [
    {
     "data": {
      "text/plain": [
       "lstm_seq2seq(\n",
       "  (encoder): lstm_encoder(\n",
       "    (lstm): LSTM(1, 30)\n",
       "  )\n",
       "  (decoder): lstm_decoder(\n",
       "    (lstm): LSTM(1, 30)\n",
       "    (linear): Linear(in_features=30, out_features=1, bias=True)\n",
       "  )\n",
       ")"
      ]
     },
     "execution_count": 22,
     "metadata": {},
     "output_type": "execute_result"
    }
   ],
   "source": [
    "model"
   ]
  },
  {
   "cell_type": "code",
   "execution_count": 23,
   "metadata": {
    "colab": {
     "base_uri": "https://localhost:8080/"
    },
    "id": "98vRMlGU10es",
    "outputId": "2c8e928e-8648-44af-f7ce-c9d58363c66a"
   },
   "outputs": [
    {
     "name": "stderr",
     "output_type": "stream",
     "text": [
      "  0%|          | 0/400 [00:00<?, ?it/s]"
     ]
    },
    {
     "name": "stdout",
     "output_type": "stream",
     "text": [
      "0/287\n",
      "30/287\n",
      "60/287\n",
      "90/287\n",
      "120/287\n",
      "150/287\n",
      "180/287\n",
      "210/287\n",
      "240/287\n",
      "270/287\n"
     ]
    },
    {
     "name": "stderr",
     "output_type": "stream",
     "text": [
      "  0%|          | 1/400 [00:06<45:43,  6.88s/it, loss=44.084]"
     ]
    },
    {
     "name": "stdout",
     "output_type": "stream",
     "text": [
      "0/287\n",
      "30/287\n",
      "60/287\n",
      "90/287\n",
      "120/287\n",
      "150/287\n",
      "180/287\n",
      "210/287\n",
      "240/287\n",
      "270/287\n"
     ]
    },
    {
     "name": "stderr",
     "output_type": "stream",
     "text": [
      "  0%|          | 2/400 [00:13<44:54,  6.77s/it, loss=20.425]"
     ]
    },
    {
     "name": "stdout",
     "output_type": "stream",
     "text": [
      "0/287\n",
      "30/287\n",
      "60/287\n",
      "90/287\n",
      "120/287\n",
      "150/287\n",
      "180/287\n",
      "210/287\n",
      "240/287\n",
      "270/287\n"
     ]
    },
    {
     "name": "stderr",
     "output_type": "stream",
     "text": [
      "  1%|          | 3/400 [00:20<44:27,  6.72s/it, loss=15.470]"
     ]
    },
    {
     "name": "stdout",
     "output_type": "stream",
     "text": [
      "0/287\n",
      "30/287\n",
      "60/287\n",
      "90/287\n",
      "120/287\n",
      "150/287\n",
      "180/287\n",
      "210/287\n",
      "240/287\n",
      "270/287\n"
     ]
    },
    {
     "name": "stderr",
     "output_type": "stream",
     "text": [
      "  1%|          | 4/400 [00:26<44:18,  6.71s/it, loss=13.252]"
     ]
    },
    {
     "name": "stdout",
     "output_type": "stream",
     "text": [
      "0/287\n",
      "30/287\n",
      "60/287\n",
      "90/287\n",
      "120/287\n",
      "150/287\n",
      "180/287\n",
      "210/287\n",
      "240/287\n",
      "270/287\n"
     ]
    },
    {
     "name": "stderr",
     "output_type": "stream",
     "text": [
      "  1%|▏         | 5/400 [00:33<44:03,  6.69s/it, loss=10.831]"
     ]
    },
    {
     "name": "stdout",
     "output_type": "stream",
     "text": [
      "0/287\n",
      "30/287\n",
      "60/287\n",
      "90/287\n",
      "120/287\n",
      "150/287\n",
      "180/287\n",
      "210/287\n",
      "240/287\n",
      "270/287\n"
     ]
    },
    {
     "name": "stderr",
     "output_type": "stream",
     "text": [
      "  2%|▏         | 6/400 [00:40<43:52,  6.68s/it, loss=9.641]"
     ]
    },
    {
     "name": "stdout",
     "output_type": "stream",
     "text": [
      "0/287\n",
      "30/287\n",
      "60/287\n",
      "90/287\n",
      "120/287\n",
      "150/287\n",
      "180/287\n",
      "210/287\n",
      "240/287\n",
      "270/287\n"
     ]
    },
    {
     "name": "stderr",
     "output_type": "stream",
     "text": [
      "  2%|▏         | 7/400 [00:46<43:39,  6.67s/it, loss=9.498]"
     ]
    },
    {
     "name": "stdout",
     "output_type": "stream",
     "text": [
      "0/287\n",
      "30/287\n",
      "60/287\n",
      "90/287\n",
      "120/287\n",
      "150/287\n",
      "180/287\n",
      "210/287\n",
      "240/287\n",
      "270/287\n"
     ]
    },
    {
     "name": "stderr",
     "output_type": "stream",
     "text": [
      "  2%|▏         | 8/400 [00:53<43:27,  6.65s/it, loss=8.323]"
     ]
    },
    {
     "name": "stdout",
     "output_type": "stream",
     "text": [
      "0/287\n",
      "30/287\n",
      "60/287\n",
      "90/287\n",
      "120/287\n",
      "150/287\n",
      "180/287\n",
      "210/287\n",
      "240/287\n",
      "270/287\n"
     ]
    },
    {
     "name": "stderr",
     "output_type": "stream",
     "text": [
      "  2%|▏         | 9/400 [01:00<43:16,  6.64s/it, loss=7.477]"
     ]
    },
    {
     "name": "stdout",
     "output_type": "stream",
     "text": [
      "0/287\n",
      "30/287\n",
      "60/287\n",
      "90/287\n",
      "120/287\n",
      "150/287\n",
      "180/287\n",
      "210/287\n",
      "240/287\n",
      "270/287\n"
     ]
    },
    {
     "name": "stderr",
     "output_type": "stream",
     "text": [
      "  2%|▎         | 10/400 [01:06<43:05,  6.63s/it, loss=7.102]"
     ]
    },
    {
     "name": "stdout",
     "output_type": "stream",
     "text": [
      "0/287\n",
      "30/287\n",
      "60/287\n",
      "90/287\n",
      "120/287\n",
      "150/287\n",
      "180/287\n",
      "210/287\n",
      "240/287\n",
      "270/287\n"
     ]
    },
    {
     "name": "stderr",
     "output_type": "stream",
     "text": [
      "  3%|▎         | 11/400 [01:13<43:03,  6.64s/it, loss=15.923]"
     ]
    },
    {
     "name": "stdout",
     "output_type": "stream",
     "text": [
      "0/287\n",
      "30/287\n",
      "60/287\n",
      "90/287\n",
      "120/287\n",
      "150/287\n",
      "180/287\n",
      "210/287\n",
      "240/287\n",
      "270/287\n"
     ]
    },
    {
     "name": "stderr",
     "output_type": "stream",
     "text": [
      "  3%|▎         | 12/400 [01:20<43:05,  6.66s/it, loss=15.077]"
     ]
    },
    {
     "name": "stdout",
     "output_type": "stream",
     "text": [
      "0/287\n",
      "30/287\n",
      "60/287\n",
      "90/287\n",
      "120/287\n",
      "150/287\n",
      "180/287\n",
      "210/287\n",
      "240/287\n",
      "270/287\n"
     ]
    },
    {
     "name": "stderr",
     "output_type": "stream",
     "text": [
      "  3%|▎         | 13/400 [01:26<42:55,  6.66s/it, loss=13.862]"
     ]
    },
    {
     "name": "stdout",
     "output_type": "stream",
     "text": [
      "0/287\n",
      "30/287\n",
      "60/287\n",
      "90/287\n",
      "120/287\n",
      "150/287\n",
      "180/287\n",
      "210/287\n",
      "240/287\n",
      "270/287\n"
     ]
    },
    {
     "name": "stderr",
     "output_type": "stream",
     "text": [
      "  4%|▎         | 14/400 [01:33<42:50,  6.66s/it, loss=13.087]"
     ]
    },
    {
     "name": "stdout",
     "output_type": "stream",
     "text": [
      "0/287\n",
      "30/287\n",
      "60/287\n",
      "90/287\n",
      "120/287\n",
      "150/287\n",
      "180/287\n",
      "210/287\n",
      "240/287\n",
      "270/287\n"
     ]
    },
    {
     "name": "stderr",
     "output_type": "stream",
     "text": [
      "  4%|▍         | 15/400 [01:40<42:45,  6.66s/it, loss=12.220]"
     ]
    },
    {
     "name": "stdout",
     "output_type": "stream",
     "text": [
      "0/287\n",
      "30/287\n",
      "60/287\n",
      "90/287\n",
      "120/287\n",
      "150/287\n",
      "180/287\n",
      "210/287\n",
      "240/287\n",
      "270/287\n"
     ]
    },
    {
     "name": "stderr",
     "output_type": "stream",
     "text": [
      "  4%|▍         | 16/400 [01:46<42:39,  6.67s/it, loss=11.451]"
     ]
    },
    {
     "name": "stdout",
     "output_type": "stream",
     "text": [
      "0/287\n",
      "30/287\n",
      "60/287\n",
      "90/287\n",
      "120/287\n",
      "150/287\n",
      "180/287\n",
      "210/287\n",
      "240/287\n",
      "270/287\n"
     ]
    },
    {
     "name": "stderr",
     "output_type": "stream",
     "text": [
      "  4%|▍         | 17/400 [01:53<42:27,  6.65s/it, loss=11.179]"
     ]
    },
    {
     "name": "stdout",
     "output_type": "stream",
     "text": [
      "0/287\n",
      "30/287\n",
      "60/287\n",
      "90/287\n",
      "120/287\n",
      "150/287\n",
      "180/287\n",
      "210/287\n",
      "240/287\n",
      "270/287\n"
     ]
    },
    {
     "name": "stderr",
     "output_type": "stream",
     "text": [
      "  4%|▍         | 18/400 [01:59<42:17,  6.64s/it, loss=10.445]"
     ]
    },
    {
     "name": "stdout",
     "output_type": "stream",
     "text": [
      "0/287\n",
      "30/287\n",
      "60/287\n",
      "90/287\n",
      "120/287\n",
      "150/287\n",
      "180/287\n",
      "210/287\n",
      "240/287\n",
      "270/287\n"
     ]
    },
    {
     "name": "stderr",
     "output_type": "stream",
     "text": [
      "  5%|▍         | 19/400 [02:06<42:06,  6.63s/it, loss=10.966]"
     ]
    },
    {
     "name": "stdout",
     "output_type": "stream",
     "text": [
      "0/287\n",
      "30/287\n",
      "60/287\n",
      "90/287\n",
      "120/287\n",
      "150/287\n",
      "180/287\n",
      "210/287\n",
      "240/287\n",
      "270/287\n"
     ]
    },
    {
     "name": "stderr",
     "output_type": "stream",
     "text": [
      "  5%|▌         | 20/400 [02:13<42:01,  6.64s/it, loss=11.232]"
     ]
    },
    {
     "name": "stdout",
     "output_type": "stream",
     "text": [
      "0/287\n",
      "30/287\n",
      "60/287\n",
      "90/287\n",
      "120/287\n",
      "150/287\n",
      "180/287\n",
      "210/287\n",
      "240/287\n",
      "270/287\n"
     ]
    },
    {
     "name": "stderr",
     "output_type": "stream",
     "text": [
      "  5%|▌         | 21/400 [02:19<42:00,  6.65s/it, loss=9.606]"
     ]
    },
    {
     "name": "stdout",
     "output_type": "stream",
     "text": [
      "0/287\n",
      "30/287\n",
      "60/287\n",
      "90/287\n",
      "120/287\n",
      "150/287\n",
      "180/287\n",
      "210/287\n",
      "240/287\n",
      "270/287\n"
     ]
    },
    {
     "name": "stderr",
     "output_type": "stream",
     "text": [
      "  6%|▌         | 22/400 [02:26<42:12,  6.70s/it, loss=9.249]"
     ]
    },
    {
     "name": "stdout",
     "output_type": "stream",
     "text": [
      "0/287\n",
      "30/287\n",
      "60/287\n",
      "90/287\n",
      "120/287\n",
      "150/287\n",
      "180/287\n",
      "210/287\n",
      "240/287\n",
      "270/287\n"
     ]
    },
    {
     "name": "stderr",
     "output_type": "stream",
     "text": [
      "  6%|▌         | 23/400 [02:33<41:59,  6.68s/it, loss=8.798]"
     ]
    },
    {
     "name": "stdout",
     "output_type": "stream",
     "text": [
      "0/287\n",
      "30/287\n",
      "60/287\n",
      "90/287\n",
      "120/287\n",
      "150/287\n",
      "180/287\n",
      "210/287\n",
      "240/287\n",
      "270/287\n"
     ]
    },
    {
     "name": "stderr",
     "output_type": "stream",
     "text": [
      "  6%|▌         | 24/400 [02:39<41:43,  6.66s/it, loss=8.524]"
     ]
    },
    {
     "name": "stdout",
     "output_type": "stream",
     "text": [
      "0/287\n",
      "30/287\n",
      "60/287\n",
      "90/287\n",
      "120/287\n",
      "150/287\n",
      "180/287\n",
      "210/287\n",
      "240/287\n",
      "270/287\n"
     ]
    },
    {
     "name": "stderr",
     "output_type": "stream",
     "text": [
      "  6%|▋         | 25/400 [02:46<41:36,  6.66s/it, loss=8.366]"
     ]
    },
    {
     "name": "stdout",
     "output_type": "stream",
     "text": [
      "0/287\n",
      "30/287\n",
      "60/287\n",
      "90/287\n",
      "120/287\n",
      "150/287\n",
      "180/287\n",
      "210/287\n",
      "240/287\n",
      "270/287\n"
     ]
    },
    {
     "name": "stderr",
     "output_type": "stream",
     "text": [
      "  6%|▋         | 26/400 [02:53<41:28,  6.65s/it, loss=8.207]"
     ]
    },
    {
     "name": "stdout",
     "output_type": "stream",
     "text": [
      "0/287\n",
      "30/287\n",
      "60/287\n",
      "90/287\n",
      "120/287\n",
      "150/287\n",
      "180/287\n",
      "210/287\n",
      "240/287\n",
      "270/287\n"
     ]
    },
    {
     "name": "stderr",
     "output_type": "stream",
     "text": [
      "  7%|▋         | 27/400 [02:59<41:24,  6.66s/it, loss=8.301]"
     ]
    },
    {
     "name": "stdout",
     "output_type": "stream",
     "text": [
      "0/287\n",
      "30/287\n",
      "60/287\n",
      "90/287\n",
      "120/287\n",
      "150/287\n",
      "180/287\n",
      "210/287\n",
      "240/287\n",
      "270/287\n"
     ]
    },
    {
     "name": "stderr",
     "output_type": "stream",
     "text": [
      "  7%|▋         | 28/400 [03:06<41:15,  6.65s/it, loss=7.499]"
     ]
    },
    {
     "name": "stdout",
     "output_type": "stream",
     "text": [
      "0/287\n",
      "30/287\n",
      "60/287\n",
      "90/287\n",
      "120/287\n",
      "150/287\n",
      "180/287\n",
      "210/287\n",
      "240/287\n",
      "270/287\n"
     ]
    },
    {
     "name": "stderr",
     "output_type": "stream",
     "text": [
      "  7%|▋         | 29/400 [03:13<41:11,  6.66s/it, loss=7.175]"
     ]
    },
    {
     "name": "stdout",
     "output_type": "stream",
     "text": [
      "0/287\n",
      "30/287\n",
      "60/287\n",
      "90/287\n",
      "120/287\n",
      "150/287\n",
      "180/287\n",
      "210/287\n",
      "240/287\n",
      "270/287\n"
     ]
    },
    {
     "name": "stderr",
     "output_type": "stream",
     "text": [
      "  8%|▊         | 30/400 [03:19<40:54,  6.64s/it, loss=7.094]"
     ]
    },
    {
     "name": "stdout",
     "output_type": "stream",
     "text": [
      "0/287\n",
      "30/287\n",
      "60/287\n",
      "90/287\n",
      "120/287\n",
      "150/287\n",
      "180/287\n",
      "210/287\n",
      "240/287\n",
      "270/287\n"
     ]
    },
    {
     "name": "stderr",
     "output_type": "stream",
     "text": [
      "  8%|▊         | 31/400 [03:26<40:53,  6.65s/it, loss=7.011]"
     ]
    },
    {
     "name": "stdout",
     "output_type": "stream",
     "text": [
      "0/287\n",
      "30/287\n",
      "60/287\n",
      "90/287\n",
      "120/287\n",
      "150/287\n",
      "180/287\n",
      "210/287\n",
      "240/287\n",
      "270/287\n"
     ]
    },
    {
     "name": "stderr",
     "output_type": "stream",
     "text": [
      "  8%|▊         | 32/400 [03:33<40:48,  6.65s/it, loss=6.767]"
     ]
    },
    {
     "name": "stdout",
     "output_type": "stream",
     "text": [
      "0/287\n",
      "30/287\n",
      "60/287\n",
      "90/287\n",
      "120/287\n",
      "150/287\n",
      "180/287\n",
      "210/287\n",
      "240/287\n",
      "270/287\n"
     ]
    },
    {
     "name": "stderr",
     "output_type": "stream",
     "text": [
      "  8%|▊         | 33/400 [03:39<40:40,  6.65s/it, loss=6.669]"
     ]
    },
    {
     "name": "stdout",
     "output_type": "stream",
     "text": [
      "0/287\n",
      "30/287\n",
      "60/287\n",
      "90/287\n",
      "120/287\n",
      "150/287\n",
      "180/287\n",
      "210/287\n",
      "240/287\n",
      "270/287\n"
     ]
    },
    {
     "name": "stderr",
     "output_type": "stream",
     "text": [
      "  8%|▊         | 34/400 [03:46<40:31,  6.64s/it, loss=7.162]"
     ]
    },
    {
     "name": "stdout",
     "output_type": "stream",
     "text": [
      "0/287\n",
      "30/287\n",
      "60/287\n",
      "90/287\n",
      "120/287\n",
      "150/287\n",
      "180/287\n",
      "210/287\n",
      "240/287\n",
      "270/287\n"
     ]
    },
    {
     "name": "stderr",
     "output_type": "stream",
     "text": [
      "  9%|▉         | 35/400 [03:53<40:24,  6.64s/it, loss=6.407]"
     ]
    },
    {
     "name": "stdout",
     "output_type": "stream",
     "text": [
      "0/287\n",
      "30/287\n",
      "60/287\n",
      "90/287\n",
      "120/287\n",
      "150/287\n",
      "180/287\n",
      "210/287\n",
      "240/287\n",
      "270/287\n"
     ]
    },
    {
     "name": "stderr",
     "output_type": "stream",
     "text": [
      "  9%|▉         | 36/400 [03:59<40:19,  6.65s/it, loss=6.362]"
     ]
    },
    {
     "name": "stdout",
     "output_type": "stream",
     "text": [
      "0/287\n",
      "30/287\n",
      "60/287\n",
      "90/287\n",
      "120/287\n",
      "150/287\n",
      "180/287\n",
      "210/287\n",
      "240/287\n",
      "270/287\n"
     ]
    },
    {
     "name": "stderr",
     "output_type": "stream",
     "text": [
      "  9%|▉         | 37/400 [04:06<40:11,  6.64s/it, loss=6.110]"
     ]
    },
    {
     "name": "stdout",
     "output_type": "stream",
     "text": [
      "0/287\n",
      "30/287\n",
      "60/287\n",
      "90/287\n",
      "120/287\n",
      "150/287\n",
      "180/287\n",
      "210/287\n",
      "240/287\n",
      "270/287\n"
     ]
    },
    {
     "name": "stderr",
     "output_type": "stream",
     "text": [
      " 10%|▉         | 38/400 [04:13<40:05,  6.65s/it, loss=6.203]"
     ]
    },
    {
     "name": "stdout",
     "output_type": "stream",
     "text": [
      "0/287\n",
      "30/287\n",
      "60/287\n",
      "90/287\n",
      "120/287\n",
      "150/287\n",
      "180/287\n",
      "210/287\n",
      "240/287\n",
      "270/287\n"
     ]
    },
    {
     "name": "stderr",
     "output_type": "stream",
     "text": [
      " 10%|▉         | 39/400 [04:19<40:08,  6.67s/it, loss=6.088]"
     ]
    },
    {
     "name": "stdout",
     "output_type": "stream",
     "text": [
      "0/287\n",
      "30/287\n",
      "60/287\n",
      "90/287\n",
      "120/287\n",
      "150/287\n",
      "180/287\n",
      "210/287\n",
      "240/287\n",
      "270/287\n"
     ]
    },
    {
     "name": "stderr",
     "output_type": "stream",
     "text": [
      " 10%|█         | 40/400 [04:26<40:09,  6.69s/it, loss=6.173]"
     ]
    },
    {
     "name": "stdout",
     "output_type": "stream",
     "text": [
      "0/287\n",
      "30/287\n",
      "60/287\n",
      "90/287\n",
      "120/287\n",
      "150/287\n",
      "180/287\n",
      "210/287\n",
      "240/287\n",
      "270/287\n"
     ]
    },
    {
     "name": "stderr",
     "output_type": "stream",
     "text": [
      " 10%|█         | 41/400 [04:33<40:02,  6.69s/it, loss=6.095]"
     ]
    },
    {
     "name": "stdout",
     "output_type": "stream",
     "text": [
      "0/287\n",
      "30/287\n",
      "60/287\n",
      "90/287\n",
      "120/287\n",
      "150/287\n",
      "180/287\n",
      "210/287\n",
      "240/287\n",
      "270/287\n"
     ]
    },
    {
     "name": "stderr",
     "output_type": "stream",
     "text": [
      " 10%|█         | 42/400 [04:39<39:55,  6.69s/it, loss=5.945]"
     ]
    },
    {
     "name": "stdout",
     "output_type": "stream",
     "text": [
      "0/287\n",
      "30/287\n",
      "60/287\n",
      "90/287\n",
      "120/287\n",
      "150/287\n",
      "180/287\n",
      "210/287\n",
      "240/287\n",
      "270/287\n"
     ]
    },
    {
     "name": "stderr",
     "output_type": "stream",
     "text": [
      " 11%|█         | 43/400 [04:46<39:45,  6.68s/it, loss=5.821]"
     ]
    },
    {
     "name": "stdout",
     "output_type": "stream",
     "text": [
      "0/287\n",
      "30/287\n",
      "60/287\n",
      "90/287\n",
      "120/287\n",
      "150/287\n",
      "180/287\n",
      "210/287\n",
      "240/287\n",
      "270/287\n"
     ]
    },
    {
     "name": "stderr",
     "output_type": "stream",
     "text": [
      " 11%|█         | 44/400 [04:53<39:32,  6.67s/it, loss=5.627]"
     ]
    },
    {
     "name": "stdout",
     "output_type": "stream",
     "text": [
      "0/287\n",
      "30/287\n",
      "60/287\n",
      "90/287\n",
      "120/287\n",
      "150/287\n",
      "180/287\n",
      "210/287\n",
      "240/287\n",
      "270/287\n"
     ]
    },
    {
     "name": "stderr",
     "output_type": "stream",
     "text": [
      " 11%|█▏        | 45/400 [04:59<39:23,  6.66s/it, loss=5.638]"
     ]
    },
    {
     "name": "stdout",
     "output_type": "stream",
     "text": [
      "0/287\n",
      "30/287\n",
      "60/287\n",
      "90/287\n",
      "120/287\n",
      "150/287\n",
      "180/287\n",
      "210/287\n",
      "240/287\n",
      "270/287\n"
     ]
    },
    {
     "name": "stderr",
     "output_type": "stream",
     "text": [
      " 12%|█▏        | 46/400 [05:06<39:18,  6.66s/it, loss=11.666]"
     ]
    },
    {
     "name": "stdout",
     "output_type": "stream",
     "text": [
      "0/287\n",
      "30/287\n",
      "60/287\n",
      "90/287\n",
      "120/287\n",
      "150/287\n",
      "180/287\n",
      "210/287\n",
      "240/287\n",
      "270/287\n"
     ]
    },
    {
     "name": "stderr",
     "output_type": "stream",
     "text": [
      " 12%|█▏        | 47/400 [05:13<39:08,  6.65s/it, loss=13.571]"
     ]
    },
    {
     "name": "stdout",
     "output_type": "stream",
     "text": [
      "0/287\n",
      "30/287\n",
      "60/287\n",
      "90/287\n",
      "120/287\n",
      "150/287\n",
      "180/287\n",
      "210/287\n",
      "240/287\n",
      "270/287\n"
     ]
    },
    {
     "name": "stderr",
     "output_type": "stream",
     "text": [
      " 12%|█▏        | 48/400 [05:19<38:59,  6.65s/it, loss=12.113]"
     ]
    },
    {
     "name": "stdout",
     "output_type": "stream",
     "text": [
      "0/287\n",
      "30/287\n",
      "60/287\n",
      "90/287\n",
      "120/287\n",
      "150/287\n",
      "180/287\n",
      "210/287\n",
      "240/287\n",
      "270/287\n"
     ]
    },
    {
     "name": "stderr",
     "output_type": "stream",
     "text": [
      " 12%|█▏        | 49/400 [05:26<38:58,  6.66s/it, loss=11.909]"
     ]
    },
    {
     "name": "stdout",
     "output_type": "stream",
     "text": [
      "0/287\n",
      "30/287\n",
      "60/287\n",
      "90/287\n",
      "120/287\n",
      "150/287\n",
      "180/287\n",
      "210/287\n",
      "240/287\n",
      "270/287\n"
     ]
    },
    {
     "name": "stderr",
     "output_type": "stream",
     "text": [
      " 12%|█▎        | 50/400 [05:33<38:55,  6.67s/it, loss=10.837]"
     ]
    },
    {
     "name": "stdout",
     "output_type": "stream",
     "text": [
      "0/287\n",
      "30/287\n",
      "60/287\n",
      "90/287\n",
      "120/287\n",
      "150/287\n",
      "180/287\n",
      "210/287\n",
      "240/287\n",
      "270/287\n"
     ]
    },
    {
     "name": "stderr",
     "output_type": "stream",
     "text": [
      " 13%|█▎        | 51/400 [05:39<38:51,  6.68s/it, loss=10.060]"
     ]
    },
    {
     "name": "stdout",
     "output_type": "stream",
     "text": [
      "0/287\n",
      "30/287\n",
      "60/287\n",
      "90/287\n",
      "120/287\n",
      "150/287\n",
      "180/287\n",
      "210/287\n",
      "240/287\n",
      "270/287\n"
     ]
    },
    {
     "name": "stderr",
     "output_type": "stream",
     "text": [
      " 13%|█▎        | 52/400 [05:46<38:46,  6.69s/it, loss=10.342]"
     ]
    },
    {
     "name": "stdout",
     "output_type": "stream",
     "text": [
      "0/287\n",
      "30/287\n",
      "60/287\n",
      "90/287\n",
      "120/287\n",
      "150/287\n",
      "180/287\n",
      "210/287\n",
      "240/287\n",
      "270/287\n"
     ]
    },
    {
     "name": "stderr",
     "output_type": "stream",
     "text": [
      " 13%|█▎        | 53/400 [05:53<38:35,  6.67s/it, loss=9.354]"
     ]
    },
    {
     "name": "stdout",
     "output_type": "stream",
     "text": [
      "0/287\n",
      "30/287\n",
      "60/287\n",
      "90/287\n",
      "120/287\n",
      "150/287\n",
      "180/287\n",
      "210/287\n",
      "240/287\n",
      "270/287\n"
     ]
    },
    {
     "name": "stderr",
     "output_type": "stream",
     "text": [
      " 14%|█▎        | 54/400 [05:59<38:21,  6.65s/it, loss=8.826]"
     ]
    },
    {
     "name": "stdout",
     "output_type": "stream",
     "text": [
      "0/287\n",
      "30/287\n",
      "60/287\n",
      "90/287\n",
      "120/287\n",
      "150/287\n",
      "180/287\n",
      "210/287\n",
      "240/287\n",
      "270/287\n"
     ]
    },
    {
     "name": "stderr",
     "output_type": "stream",
     "text": [
      " 14%|█▍        | 55/400 [06:06<38:13,  6.65s/it, loss=8.666]"
     ]
    },
    {
     "name": "stdout",
     "output_type": "stream",
     "text": [
      "0/287\n",
      "30/287\n",
      "60/287\n",
      "90/287\n",
      "120/287\n",
      "150/287\n",
      "180/287\n",
      "210/287\n",
      "240/287\n",
      "270/287\n"
     ]
    },
    {
     "name": "stderr",
     "output_type": "stream",
     "text": [
      " 14%|█▍        | 56/400 [06:13<38:09,  6.65s/it, loss=8.624]"
     ]
    },
    {
     "name": "stdout",
     "output_type": "stream",
     "text": [
      "0/287\n",
      "30/287\n",
      "60/287\n",
      "90/287\n",
      "120/287\n",
      "150/287\n",
      "180/287\n",
      "210/287\n",
      "240/287\n",
      "270/287\n"
     ]
    },
    {
     "name": "stderr",
     "output_type": "stream",
     "text": [
      " 14%|█▍        | 57/400 [06:19<38:01,  6.65s/it, loss=8.094]"
     ]
    },
    {
     "name": "stdout",
     "output_type": "stream",
     "text": [
      "0/287\n",
      "30/287\n",
      "60/287\n",
      "90/287\n",
      "120/287\n",
      "150/287\n",
      "180/287\n",
      "210/287\n",
      "240/287\n",
      "270/287\n"
     ]
    },
    {
     "name": "stderr",
     "output_type": "stream",
     "text": [
      " 14%|█▍        | 58/400 [06:26<37:58,  6.66s/it, loss=9.317]"
     ]
    },
    {
     "name": "stdout",
     "output_type": "stream",
     "text": [
      "0/287\n",
      "30/287\n",
      "60/287\n",
      "90/287\n",
      "120/287\n",
      "150/287\n",
      "180/287\n",
      "210/287\n",
      "240/287\n",
      "270/287\n"
     ]
    },
    {
     "name": "stderr",
     "output_type": "stream",
     "text": [
      " 15%|█▍        | 59/400 [06:33<37:47,  6.65s/it, loss=7.625]"
     ]
    },
    {
     "name": "stdout",
     "output_type": "stream",
     "text": [
      "0/287\n",
      "30/287\n",
      "60/287\n",
      "90/287\n",
      "120/287\n",
      "150/287\n",
      "180/287\n",
      "210/287\n",
      "240/287\n",
      "270/287\n"
     ]
    },
    {
     "name": "stderr",
     "output_type": "stream",
     "text": [
      " 15%|█▌        | 60/400 [06:39<37:40,  6.65s/it, loss=7.588]"
     ]
    },
    {
     "name": "stdout",
     "output_type": "stream",
     "text": [
      "0/287\n",
      "30/287\n",
      "60/287\n",
      "90/287\n",
      "120/287\n",
      "150/287\n",
      "180/287\n",
      "210/287\n",
      "240/287\n",
      "270/287\n"
     ]
    },
    {
     "name": "stderr",
     "output_type": "stream",
     "text": [
      " 15%|█▌        | 61/400 [06:46<37:44,  6.68s/it, loss=7.450]"
     ]
    },
    {
     "name": "stdout",
     "output_type": "stream",
     "text": [
      "0/287\n",
      "30/287\n",
      "60/287\n",
      "90/287\n",
      "120/287\n",
      "150/287\n",
      "180/287\n",
      "210/287\n",
      "240/287\n",
      "270/287\n"
     ]
    },
    {
     "name": "stderr",
     "output_type": "stream",
     "text": [
      " 16%|█▌        | 62/400 [06:53<37:36,  6.68s/it, loss=7.308]"
     ]
    },
    {
     "name": "stdout",
     "output_type": "stream",
     "text": [
      "0/287\n",
      "30/287\n",
      "60/287\n",
      "90/287\n",
      "120/287\n",
      "150/287\n",
      "180/287\n",
      "210/287\n",
      "240/287\n",
      "270/287\n"
     ]
    },
    {
     "name": "stderr",
     "output_type": "stream",
     "text": [
      " 16%|█▌        | 63/400 [06:59<37:30,  6.68s/it, loss=6.957]"
     ]
    },
    {
     "name": "stdout",
     "output_type": "stream",
     "text": [
      "0/287\n",
      "30/287\n",
      "60/287\n",
      "90/287\n",
      "120/287\n",
      "150/287\n",
      "180/287\n",
      "210/287\n",
      "240/287\n",
      "270/287\n"
     ]
    },
    {
     "name": "stderr",
     "output_type": "stream",
     "text": [
      " 16%|█▌        | 64/400 [07:06<37:23,  6.68s/it, loss=6.925]"
     ]
    },
    {
     "name": "stdout",
     "output_type": "stream",
     "text": [
      "0/287\n",
      "30/287\n",
      "60/287\n",
      "90/287\n",
      "120/287\n",
      "150/287\n",
      "180/287\n",
      "210/287\n",
      "240/287\n",
      "270/287\n"
     ]
    },
    {
     "name": "stderr",
     "output_type": "stream",
     "text": [
      " 16%|█▋        | 65/400 [07:13<37:08,  6.65s/it, loss=7.736]"
     ]
    },
    {
     "name": "stdout",
     "output_type": "stream",
     "text": [
      "0/287\n",
      "30/287\n",
      "60/287\n",
      "90/287\n",
      "120/287\n",
      "150/287\n",
      "180/287\n",
      "210/287\n",
      "240/287\n",
      "270/287\n"
     ]
    },
    {
     "name": "stderr",
     "output_type": "stream",
     "text": [
      " 16%|█▋        | 66/400 [07:19<37:03,  6.66s/it, loss=8.117]"
     ]
    },
    {
     "name": "stdout",
     "output_type": "stream",
     "text": [
      "0/287\n",
      "30/287\n",
      "60/287\n",
      "90/287\n",
      "120/287\n",
      "150/287\n",
      "180/287\n",
      "210/287\n",
      "240/287\n",
      "270/287\n"
     ]
    },
    {
     "name": "stderr",
     "output_type": "stream",
     "text": [
      " 17%|█▋        | 67/400 [07:26<37:03,  6.68s/it, loss=6.995]"
     ]
    },
    {
     "name": "stdout",
     "output_type": "stream",
     "text": [
      "0/287\n",
      "30/287\n",
      "60/287\n",
      "90/287\n",
      "120/287\n",
      "150/287\n",
      "180/287\n",
      "210/287\n",
      "240/287\n",
      "270/287\n"
     ]
    },
    {
     "name": "stderr",
     "output_type": "stream",
     "text": [
      " 17%|█▋        | 68/400 [07:33<37:04,  6.70s/it, loss=6.664]"
     ]
    },
    {
     "name": "stdout",
     "output_type": "stream",
     "text": [
      "0/287\n",
      "30/287\n",
      "60/287\n",
      "90/287\n",
      "120/287\n",
      "150/287\n",
      "180/287\n",
      "210/287\n",
      "240/287\n",
      "270/287\n"
     ]
    },
    {
     "name": "stderr",
     "output_type": "stream",
     "text": [
      " 17%|█▋        | 69/400 [07:39<36:54,  6.69s/it, loss=7.172]"
     ]
    },
    {
     "name": "stdout",
     "output_type": "stream",
     "text": [
      "0/287\n",
      "30/287\n",
      "60/287\n",
      "90/287\n",
      "120/287\n",
      "150/287\n",
      "180/287\n",
      "210/287\n",
      "240/287\n",
      "270/287\n"
     ]
    },
    {
     "name": "stderr",
     "output_type": "stream",
     "text": [
      " 18%|█▊        | 70/400 [07:46<36:40,  6.67s/it, loss=7.858]"
     ]
    },
    {
     "name": "stdout",
     "output_type": "stream",
     "text": [
      "0/287\n",
      "30/287\n",
      "60/287\n",
      "90/287\n",
      "120/287\n",
      "150/287\n",
      "180/287\n",
      "210/287\n",
      "240/287\n",
      "270/287\n"
     ]
    },
    {
     "name": "stderr",
     "output_type": "stream",
     "text": [
      " 18%|█▊        | 71/400 [07:53<36:39,  6.68s/it, loss=7.267]"
     ]
    },
    {
     "name": "stdout",
     "output_type": "stream",
     "text": [
      "0/287\n",
      "30/287\n",
      "60/287\n",
      "90/287\n",
      "120/287\n",
      "150/287\n",
      "180/287\n",
      "210/287\n",
      "240/287\n",
      "270/287\n"
     ]
    },
    {
     "name": "stderr",
     "output_type": "stream",
     "text": [
      " 18%|█▊        | 72/400 [07:59<36:33,  6.69s/it, loss=6.231]"
     ]
    },
    {
     "name": "stdout",
     "output_type": "stream",
     "text": [
      "0/287\n",
      "30/287\n",
      "60/287\n",
      "90/287\n",
      "120/287\n",
      "150/287\n",
      "180/287\n",
      "210/287\n",
      "240/287\n",
      "270/287\n"
     ]
    },
    {
     "name": "stderr",
     "output_type": "stream",
     "text": [
      " 18%|█▊        | 73/400 [08:06<36:30,  6.70s/it, loss=5.986]"
     ]
    },
    {
     "name": "stdout",
     "output_type": "stream",
     "text": [
      "0/287\n",
      "30/287\n",
      "60/287\n",
      "90/287\n",
      "120/287\n",
      "150/287\n",
      "180/287\n",
      "210/287\n",
      "240/287\n",
      "270/287\n"
     ]
    },
    {
     "name": "stderr",
     "output_type": "stream",
     "text": [
      " 18%|█▊        | 74/400 [08:13<36:21,  6.69s/it, loss=6.284]"
     ]
    },
    {
     "name": "stdout",
     "output_type": "stream",
     "text": [
      "0/287\n",
      "30/287\n",
      "60/287\n",
      "90/287\n",
      "120/287\n",
      "150/287\n",
      "180/287\n",
      "210/287\n",
      "240/287\n",
      "270/287\n"
     ]
    },
    {
     "name": "stderr",
     "output_type": "stream",
     "text": [
      " 19%|█▉        | 75/400 [08:20<36:13,  6.69s/it, loss=6.121]"
     ]
    },
    {
     "name": "stdout",
     "output_type": "stream",
     "text": [
      "0/287\n",
      "30/287\n",
      "60/287\n",
      "90/287\n",
      "120/287\n",
      "150/287\n",
      "180/287\n",
      "210/287\n",
      "240/287\n",
      "270/287\n"
     ]
    },
    {
     "name": "stderr",
     "output_type": "stream",
     "text": [
      " 19%|█▉        | 76/400 [08:26<36:13,  6.71s/it, loss=7.398]"
     ]
    },
    {
     "name": "stdout",
     "output_type": "stream",
     "text": [
      "0/287\n",
      "30/287\n",
      "60/287\n",
      "90/287\n",
      "120/287\n",
      "150/287\n",
      "180/287\n",
      "210/287\n",
      "240/287\n",
      "270/287\n"
     ]
    },
    {
     "name": "stderr",
     "output_type": "stream",
     "text": [
      " 19%|█▉        | 77/400 [08:33<36:07,  6.71s/it, loss=6.113]"
     ]
    },
    {
     "name": "stdout",
     "output_type": "stream",
     "text": [
      "0/287\n",
      "30/287\n",
      "60/287\n",
      "90/287\n",
      "120/287\n",
      "150/287\n",
      "180/287\n",
      "210/287\n",
      "240/287\n",
      "270/287\n"
     ]
    },
    {
     "name": "stderr",
     "output_type": "stream",
     "text": [
      " 20%|█▉        | 78/400 [08:40<35:55,  6.69s/it, loss=5.898]"
     ]
    },
    {
     "name": "stdout",
     "output_type": "stream",
     "text": [
      "0/287\n",
      "30/287\n",
      "60/287\n",
      "90/287\n",
      "120/287\n",
      "150/287\n",
      "180/287\n",
      "210/287\n",
      "240/287\n",
      "270/287\n"
     ]
    },
    {
     "name": "stderr",
     "output_type": "stream",
     "text": [
      " 20%|█▉        | 79/400 [08:46<35:42,  6.67s/it, loss=5.717]"
     ]
    },
    {
     "name": "stdout",
     "output_type": "stream",
     "text": [
      "0/287\n",
      "30/287\n",
      "60/287\n",
      "90/287\n",
      "120/287\n",
      "150/287\n",
      "180/287\n",
      "210/287\n",
      "240/287\n",
      "270/287\n"
     ]
    },
    {
     "name": "stderr",
     "output_type": "stream",
     "text": [
      " 20%|██        | 80/400 [08:53<35:35,  6.67s/it, loss=10.388]"
     ]
    },
    {
     "name": "stdout",
     "output_type": "stream",
     "text": [
      "0/287\n",
      "30/287\n",
      "60/287\n",
      "90/287\n",
      "120/287\n",
      "150/287\n",
      "180/287\n",
      "210/287\n",
      "240/287\n",
      "270/287\n"
     ]
    },
    {
     "name": "stderr",
     "output_type": "stream",
     "text": [
      " 20%|██        | 81/400 [09:00<35:31,  6.68s/it, loss=8.808]"
     ]
    },
    {
     "name": "stdout",
     "output_type": "stream",
     "text": [
      "0/287\n",
      "30/287\n",
      "60/287\n",
      "90/287\n",
      "120/287\n",
      "150/287\n",
      "180/287\n",
      "210/287\n",
      "240/287\n",
      "270/287\n"
     ]
    },
    {
     "name": "stderr",
     "output_type": "stream",
     "text": [
      " 20%|██        | 82/400 [09:06<35:26,  6.69s/it, loss=9.339]"
     ]
    },
    {
     "name": "stdout",
     "output_type": "stream",
     "text": [
      "0/287\n",
      "30/287\n",
      "60/287\n",
      "90/287\n",
      "120/287\n",
      "150/287\n",
      "180/287\n",
      "210/287\n",
      "240/287\n",
      "270/287\n"
     ]
    },
    {
     "name": "stderr",
     "output_type": "stream",
     "text": [
      " 21%|██        | 83/400 [09:13<35:14,  6.67s/it, loss=7.482]"
     ]
    },
    {
     "name": "stdout",
     "output_type": "stream",
     "text": [
      "0/287\n",
      "30/287\n",
      "60/287\n",
      "90/287\n",
      "120/287\n",
      "150/287\n",
      "180/287\n",
      "210/287\n",
      "240/287\n",
      "270/287\n"
     ]
    },
    {
     "name": "stderr",
     "output_type": "stream",
     "text": [
      " 21%|██        | 84/400 [09:20<35:09,  6.68s/it, loss=6.857]"
     ]
    },
    {
     "name": "stdout",
     "output_type": "stream",
     "text": [
      "0/287\n",
      "30/287\n",
      "60/287\n",
      "90/287\n",
      "120/287\n",
      "150/287\n",
      "180/287\n",
      "210/287\n",
      "240/287\n",
      "270/287\n"
     ]
    },
    {
     "name": "stderr",
     "output_type": "stream",
     "text": [
      " 21%|██▏       | 85/400 [09:26<35:06,  6.69s/it, loss=6.659]"
     ]
    },
    {
     "name": "stdout",
     "output_type": "stream",
     "text": [
      "0/287\n",
      "30/287\n",
      "60/287\n",
      "90/287\n",
      "120/287\n",
      "150/287\n",
      "180/287\n",
      "210/287\n",
      "240/287\n",
      "270/287\n"
     ]
    },
    {
     "name": "stderr",
     "output_type": "stream",
     "text": [
      " 22%|██▏       | 86/400 [09:33<35:09,  6.72s/it, loss=13.512]"
     ]
    },
    {
     "name": "stdout",
     "output_type": "stream",
     "text": [
      "0/287\n",
      "30/287\n",
      "60/287\n",
      "90/287\n",
      "120/287\n",
      "150/287\n",
      "180/287\n",
      "210/287\n",
      "240/287\n",
      "270/287\n"
     ]
    },
    {
     "name": "stderr",
     "output_type": "stream",
     "text": [
      " 22%|██▏       | 87/400 [09:40<34:58,  6.70s/it, loss=15.620]"
     ]
    },
    {
     "name": "stdout",
     "output_type": "stream",
     "text": [
      "0/287\n",
      "30/287\n",
      "60/287\n",
      "90/287\n",
      "120/287\n",
      "150/287\n",
      "180/287\n",
      "210/287\n",
      "240/287\n",
      "270/287\n"
     ]
    },
    {
     "name": "stderr",
     "output_type": "stream",
     "text": [
      " 22%|██▏       | 88/400 [09:47<34:54,  6.71s/it, loss=14.445]"
     ]
    },
    {
     "name": "stdout",
     "output_type": "stream",
     "text": [
      "0/287\n",
      "30/287\n",
      "60/287\n",
      "90/287\n",
      "120/287\n",
      "150/287\n",
      "180/287\n",
      "210/287\n",
      "240/287\n",
      "270/287\n"
     ]
    },
    {
     "name": "stderr",
     "output_type": "stream",
     "text": [
      " 22%|██▏       | 89/400 [09:53<34:39,  6.69s/it, loss=13.848]"
     ]
    },
    {
     "name": "stdout",
     "output_type": "stream",
     "text": [
      "0/287\n",
      "30/287\n",
      "60/287\n",
      "90/287\n",
      "120/287\n",
      "150/287\n",
      "180/287\n",
      "210/287\n",
      "240/287\n",
      "270/287\n"
     ]
    },
    {
     "name": "stderr",
     "output_type": "stream",
     "text": [
      " 22%|██▎       | 90/400 [10:00<34:29,  6.68s/it, loss=12.751]"
     ]
    },
    {
     "name": "stdout",
     "output_type": "stream",
     "text": [
      "0/287\n",
      "30/287\n",
      "60/287\n",
      "90/287\n",
      "120/287\n",
      "150/287\n",
      "180/287\n",
      "210/287\n",
      "240/287\n",
      "270/287\n"
     ]
    },
    {
     "name": "stderr",
     "output_type": "stream",
     "text": [
      " 23%|██▎       | 91/400 [10:07<34:23,  6.68s/it, loss=12.151]"
     ]
    },
    {
     "name": "stdout",
     "output_type": "stream",
     "text": [
      "0/287\n",
      "30/287\n",
      "60/287\n",
      "90/287\n",
      "120/287\n",
      "150/287\n",
      "180/287\n",
      "210/287\n",
      "240/287\n",
      "270/287\n"
     ]
    },
    {
     "name": "stderr",
     "output_type": "stream",
     "text": [
      " 23%|██▎       | 92/400 [10:13<34:13,  6.67s/it, loss=11.862]"
     ]
    },
    {
     "name": "stdout",
     "output_type": "stream",
     "text": [
      "0/287\n",
      "30/287\n",
      "60/287\n",
      "90/287\n",
      "120/287\n",
      "150/287\n",
      "180/287\n",
      "210/287\n",
      "240/287\n",
      "270/287\n"
     ]
    },
    {
     "name": "stderr",
     "output_type": "stream",
     "text": [
      " 23%|██▎       | 93/400 [10:20<34:06,  6.67s/it, loss=11.256]"
     ]
    },
    {
     "name": "stdout",
     "output_type": "stream",
     "text": [
      "0/287\n",
      "30/287\n",
      "60/287\n",
      "90/287\n",
      "120/287\n",
      "150/287\n",
      "180/287\n",
      "210/287\n",
      "240/287\n",
      "270/287\n"
     ]
    },
    {
     "name": "stderr",
     "output_type": "stream",
     "text": [
      " 24%|██▎       | 94/400 [10:26<33:57,  6.66s/it, loss=15.322]"
     ]
    },
    {
     "name": "stdout",
     "output_type": "stream",
     "text": [
      "0/287\n",
      "30/287\n",
      "60/287\n",
      "90/287\n",
      "120/287\n",
      "150/287\n",
      "180/287\n",
      "210/287\n",
      "240/287\n",
      "270/287\n"
     ]
    },
    {
     "name": "stderr",
     "output_type": "stream",
     "text": [
      " 24%|██▍       | 95/400 [10:33<33:55,  6.68s/it, loss=14.980]"
     ]
    },
    {
     "name": "stdout",
     "output_type": "stream",
     "text": [
      "0/287\n",
      "30/287\n",
      "60/287\n",
      "90/287\n",
      "120/287\n",
      "150/287\n",
      "180/287\n",
      "210/287\n",
      "240/287\n",
      "270/287\n"
     ]
    },
    {
     "name": "stderr",
     "output_type": "stream",
     "text": [
      " 24%|██▍       | 96/400 [10:40<33:45,  6.66s/it, loss=14.196]"
     ]
    },
    {
     "name": "stdout",
     "output_type": "stream",
     "text": [
      "0/287\n",
      "30/287\n",
      "60/287\n",
      "90/287\n",
      "120/287\n",
      "150/287\n",
      "180/287\n",
      "210/287\n",
      "240/287\n",
      "270/287\n"
     ]
    },
    {
     "name": "stderr",
     "output_type": "stream",
     "text": [
      " 24%|██▍       | 97/400 [10:47<33:40,  6.67s/it, loss=13.610]"
     ]
    },
    {
     "name": "stdout",
     "output_type": "stream",
     "text": [
      "0/287\n",
      "30/287\n",
      "60/287\n",
      "90/287\n",
      "120/287\n",
      "150/287\n",
      "180/287\n",
      "210/287\n",
      "240/287\n",
      "270/287\n"
     ]
    },
    {
     "name": "stderr",
     "output_type": "stream",
     "text": [
      " 24%|██▍       | 98/400 [10:53<33:31,  6.66s/it, loss=13.939]"
     ]
    },
    {
     "name": "stdout",
     "output_type": "stream",
     "text": [
      "0/287\n",
      "30/287\n",
      "60/287\n",
      "90/287\n",
      "120/287\n",
      "150/287\n",
      "180/287\n",
      "210/287\n",
      "240/287\n",
      "270/287\n"
     ]
    },
    {
     "name": "stderr",
     "output_type": "stream",
     "text": [
      " 25%|██▍       | 99/400 [11:00<33:27,  6.67s/it, loss=12.998]"
     ]
    },
    {
     "name": "stdout",
     "output_type": "stream",
     "text": [
      "0/287\n",
      "30/287\n",
      "60/287\n",
      "90/287\n",
      "120/287\n",
      "150/287\n",
      "180/287\n",
      "210/287\n",
      "240/287\n",
      "270/287\n"
     ]
    },
    {
     "name": "stderr",
     "output_type": "stream",
     "text": [
      " 25%|██▌       | 100/400 [11:07<33:27,  6.69s/it, loss=12.444]"
     ]
    },
    {
     "name": "stdout",
     "output_type": "stream",
     "text": [
      "0/287\n",
      "30/287\n",
      "60/287\n",
      "90/287\n",
      "120/287\n",
      "150/287\n",
      "180/287\n",
      "210/287\n",
      "240/287\n",
      "270/287\n"
     ]
    },
    {
     "name": "stderr",
     "output_type": "stream",
     "text": [
      " 25%|██▌       | 101/400 [11:13<33:17,  6.68s/it, loss=12.593]"
     ]
    },
    {
     "name": "stdout",
     "output_type": "stream",
     "text": [
      "0/287\n",
      "30/287\n",
      "60/287\n",
      "90/287\n",
      "120/287\n",
      "150/287\n",
      "180/287\n",
      "210/287\n",
      "240/287\n",
      "270/287\n"
     ]
    },
    {
     "name": "stderr",
     "output_type": "stream",
     "text": [
      " 26%|██▌       | 102/400 [11:20<33:05,  6.66s/it, loss=12.123]"
     ]
    },
    {
     "name": "stdout",
     "output_type": "stream",
     "text": [
      "0/287\n",
      "30/287\n",
      "60/287\n",
      "90/287\n",
      "120/287\n",
      "150/287\n",
      "180/287\n",
      "210/287\n",
      "240/287\n",
      "270/287\n"
     ]
    },
    {
     "name": "stderr",
     "output_type": "stream",
     "text": [
      " 26%|██▌       | 103/400 [11:26<32:55,  6.65s/it, loss=12.209]"
     ]
    },
    {
     "name": "stdout",
     "output_type": "stream",
     "text": [
      "0/287\n",
      "30/287\n",
      "60/287\n",
      "90/287\n",
      "120/287\n",
      "150/287\n",
      "180/287\n",
      "210/287\n",
      "240/287\n",
      "270/287\n"
     ]
    },
    {
     "name": "stderr",
     "output_type": "stream",
     "text": [
      " 26%|██▌       | 104/400 [11:33<32:54,  6.67s/it, loss=11.625]"
     ]
    },
    {
     "name": "stdout",
     "output_type": "stream",
     "text": [
      "0/287\n",
      "30/287\n",
      "60/287\n",
      "90/287\n",
      "120/287\n",
      "150/287\n",
      "180/287\n",
      "210/287\n",
      "240/287\n",
      "270/287\n"
     ]
    },
    {
     "name": "stderr",
     "output_type": "stream",
     "text": [
      " 26%|██▋       | 105/400 [11:40<32:49,  6.68s/it, loss=11.321]"
     ]
    },
    {
     "name": "stdout",
     "output_type": "stream",
     "text": [
      "0/287\n",
      "30/287\n",
      "60/287\n",
      "90/287\n",
      "120/287\n",
      "150/287\n",
      "180/287\n",
      "210/287\n",
      "240/287\n",
      "270/287\n"
     ]
    },
    {
     "name": "stderr",
     "output_type": "stream",
     "text": [
      " 26%|██▋       | 106/400 [11:47<32:45,  6.69s/it, loss=11.038]"
     ]
    },
    {
     "name": "stdout",
     "output_type": "stream",
     "text": [
      "0/287\n",
      "30/287\n",
      "60/287\n",
      "90/287\n",
      "120/287\n",
      "150/287\n",
      "180/287\n",
      "210/287\n",
      "240/287\n",
      "270/287\n"
     ]
    },
    {
     "name": "stderr",
     "output_type": "stream",
     "text": [
      " 27%|██▋       | 107/400 [11:53<32:35,  6.67s/it, loss=10.992]"
     ]
    },
    {
     "name": "stdout",
     "output_type": "stream",
     "text": [
      "0/287\n",
      "30/287\n",
      "60/287\n",
      "90/287\n",
      "120/287\n",
      "150/287\n",
      "180/287\n",
      "210/287\n",
      "240/287\n",
      "270/287\n"
     ]
    },
    {
     "name": "stderr",
     "output_type": "stream",
     "text": [
      " 27%|██▋       | 108/400 [12:00<32:22,  6.65s/it, loss=10.649]"
     ]
    },
    {
     "name": "stdout",
     "output_type": "stream",
     "text": [
      "0/287\n",
      "30/287\n",
      "60/287\n",
      "90/287\n",
      "120/287\n",
      "150/287\n",
      "180/287\n",
      "210/287\n",
      "240/287\n",
      "270/287\n"
     ]
    },
    {
     "name": "stderr",
     "output_type": "stream",
     "text": [
      " 27%|██▋       | 109/400 [12:07<32:17,  6.66s/it, loss=12.063]"
     ]
    },
    {
     "name": "stdout",
     "output_type": "stream",
     "text": [
      "0/287\n",
      "30/287\n",
      "60/287\n",
      "90/287\n",
      "120/287\n",
      "150/287\n",
      "180/287\n",
      "210/287\n",
      "240/287\n",
      "270/287\n"
     ]
    },
    {
     "name": "stderr",
     "output_type": "stream",
     "text": [
      " 28%|██▊       | 110/400 [12:13<32:12,  6.66s/it, loss=11.136]"
     ]
    },
    {
     "name": "stdout",
     "output_type": "stream",
     "text": [
      "0/287\n",
      "30/287\n",
      "60/287\n",
      "90/287\n",
      "120/287\n",
      "150/287\n",
      "180/287\n",
      "210/287\n",
      "240/287\n",
      "270/287\n"
     ]
    },
    {
     "name": "stderr",
     "output_type": "stream",
     "text": [
      " 28%|██▊       | 111/400 [12:20<32:07,  6.67s/it, loss=10.754]"
     ]
    },
    {
     "name": "stdout",
     "output_type": "stream",
     "text": [
      "0/287\n",
      "30/287\n",
      "60/287\n",
      "90/287\n",
      "120/287\n",
      "150/287\n",
      "180/287\n",
      "210/287\n",
      "240/287\n",
      "270/287\n"
     ]
    },
    {
     "name": "stderr",
     "output_type": "stream",
     "text": [
      " 28%|██▊       | 112/400 [12:27<32:05,  6.68s/it, loss=10.586]"
     ]
    },
    {
     "name": "stdout",
     "output_type": "stream",
     "text": [
      "0/287\n",
      "30/287\n",
      "60/287\n",
      "90/287\n",
      "120/287\n",
      "150/287\n",
      "180/287\n",
      "210/287\n",
      "240/287\n",
      "270/287\n"
     ]
    },
    {
     "name": "stderr",
     "output_type": "stream",
     "text": [
      " 28%|██▊       | 113/400 [12:33<32:01,  6.70s/it, loss=10.328]"
     ]
    },
    {
     "name": "stdout",
     "output_type": "stream",
     "text": [
      "0/287\n",
      "30/287\n",
      "60/287\n",
      "90/287\n",
      "120/287\n",
      "150/287\n",
      "180/287\n",
      "210/287\n",
      "240/287\n",
      "270/287\n"
     ]
    },
    {
     "name": "stderr",
     "output_type": "stream",
     "text": [
      " 28%|██▊       | 114/400 [12:40<31:54,  6.70s/it, loss=10.700]"
     ]
    },
    {
     "name": "stdout",
     "output_type": "stream",
     "text": [
      "0/287\n",
      "30/287\n",
      "60/287\n",
      "90/287\n",
      "120/287\n",
      "150/287\n",
      "180/287\n",
      "210/287\n",
      "240/287\n",
      "270/287\n"
     ]
    },
    {
     "name": "stderr",
     "output_type": "stream",
     "text": [
      " 29%|██▉       | 115/400 [12:47<31:57,  6.73s/it, loss=9.899]"
     ]
    },
    {
     "name": "stdout",
     "output_type": "stream",
     "text": [
      "0/287\n",
      "30/287\n",
      "60/287\n",
      "90/287\n",
      "120/287\n",
      "150/287\n",
      "180/287\n",
      "210/287\n",
      "240/287\n",
      "270/287\n"
     ]
    },
    {
     "name": "stderr",
     "output_type": "stream",
     "text": [
      " 29%|██▉       | 116/400 [12:53<31:43,  6.70s/it, loss=9.659]"
     ]
    },
    {
     "name": "stdout",
     "output_type": "stream",
     "text": [
      "0/287\n",
      "30/287\n",
      "60/287\n",
      "90/287\n",
      "120/287\n",
      "150/287\n",
      "180/287\n",
      "210/287\n",
      "240/287\n",
      "270/287\n"
     ]
    },
    {
     "name": "stderr",
     "output_type": "stream",
     "text": [
      " 29%|██▉       | 117/400 [13:00<31:28,  6.67s/it, loss=10.233]"
     ]
    },
    {
     "name": "stdout",
     "output_type": "stream",
     "text": [
      "0/287\n",
      "30/287\n",
      "60/287\n",
      "90/287\n",
      "120/287\n",
      "150/287\n",
      "180/287\n",
      "210/287\n",
      "240/287\n",
      "270/287\n"
     ]
    },
    {
     "name": "stderr",
     "output_type": "stream",
     "text": [
      " 30%|██▉       | 118/400 [13:07<31:21,  6.67s/it, loss=9.590]"
     ]
    },
    {
     "name": "stdout",
     "output_type": "stream",
     "text": [
      "0/287\n",
      "30/287\n",
      "60/287\n",
      "90/287\n",
      "120/287\n",
      "150/287\n",
      "180/287\n",
      "210/287\n",
      "240/287\n",
      "270/287\n"
     ]
    },
    {
     "name": "stderr",
     "output_type": "stream",
     "text": [
      " 30%|██▉       | 119/400 [13:13<31:16,  6.68s/it, loss=9.647]"
     ]
    },
    {
     "name": "stdout",
     "output_type": "stream",
     "text": [
      "0/287\n",
      "30/287\n",
      "60/287\n",
      "90/287\n",
      "120/287\n",
      "150/287\n",
      "180/287\n",
      "210/287\n",
      "240/287\n",
      "270/287\n"
     ]
    },
    {
     "name": "stderr",
     "output_type": "stream",
     "text": [
      " 30%|███       | 120/400 [13:20<31:11,  6.68s/it, loss=9.301]"
     ]
    },
    {
     "name": "stdout",
     "output_type": "stream",
     "text": [
      "0/287\n",
      "30/287\n",
      "60/287\n",
      "90/287\n",
      "120/287\n",
      "150/287\n",
      "180/287\n",
      "210/287\n",
      "240/287\n",
      "270/287\n"
     ]
    },
    {
     "name": "stderr",
     "output_type": "stream",
     "text": [
      " 30%|███       | 121/400 [13:27<31:04,  6.68s/it, loss=9.523]"
     ]
    },
    {
     "name": "stdout",
     "output_type": "stream",
     "text": [
      "0/287\n",
      "30/287\n",
      "60/287\n",
      "90/287\n",
      "120/287\n",
      "150/287\n",
      "180/287\n",
      "210/287\n",
      "240/287\n",
      "270/287\n"
     ]
    },
    {
     "name": "stderr",
     "output_type": "stream",
     "text": [
      " 30%|███       | 122/400 [13:33<30:57,  6.68s/it, loss=9.184]"
     ]
    },
    {
     "name": "stdout",
     "output_type": "stream",
     "text": [
      "0/287\n",
      "30/287\n",
      "60/287\n",
      "90/287\n",
      "120/287\n",
      "150/287\n",
      "180/287\n",
      "210/287\n",
      "240/287\n",
      "270/287\n"
     ]
    },
    {
     "name": "stderr",
     "output_type": "stream",
     "text": [
      " 31%|███       | 123/400 [13:40<30:49,  6.68s/it, loss=9.530]"
     ]
    },
    {
     "name": "stdout",
     "output_type": "stream",
     "text": [
      "0/287\n",
      "30/287\n",
      "60/287\n",
      "90/287\n",
      "120/287\n",
      "150/287\n",
      "180/287\n",
      "210/287\n",
      "240/287\n",
      "270/287\n"
     ]
    },
    {
     "name": "stderr",
     "output_type": "stream",
     "text": [
      " 31%|███       | 124/400 [13:47<30:46,  6.69s/it, loss=9.162]"
     ]
    },
    {
     "name": "stdout",
     "output_type": "stream",
     "text": [
      "0/287\n",
      "30/287\n",
      "60/287\n",
      "90/287\n",
      "120/287\n",
      "150/287\n",
      "180/287\n",
      "210/287\n",
      "240/287\n",
      "270/287\n"
     ]
    },
    {
     "name": "stderr",
     "output_type": "stream",
     "text": [
      " 31%|███▏      | 125/400 [13:54<30:46,  6.71s/it, loss=8.952]"
     ]
    },
    {
     "name": "stdout",
     "output_type": "stream",
     "text": [
      "0/287\n",
      "30/287\n",
      "60/287\n",
      "90/287\n",
      "120/287\n",
      "150/287\n",
      "180/287\n",
      "210/287\n",
      "240/287\n",
      "270/287\n"
     ]
    },
    {
     "name": "stderr",
     "output_type": "stream",
     "text": [
      " 32%|███▏      | 126/400 [14:00<30:35,  6.70s/it, loss=8.842]"
     ]
    },
    {
     "name": "stdout",
     "output_type": "stream",
     "text": [
      "0/287\n",
      "30/287\n",
      "60/287\n",
      "90/287\n",
      "120/287\n",
      "150/287\n",
      "180/287\n",
      "210/287\n",
      "240/287\n",
      "270/287\n"
     ]
    },
    {
     "name": "stderr",
     "output_type": "stream",
     "text": [
      " 32%|███▏      | 127/400 [14:07<30:25,  6.69s/it, loss=8.899]"
     ]
    },
    {
     "name": "stdout",
     "output_type": "stream",
     "text": [
      "0/287\n",
      "30/287\n",
      "60/287\n",
      "90/287\n",
      "120/287\n",
      "150/287\n",
      "180/287\n",
      "210/287\n",
      "240/287\n",
      "270/287\n"
     ]
    },
    {
     "name": "stderr",
     "output_type": "stream",
     "text": [
      " 32%|███▏      | 128/400 [14:14<30:15,  6.68s/it, loss=9.184]"
     ]
    },
    {
     "name": "stdout",
     "output_type": "stream",
     "text": [
      "0/287\n",
      "30/287\n",
      "60/287\n",
      "90/287\n",
      "120/287\n",
      "150/287\n",
      "180/287\n",
      "210/287\n",
      "240/287\n",
      "270/287\n"
     ]
    },
    {
     "name": "stderr",
     "output_type": "stream",
     "text": [
      " 32%|███▏      | 129/400 [14:20<30:05,  6.66s/it, loss=10.581]"
     ]
    },
    {
     "name": "stdout",
     "output_type": "stream",
     "text": [
      "0/287\n",
      "30/287\n",
      "60/287\n",
      "90/287\n",
      "120/287\n",
      "150/287\n",
      "180/287\n",
      "210/287\n",
      "240/287\n",
      "270/287\n"
     ]
    },
    {
     "name": "stderr",
     "output_type": "stream",
     "text": [
      " 32%|███▎      | 130/400 [14:27<30:04,  6.68s/it, loss=9.607]"
     ]
    },
    {
     "name": "stdout",
     "output_type": "stream",
     "text": [
      "0/287\n",
      "30/287\n",
      "60/287\n",
      "90/287\n",
      "120/287\n",
      "150/287\n",
      "180/287\n",
      "210/287\n",
      "240/287\n",
      "270/287\n"
     ]
    },
    {
     "name": "stderr",
     "output_type": "stream",
     "text": [
      " 33%|███▎      | 131/400 [14:34<30:01,  6.70s/it, loss=8.981]"
     ]
    },
    {
     "name": "stdout",
     "output_type": "stream",
     "text": [
      "0/287\n",
      "30/287\n",
      "60/287\n",
      "90/287\n",
      "120/287\n",
      "150/287\n",
      "180/287\n",
      "210/287\n",
      "240/287\n",
      "270/287\n"
     ]
    },
    {
     "name": "stderr",
     "output_type": "stream",
     "text": [
      " 33%|███▎      | 132/400 [14:40<29:51,  6.69s/it, loss=8.668]"
     ]
    },
    {
     "name": "stdout",
     "output_type": "stream",
     "text": [
      "0/287\n",
      "30/287\n",
      "60/287\n",
      "90/287\n",
      "120/287\n",
      "150/287\n",
      "180/287\n",
      "210/287\n",
      "240/287\n",
      "270/287\n"
     ]
    },
    {
     "name": "stderr",
     "output_type": "stream",
     "text": [
      " 33%|███▎      | 133/400 [14:47<29:40,  6.67s/it, loss=8.798]"
     ]
    },
    {
     "name": "stdout",
     "output_type": "stream",
     "text": [
      "0/287\n",
      "30/287\n",
      "60/287\n",
      "90/287\n",
      "120/287\n",
      "150/287\n",
      "180/287\n",
      "210/287\n",
      "240/287\n",
      "270/287\n"
     ]
    },
    {
     "name": "stderr",
     "output_type": "stream",
     "text": [
      " 34%|███▎      | 134/400 [14:54<29:33,  6.67s/it, loss=8.583]"
     ]
    },
    {
     "name": "stdout",
     "output_type": "stream",
     "text": [
      "0/287\n",
      "30/287\n",
      "60/287\n",
      "90/287\n",
      "120/287\n",
      "150/287\n",
      "180/287\n",
      "210/287\n",
      "240/287\n",
      "270/287\n"
     ]
    },
    {
     "name": "stderr",
     "output_type": "stream",
     "text": [
      " 34%|███▍      | 135/400 [15:00<29:29,  6.68s/it, loss=8.321]"
     ]
    },
    {
     "name": "stdout",
     "output_type": "stream",
     "text": [
      "0/287\n",
      "30/287\n",
      "60/287\n",
      "90/287\n",
      "120/287\n",
      "150/287\n",
      "180/287\n",
      "210/287\n",
      "240/287\n",
      "270/287\n"
     ]
    },
    {
     "name": "stderr",
     "output_type": "stream",
     "text": [
      " 34%|███▍      | 136/400 [15:07<29:29,  6.70s/it, loss=8.680]"
     ]
    },
    {
     "name": "stdout",
     "output_type": "stream",
     "text": [
      "0/287\n",
      "30/287\n",
      "60/287\n",
      "90/287\n",
      "120/287\n",
      "150/287\n",
      "180/287\n",
      "210/287\n",
      "240/287\n",
      "270/287\n"
     ]
    },
    {
     "name": "stderr",
     "output_type": "stream",
     "text": [
      " 34%|███▍      | 137/400 [15:14<29:21,  6.70s/it, loss=8.434]"
     ]
    },
    {
     "name": "stdout",
     "output_type": "stream",
     "text": [
      "0/287\n",
      "30/287\n",
      "60/287\n",
      "90/287\n",
      "120/287\n",
      "150/287\n",
      "180/287\n",
      "210/287\n",
      "240/287\n",
      "270/287\n"
     ]
    },
    {
     "name": "stderr",
     "output_type": "stream",
     "text": [
      " 34%|███▍      | 138/400 [15:20<29:12,  6.69s/it, loss=8.620]"
     ]
    },
    {
     "name": "stdout",
     "output_type": "stream",
     "text": [
      "0/287\n",
      "30/287\n",
      "60/287\n",
      "90/287\n",
      "120/287\n",
      "150/287\n",
      "180/287\n",
      "210/287\n",
      "240/287\n",
      "270/287\n"
     ]
    },
    {
     "name": "stderr",
     "output_type": "stream",
     "text": [
      " 35%|███▍      | 139/400 [15:27<29:04,  6.68s/it, loss=8.303]"
     ]
    },
    {
     "name": "stdout",
     "output_type": "stream",
     "text": [
      "0/287\n",
      "30/287\n",
      "60/287\n",
      "90/287\n",
      "120/287\n",
      "150/287\n",
      "180/287\n",
      "210/287\n",
      "240/287\n",
      "270/287\n"
     ]
    },
    {
     "name": "stderr",
     "output_type": "stream",
     "text": [
      " 35%|███▌      | 140/400 [15:34<28:58,  6.69s/it, loss=8.099]"
     ]
    },
    {
     "name": "stdout",
     "output_type": "stream",
     "text": [
      "0/287\n",
      "30/287\n",
      "60/287\n",
      "90/287\n",
      "120/287\n",
      "150/287\n",
      "180/287\n",
      "210/287\n",
      "240/287\n",
      "270/287\n"
     ]
    },
    {
     "name": "stderr",
     "output_type": "stream",
     "text": [
      " 35%|███▌      | 141/400 [15:41<28:50,  6.68s/it, loss=8.029]"
     ]
    },
    {
     "name": "stdout",
     "output_type": "stream",
     "text": [
      "0/287\n",
      "30/287\n",
      "60/287\n",
      "90/287\n",
      "120/287\n",
      "150/287\n",
      "180/287\n",
      "210/287\n",
      "240/287\n",
      "270/287\n"
     ]
    },
    {
     "name": "stderr",
     "output_type": "stream",
     "text": [
      " 36%|███▌      | 142/400 [15:47<28:42,  6.68s/it, loss=8.246]"
     ]
    },
    {
     "name": "stdout",
     "output_type": "stream",
     "text": [
      "0/287\n",
      "30/287\n",
      "60/287\n",
      "90/287\n",
      "120/287\n",
      "150/287\n",
      "180/287\n",
      "210/287\n",
      "240/287\n",
      "270/287\n"
     ]
    },
    {
     "name": "stderr",
     "output_type": "stream",
     "text": [
      " 36%|███▌      | 143/400 [15:54<28:34,  6.67s/it, loss=8.116]"
     ]
    },
    {
     "name": "stdout",
     "output_type": "stream",
     "text": [
      "0/287\n",
      "30/287\n",
      "60/287\n",
      "90/287\n",
      "120/287\n",
      "150/287\n",
      "180/287\n",
      "210/287\n",
      "240/287\n",
      "270/287\n"
     ]
    },
    {
     "name": "stderr",
     "output_type": "stream",
     "text": [
      " 36%|███▌      | 144/400 [16:00<28:26,  6.67s/it, loss=7.955]"
     ]
    },
    {
     "name": "stdout",
     "output_type": "stream",
     "text": [
      "0/287\n",
      "30/287\n",
      "60/287\n",
      "90/287\n",
      "120/287\n",
      "150/287\n",
      "180/287\n",
      "210/287\n",
      "240/287\n",
      "270/287\n"
     ]
    },
    {
     "name": "stderr",
     "output_type": "stream",
     "text": [
      " 36%|███▋      | 145/400 [16:07<28:23,  6.68s/it, loss=17.732]"
     ]
    },
    {
     "name": "stdout",
     "output_type": "stream",
     "text": [
      "0/287\n",
      "30/287\n",
      "60/287\n",
      "90/287\n",
      "120/287\n",
      "150/287\n",
      "180/287\n",
      "210/287\n",
      "240/287\n",
      "270/287\n"
     ]
    },
    {
     "name": "stderr",
     "output_type": "stream",
     "text": [
      " 36%|███▋      | 146/400 [16:14<28:19,  6.69s/it, loss=14.790]"
     ]
    },
    {
     "name": "stdout",
     "output_type": "stream",
     "text": [
      "0/287\n",
      "30/287\n",
      "60/287\n",
      "90/287\n",
      "120/287\n",
      "150/287\n",
      "180/287\n",
      "210/287\n",
      "240/287\n",
      "270/287\n"
     ]
    },
    {
     "name": "stderr",
     "output_type": "stream",
     "text": [
      " 37%|███▋      | 147/400 [16:21<28:08,  6.67s/it, loss=13.836]"
     ]
    },
    {
     "name": "stdout",
     "output_type": "stream",
     "text": [
      "0/287\n",
      "30/287\n",
      "60/287\n",
      "90/287\n",
      "120/287\n",
      "150/287\n",
      "180/287\n",
      "210/287\n",
      "240/287\n",
      "270/287\n"
     ]
    },
    {
     "name": "stderr",
     "output_type": "stream",
     "text": [
      " 37%|███▋      | 148/400 [16:27<28:03,  6.68s/it, loss=13.610]"
     ]
    },
    {
     "name": "stdout",
     "output_type": "stream",
     "text": [
      "0/287\n",
      "30/287\n",
      "60/287\n",
      "90/287\n",
      "120/287\n",
      "150/287\n",
      "180/287\n",
      "210/287\n",
      "240/287\n",
      "270/287\n"
     ]
    },
    {
     "name": "stderr",
     "output_type": "stream",
     "text": [
      " 37%|███▋      | 149/400 [16:34<27:56,  6.68s/it, loss=13.102]"
     ]
    },
    {
     "name": "stdout",
     "output_type": "stream",
     "text": [
      "0/287\n",
      "30/287\n",
      "60/287\n",
      "90/287\n",
      "120/287\n",
      "150/287\n",
      "180/287\n",
      "210/287\n",
      "240/287\n",
      "270/287\n"
     ]
    },
    {
     "name": "stderr",
     "output_type": "stream",
     "text": [
      " 38%|███▊      | 150/400 [16:41<27:49,  6.68s/it, loss=12.623]"
     ]
    },
    {
     "name": "stdout",
     "output_type": "stream",
     "text": [
      "0/287\n",
      "30/287\n",
      "60/287\n",
      "90/287\n",
      "120/287\n",
      "150/287\n",
      "180/287\n",
      "210/287\n",
      "240/287\n",
      "270/287\n"
     ]
    },
    {
     "name": "stderr",
     "output_type": "stream",
     "text": [
      " 38%|███▊      | 151/400 [16:47<27:41,  6.67s/it, loss=12.559]"
     ]
    },
    {
     "name": "stdout",
     "output_type": "stream",
     "text": [
      "0/287\n",
      "30/287\n",
      "60/287\n",
      "90/287\n",
      "120/287\n",
      "150/287\n",
      "180/287\n",
      "210/287\n",
      "240/287\n",
      "270/287\n"
     ]
    },
    {
     "name": "stderr",
     "output_type": "stream",
     "text": [
      " 38%|███▊      | 152/400 [16:54<27:27,  6.64s/it, loss=12.226]"
     ]
    },
    {
     "name": "stdout",
     "output_type": "stream",
     "text": [
      "0/287\n",
      "30/287\n",
      "60/287\n",
      "90/287\n",
      "120/287\n",
      "150/287\n",
      "180/287\n",
      "210/287\n",
      "240/287\n",
      "270/287\n"
     ]
    },
    {
     "name": "stderr",
     "output_type": "stream",
     "text": [
      " 38%|███▊      | 153/400 [17:00<27:18,  6.64s/it, loss=11.904]"
     ]
    },
    {
     "name": "stdout",
     "output_type": "stream",
     "text": [
      "0/287\n",
      "30/287\n",
      "60/287\n",
      "90/287\n",
      "120/287\n",
      "150/287\n",
      "180/287\n",
      "210/287\n",
      "240/287\n",
      "270/287\n"
     ]
    },
    {
     "name": "stderr",
     "output_type": "stream",
     "text": [
      " 38%|███▊      | 154/400 [17:07<27:12,  6.64s/it, loss=11.574]"
     ]
    },
    {
     "name": "stdout",
     "output_type": "stream",
     "text": [
      "0/287\n",
      "30/287\n",
      "60/287\n",
      "90/287\n",
      "120/287\n",
      "150/287\n",
      "180/287\n",
      "210/287\n",
      "240/287\n",
      "270/287\n"
     ]
    },
    {
     "name": "stderr",
     "output_type": "stream",
     "text": [
      " 39%|███▉      | 155/400 [17:14<27:10,  6.65s/it, loss=11.236]"
     ]
    },
    {
     "name": "stdout",
     "output_type": "stream",
     "text": [
      "0/287\n",
      "30/287\n",
      "60/287\n",
      "90/287\n",
      "120/287\n",
      "150/287\n",
      "180/287\n",
      "210/287\n",
      "240/287\n",
      "270/287\n"
     ]
    },
    {
     "name": "stderr",
     "output_type": "stream",
     "text": [
      " 39%|███▉      | 156/400 [17:20<27:03,  6.65s/it, loss=11.586]"
     ]
    },
    {
     "name": "stdout",
     "output_type": "stream",
     "text": [
      "0/287\n",
      "30/287\n",
      "60/287\n",
      "90/287\n",
      "120/287\n",
      "150/287\n",
      "180/287\n",
      "210/287\n",
      "240/287\n",
      "270/287\n"
     ]
    },
    {
     "name": "stderr",
     "output_type": "stream",
     "text": [
      " 39%|███▉      | 157/400 [17:27<26:57,  6.65s/it, loss=10.988]"
     ]
    },
    {
     "name": "stdout",
     "output_type": "stream",
     "text": [
      "0/287\n",
      "30/287\n",
      "60/287\n",
      "90/287\n",
      "120/287\n",
      "150/287\n",
      "180/287\n",
      "210/287\n",
      "240/287\n",
      "270/287\n"
     ]
    },
    {
     "name": "stderr",
     "output_type": "stream",
     "text": [
      " 40%|███▉      | 158/400 [17:34<26:57,  6.68s/it, loss=17.619]"
     ]
    },
    {
     "name": "stdout",
     "output_type": "stream",
     "text": [
      "0/287\n",
      "30/287\n",
      "60/287\n",
      "90/287\n",
      "120/287\n",
      "150/287\n",
      "180/287\n",
      "210/287\n",
      "240/287\n",
      "270/287\n"
     ]
    },
    {
     "name": "stderr",
     "output_type": "stream",
     "text": [
      " 40%|███▉      | 159/400 [17:40<26:48,  6.67s/it, loss=16.213]"
     ]
    },
    {
     "name": "stdout",
     "output_type": "stream",
     "text": [
      "0/287\n",
      "30/287\n",
      "60/287\n",
      "90/287\n",
      "120/287\n",
      "150/287\n",
      "180/287\n",
      "210/287\n",
      "240/287\n",
      "270/287\n"
     ]
    },
    {
     "name": "stderr",
     "output_type": "stream",
     "text": [
      " 40%|████      | 160/400 [17:47<26:51,  6.72s/it, loss=15.548]"
     ]
    },
    {
     "name": "stdout",
     "output_type": "stream",
     "text": [
      "0/287\n",
      "30/287\n",
      "60/287\n",
      "90/287\n",
      "120/287\n",
      "150/287\n",
      "180/287\n",
      "210/287\n",
      "240/287\n",
      "270/287\n"
     ]
    },
    {
     "name": "stderr",
     "output_type": "stream",
     "text": [
      " 40%|████      | 161/400 [17:54<26:50,  6.74s/it, loss=15.226]"
     ]
    },
    {
     "name": "stdout",
     "output_type": "stream",
     "text": [
      "0/287\n",
      "30/287\n",
      "60/287\n",
      "90/287\n",
      "120/287\n",
      "150/287\n",
      "180/287\n",
      "210/287\n",
      "240/287\n",
      "270/287\n"
     ]
    },
    {
     "name": "stderr",
     "output_type": "stream",
     "text": [
      " 40%|████      | 162/400 [18:01<26:39,  6.72s/it, loss=14.843]"
     ]
    },
    {
     "name": "stdout",
     "output_type": "stream",
     "text": [
      "0/287\n",
      "30/287\n",
      "60/287\n",
      "90/287\n",
      "120/287\n",
      "150/287\n",
      "180/287\n",
      "210/287\n",
      "240/287\n",
      "270/287\n"
     ]
    },
    {
     "name": "stderr",
     "output_type": "stream",
     "text": [
      " 41%|████      | 163/400 [18:07<26:28,  6.70s/it, loss=14.782]"
     ]
    },
    {
     "name": "stdout",
     "output_type": "stream",
     "text": [
      "0/287\n",
      "30/287\n",
      "60/287\n",
      "90/287\n",
      "120/287\n",
      "150/287\n",
      "180/287\n",
      "210/287\n",
      "240/287\n",
      "270/287\n"
     ]
    },
    {
     "name": "stderr",
     "output_type": "stream",
     "text": [
      " 41%|████      | 164/400 [18:14<26:20,  6.70s/it, loss=14.399]"
     ]
    },
    {
     "name": "stdout",
     "output_type": "stream",
     "text": [
      "0/287\n",
      "30/287\n",
      "60/287\n",
      "90/287\n",
      "120/287\n",
      "150/287\n",
      "180/287\n",
      "210/287\n",
      "240/287\n",
      "270/287\n"
     ]
    },
    {
     "name": "stderr",
     "output_type": "stream",
     "text": [
      " 41%|████▏     | 165/400 [18:21<26:14,  6.70s/it, loss=13.766]"
     ]
    },
    {
     "name": "stdout",
     "output_type": "stream",
     "text": [
      "0/287\n",
      "30/287\n",
      "60/287\n",
      "90/287\n",
      "120/287\n",
      "150/287\n",
      "180/287\n",
      "210/287\n",
      "240/287\n",
      "270/287\n"
     ]
    },
    {
     "name": "stderr",
     "output_type": "stream",
     "text": [
      " 42%|████▏     | 166/400 [18:27<26:05,  6.69s/it, loss=13.790]"
     ]
    },
    {
     "name": "stdout",
     "output_type": "stream",
     "text": [
      "0/287\n",
      "30/287\n",
      "60/287\n",
      "90/287\n",
      "120/287\n",
      "150/287\n",
      "180/287\n",
      "210/287\n",
      "240/287\n",
      "270/287\n"
     ]
    },
    {
     "name": "stderr",
     "output_type": "stream",
     "text": [
      " 42%|████▏     | 167/400 [18:34<25:57,  6.68s/it, loss=13.783]"
     ]
    },
    {
     "name": "stdout",
     "output_type": "stream",
     "text": [
      "0/287\n",
      "30/287\n",
      "60/287\n",
      "90/287\n",
      "120/287\n",
      "150/287\n",
      "180/287\n",
      "210/287\n",
      "240/287\n",
      "270/287\n"
     ]
    },
    {
     "name": "stderr",
     "output_type": "stream",
     "text": [
      " 42%|████▏     | 168/400 [18:41<25:49,  6.68s/it, loss=13.610]"
     ]
    },
    {
     "name": "stdout",
     "output_type": "stream",
     "text": [
      "0/287\n",
      "30/287\n",
      "60/287\n",
      "90/287\n",
      "120/287\n",
      "150/287\n",
      "180/287\n",
      "210/287\n",
      "240/287\n",
      "270/287\n"
     ]
    },
    {
     "name": "stderr",
     "output_type": "stream",
     "text": [
      " 42%|████▏     | 169/400 [18:48<25:43,  6.68s/it, loss=13.058]"
     ]
    },
    {
     "name": "stdout",
     "output_type": "stream",
     "text": [
      "0/287\n",
      "30/287\n",
      "60/287\n",
      "90/287\n",
      "120/287\n",
      "150/287\n",
      "180/287\n",
      "210/287\n",
      "240/287\n",
      "270/287\n"
     ]
    },
    {
     "name": "stderr",
     "output_type": "stream",
     "text": [
      " 42%|████▎     | 170/400 [18:54<25:39,  6.69s/it, loss=13.110]"
     ]
    },
    {
     "name": "stdout",
     "output_type": "stream",
     "text": [
      "0/287\n",
      "30/287\n",
      "60/287\n",
      "90/287\n",
      "120/287\n",
      "150/287\n",
      "180/287\n",
      "210/287\n",
      "240/287\n",
      "270/287\n"
     ]
    },
    {
     "name": "stderr",
     "output_type": "stream",
     "text": [
      " 43%|████▎     | 171/400 [19:01<25:29,  6.68s/it, loss=12.638]"
     ]
    },
    {
     "name": "stdout",
     "output_type": "stream",
     "text": [
      "0/287\n",
      "30/287\n",
      "60/287\n",
      "90/287\n",
      "120/287\n",
      "150/287\n",
      "180/287\n",
      "210/287\n",
      "240/287\n",
      "270/287\n"
     ]
    },
    {
     "name": "stderr",
     "output_type": "stream",
     "text": [
      " 43%|████▎     | 172/400 [19:08<25:26,  6.69s/it, loss=12.705]"
     ]
    },
    {
     "name": "stdout",
     "output_type": "stream",
     "text": [
      "0/287\n",
      "30/287\n",
      "60/287\n",
      "90/287\n",
      "120/287\n",
      "150/287\n",
      "180/287\n",
      "210/287\n",
      "240/287\n",
      "270/287\n"
     ]
    },
    {
     "name": "stderr",
     "output_type": "stream",
     "text": [
      " 43%|████▎     | 173/400 [19:14<25:20,  6.70s/it, loss=13.418]"
     ]
    },
    {
     "name": "stdout",
     "output_type": "stream",
     "text": [
      "0/287\n",
      "30/287\n",
      "60/287\n",
      "90/287\n",
      "120/287\n",
      "150/287\n",
      "180/287\n",
      "210/287\n",
      "240/287\n",
      "270/287\n"
     ]
    },
    {
     "name": "stderr",
     "output_type": "stream",
     "text": [
      " 44%|████▎     | 174/400 [19:21<25:12,  6.69s/it, loss=13.089]"
     ]
    },
    {
     "name": "stdout",
     "output_type": "stream",
     "text": [
      "0/287\n",
      "30/287\n",
      "60/287\n",
      "90/287\n",
      "120/287\n",
      "150/287\n",
      "180/287\n",
      "210/287\n",
      "240/287\n",
      "270/287\n"
     ]
    },
    {
     "name": "stderr",
     "output_type": "stream",
     "text": [
      " 44%|████▍     | 175/400 [19:28<25:05,  6.69s/it, loss=12.775]"
     ]
    },
    {
     "name": "stdout",
     "output_type": "stream",
     "text": [
      "0/287\n",
      "30/287\n",
      "60/287\n",
      "90/287\n",
      "120/287\n",
      "150/287\n",
      "180/287\n",
      "210/287\n",
      "240/287\n",
      "270/287\n"
     ]
    },
    {
     "name": "stderr",
     "output_type": "stream",
     "text": [
      " 44%|████▍     | 176/400 [19:34<25:03,  6.71s/it, loss=12.399]"
     ]
    },
    {
     "name": "stdout",
     "output_type": "stream",
     "text": [
      "0/287\n",
      "30/287\n",
      "60/287\n",
      "90/287\n",
      "120/287\n",
      "150/287\n",
      "180/287\n",
      "210/287\n",
      "240/287\n",
      "270/287\n"
     ]
    },
    {
     "name": "stderr",
     "output_type": "stream",
     "text": [
      " 44%|████▍     | 177/400 [19:41<25:00,  6.73s/it, loss=12.207]"
     ]
    },
    {
     "name": "stdout",
     "output_type": "stream",
     "text": [
      "0/287\n",
      "30/287\n",
      "60/287\n",
      "90/287\n",
      "120/287\n",
      "150/287\n",
      "180/287\n",
      "210/287\n",
      "240/287\n",
      "270/287\n"
     ]
    },
    {
     "name": "stderr",
     "output_type": "stream",
     "text": [
      " 44%|████▍     | 178/400 [19:48<24:50,  6.71s/it, loss=12.246]"
     ]
    },
    {
     "name": "stdout",
     "output_type": "stream",
     "text": [
      "0/287\n",
      "30/287\n",
      "60/287\n",
      "90/287\n",
      "120/287\n",
      "150/287\n",
      "180/287\n",
      "210/287\n",
      "240/287\n",
      "270/287\n"
     ]
    },
    {
     "name": "stderr",
     "output_type": "stream",
     "text": [
      " 45%|████▍     | 179/400 [19:55<24:46,  6.73s/it, loss=12.376]"
     ]
    },
    {
     "name": "stdout",
     "output_type": "stream",
     "text": [
      "0/287\n",
      "30/287\n",
      "60/287\n",
      "90/287\n",
      "120/287\n",
      "150/287\n",
      "180/287\n",
      "210/287\n",
      "240/287\n",
      "270/287\n"
     ]
    },
    {
     "name": "stderr",
     "output_type": "stream",
     "text": [
      " 45%|████▌     | 180/400 [20:01<24:39,  6.73s/it, loss=11.869]"
     ]
    },
    {
     "name": "stdout",
     "output_type": "stream",
     "text": [
      "0/287\n",
      "30/287\n",
      "60/287\n",
      "90/287\n",
      "120/287\n",
      "150/287\n",
      "180/287\n",
      "210/287\n",
      "240/287\n",
      "270/287\n"
     ]
    },
    {
     "name": "stderr",
     "output_type": "stream",
     "text": [
      " 45%|████▌     | 181/400 [20:08<24:33,  6.73s/it, loss=14.631]"
     ]
    },
    {
     "name": "stdout",
     "output_type": "stream",
     "text": [
      "0/287\n",
      "30/287\n",
      "60/287\n",
      "90/287\n",
      "120/287\n",
      "150/287\n",
      "180/287\n",
      "210/287\n",
      "240/287\n",
      "270/287\n"
     ]
    },
    {
     "name": "stderr",
     "output_type": "stream",
     "text": [
      " 46%|████▌     | 182/400 [20:15<24:28,  6.73s/it, loss=13.627]"
     ]
    },
    {
     "name": "stdout",
     "output_type": "stream",
     "text": [
      "0/287\n",
      "30/287\n",
      "60/287\n",
      "90/287\n",
      "120/287\n",
      "150/287\n",
      "180/287\n",
      "210/287\n",
      "240/287\n",
      "270/287\n"
     ]
    },
    {
     "name": "stderr",
     "output_type": "stream",
     "text": [
      " 46%|████▌     | 183/400 [20:22<24:18,  6.72s/it, loss=13.310]"
     ]
    },
    {
     "name": "stdout",
     "output_type": "stream",
     "text": [
      "0/287\n",
      "30/287\n",
      "60/287\n",
      "90/287\n",
      "120/287\n",
      "150/287\n",
      "180/287\n",
      "210/287\n",
      "240/287\n",
      "270/287\n"
     ]
    },
    {
     "name": "stderr",
     "output_type": "stream",
     "text": [
      " 46%|████▌     | 184/400 [20:28<24:15,  6.74s/it, loss=13.372]"
     ]
    },
    {
     "name": "stdout",
     "output_type": "stream",
     "text": [
      "0/287\n",
      "30/287\n",
      "60/287\n",
      "90/287\n",
      "120/287\n",
      "150/287\n",
      "180/287\n",
      "210/287\n",
      "240/287\n",
      "270/287\n"
     ]
    },
    {
     "name": "stderr",
     "output_type": "stream",
     "text": [
      " 46%|████▋     | 185/400 [20:35<24:12,  6.76s/it, loss=14.794]"
     ]
    },
    {
     "name": "stdout",
     "output_type": "stream",
     "text": [
      "0/287\n",
      "30/287\n",
      "60/287\n",
      "90/287\n",
      "120/287\n",
      "150/287\n",
      "180/287\n",
      "210/287\n",
      "240/287\n",
      "270/287\n"
     ]
    },
    {
     "name": "stderr",
     "output_type": "stream",
     "text": [
      " 46%|████▋     | 186/400 [20:42<24:02,  6.74s/it, loss=13.785]"
     ]
    },
    {
     "name": "stdout",
     "output_type": "stream",
     "text": [
      "0/287\n",
      "30/287\n",
      "60/287\n",
      "90/287\n",
      "120/287\n",
      "150/287\n",
      "180/287\n",
      "210/287\n",
      "240/287\n",
      "270/287\n"
     ]
    },
    {
     "name": "stderr",
     "output_type": "stream",
     "text": [
      " 47%|████▋     | 187/400 [20:49<23:52,  6.73s/it, loss=13.428]"
     ]
    },
    {
     "name": "stdout",
     "output_type": "stream",
     "text": [
      "0/287\n",
      "30/287\n",
      "60/287\n",
      "90/287\n",
      "120/287\n",
      "150/287\n",
      "180/287\n",
      "210/287\n",
      "240/287\n",
      "270/287\n"
     ]
    },
    {
     "name": "stderr",
     "output_type": "stream",
     "text": [
      " 47%|████▋     | 188/400 [20:55<23:44,  6.72s/it, loss=13.030]"
     ]
    },
    {
     "name": "stdout",
     "output_type": "stream",
     "text": [
      "0/287\n",
      "30/287\n",
      "60/287\n",
      "90/287\n",
      "120/287\n",
      "150/287\n",
      "180/287\n",
      "210/287\n",
      "240/287\n",
      "270/287\n"
     ]
    },
    {
     "name": "stderr",
     "output_type": "stream",
     "text": [
      " 47%|████▋     | 189/400 [21:02<23:39,  6.73s/it, loss=12.658]"
     ]
    },
    {
     "name": "stdout",
     "output_type": "stream",
     "text": [
      "0/287\n",
      "30/287\n",
      "60/287\n",
      "90/287\n",
      "120/287\n",
      "150/287\n",
      "180/287\n",
      "210/287\n",
      "240/287\n",
      "270/287\n"
     ]
    },
    {
     "name": "stderr",
     "output_type": "stream",
     "text": [
      " 48%|████▊     | 190/400 [21:09<23:32,  6.73s/it, loss=12.459]"
     ]
    },
    {
     "name": "stdout",
     "output_type": "stream",
     "text": [
      "0/287\n",
      "30/287\n",
      "60/287\n",
      "90/287\n",
      "120/287\n",
      "150/287\n",
      "180/287\n",
      "210/287\n",
      "240/287\n",
      "270/287\n"
     ]
    },
    {
     "name": "stderr",
     "output_type": "stream",
     "text": [
      " 48%|████▊     | 191/400 [21:15<23:25,  6.72s/it, loss=12.317]"
     ]
    },
    {
     "name": "stdout",
     "output_type": "stream",
     "text": [
      "0/287\n",
      "30/287\n",
      "60/287\n",
      "90/287\n",
      "120/287\n",
      "150/287\n",
      "180/287\n",
      "210/287\n",
      "240/287\n",
      "270/287\n"
     ]
    },
    {
     "name": "stderr",
     "output_type": "stream",
     "text": [
      " 48%|████▊     | 192/400 [21:22<23:18,  6.73s/it, loss=12.007]"
     ]
    },
    {
     "name": "stdout",
     "output_type": "stream",
     "text": [
      "0/287\n",
      "30/287\n",
      "60/287\n",
      "90/287\n",
      "120/287\n",
      "150/287\n",
      "180/287\n",
      "210/287\n",
      "240/287\n",
      "270/287\n"
     ]
    },
    {
     "name": "stderr",
     "output_type": "stream",
     "text": [
      " 48%|████▊     | 193/400 [21:29<23:14,  6.73s/it, loss=12.316]"
     ]
    },
    {
     "name": "stdout",
     "output_type": "stream",
     "text": [
      "0/287\n",
      "30/287\n",
      "60/287\n",
      "90/287\n",
      "120/287\n",
      "150/287\n",
      "180/287\n",
      "210/287\n",
      "240/287\n",
      "270/287\n"
     ]
    },
    {
     "name": "stderr",
     "output_type": "stream",
     "text": [
      " 48%|████▊     | 194/400 [21:36<23:12,  6.76s/it, loss=12.050]"
     ]
    },
    {
     "name": "stdout",
     "output_type": "stream",
     "text": [
      "0/287\n",
      "30/287\n",
      "60/287\n",
      "90/287\n",
      "120/287\n",
      "150/287\n",
      "180/287\n",
      "210/287\n",
      "240/287\n",
      "270/287\n"
     ]
    },
    {
     "name": "stderr",
     "output_type": "stream",
     "text": [
      " 49%|████▉     | 195/400 [21:42<23:05,  6.76s/it, loss=12.577]"
     ]
    },
    {
     "name": "stdout",
     "output_type": "stream",
     "text": [
      "0/287\n",
      "30/287\n",
      "60/287\n",
      "90/287\n",
      "120/287\n",
      "150/287\n",
      "180/287\n",
      "210/287\n",
      "240/287\n",
      "270/287\n"
     ]
    },
    {
     "name": "stderr",
     "output_type": "stream",
     "text": [
      " 49%|████▉     | 196/400 [21:49<22:59,  6.76s/it, loss=12.009]"
     ]
    },
    {
     "name": "stdout",
     "output_type": "stream",
     "text": [
      "0/287\n",
      "30/287\n",
      "60/287\n",
      "90/287\n",
      "120/287\n",
      "150/287\n",
      "180/287\n",
      "210/287\n",
      "240/287\n",
      "270/287\n"
     ]
    },
    {
     "name": "stderr",
     "output_type": "stream",
     "text": [
      " 49%|████▉     | 197/400 [21:56<22:51,  6.76s/it, loss=11.950]"
     ]
    },
    {
     "name": "stdout",
     "output_type": "stream",
     "text": [
      "0/287\n",
      "30/287\n",
      "60/287\n",
      "90/287\n",
      "120/287\n",
      "150/287\n",
      "180/287\n",
      "210/287\n",
      "240/287\n",
      "270/287\n"
     ]
    },
    {
     "name": "stderr",
     "output_type": "stream",
     "text": [
      " 50%|████▉     | 198/400 [22:03<22:43,  6.75s/it, loss=11.653]"
     ]
    },
    {
     "name": "stdout",
     "output_type": "stream",
     "text": [
      "0/287\n",
      "30/287\n",
      "60/287\n",
      "90/287\n",
      "120/287\n",
      "150/287\n",
      "180/287\n",
      "210/287\n",
      "240/287\n",
      "270/287\n"
     ]
    },
    {
     "name": "stderr",
     "output_type": "stream",
     "text": [
      " 50%|████▉     | 199/400 [22:10<22:41,  6.78s/it, loss=12.310]"
     ]
    },
    {
     "name": "stdout",
     "output_type": "stream",
     "text": [
      "0/287\n",
      "30/287\n",
      "60/287\n",
      "90/287\n",
      "120/287\n",
      "150/287\n",
      "180/287\n",
      "210/287\n",
      "240/287\n",
      "270/287\n"
     ]
    },
    {
     "name": "stderr",
     "output_type": "stream",
     "text": [
      " 50%|█████     | 200/400 [22:16<22:34,  6.77s/it, loss=11.669]"
     ]
    },
    {
     "name": "stdout",
     "output_type": "stream",
     "text": [
      "0/287\n",
      "30/287\n",
      "60/287\n",
      "90/287\n",
      "120/287\n",
      "150/287\n",
      "180/287\n",
      "210/287\n",
      "240/287\n",
      "270/287\n"
     ]
    },
    {
     "name": "stderr",
     "output_type": "stream",
     "text": [
      " 50%|█████     | 201/400 [22:23<22:23,  6.75s/it, loss=11.839]"
     ]
    },
    {
     "name": "stdout",
     "output_type": "stream",
     "text": [
      "0/287\n",
      "30/287\n",
      "60/287\n",
      "90/287\n",
      "120/287\n",
      "150/287\n",
      "180/287\n",
      "210/287\n",
      "240/287\n",
      "270/287\n"
     ]
    },
    {
     "name": "stderr",
     "output_type": "stream",
     "text": [
      " 50%|█████     | 202/400 [22:30<22:15,  6.75s/it, loss=11.757]"
     ]
    },
    {
     "name": "stdout",
     "output_type": "stream",
     "text": [
      "0/287\n",
      "30/287\n",
      "60/287\n",
      "90/287\n",
      "120/287\n",
      "150/287\n",
      "180/287\n",
      "210/287\n",
      "240/287\n",
      "270/287\n"
     ]
    },
    {
     "name": "stderr",
     "output_type": "stream",
     "text": [
      " 51%|█████     | 203/400 [22:36<22:07,  6.74s/it, loss=11.923]"
     ]
    },
    {
     "name": "stdout",
     "output_type": "stream",
     "text": [
      "0/287\n",
      "30/287\n",
      "60/287\n",
      "90/287\n",
      "120/287\n",
      "150/287\n",
      "180/287\n",
      "210/287\n",
      "240/287\n",
      "270/287\n"
     ]
    },
    {
     "name": "stderr",
     "output_type": "stream",
     "text": [
      " 51%|█████     | 204/400 [22:43<22:04,  6.76s/it, loss=11.418]"
     ]
    },
    {
     "name": "stdout",
     "output_type": "stream",
     "text": [
      "0/287\n",
      "30/287\n",
      "60/287\n",
      "90/287\n",
      "120/287\n",
      "150/287\n",
      "180/287\n",
      "210/287\n",
      "240/287\n",
      "270/287\n"
     ]
    },
    {
     "name": "stderr",
     "output_type": "stream",
     "text": [
      " 51%|█████▏    | 205/400 [22:50<21:57,  6.75s/it, loss=11.890]"
     ]
    },
    {
     "name": "stdout",
     "output_type": "stream",
     "text": [
      "0/287\n",
      "30/287\n",
      "60/287\n",
      "90/287\n",
      "120/287\n",
      "150/287\n",
      "180/287\n",
      "210/287\n",
      "240/287\n",
      "270/287\n"
     ]
    },
    {
     "name": "stderr",
     "output_type": "stream",
     "text": [
      " 52%|█████▏    | 206/400 [22:57<21:50,  6.75s/it, loss=11.295]"
     ]
    },
    {
     "name": "stdout",
     "output_type": "stream",
     "text": [
      "0/287\n",
      "30/287\n",
      "60/287\n",
      "90/287\n",
      "120/287\n",
      "150/287\n",
      "180/287\n",
      "210/287\n",
      "240/287\n",
      "270/287\n"
     ]
    },
    {
     "name": "stderr",
     "output_type": "stream",
     "text": [
      " 52%|█████▏    | 207/400 [23:04<21:44,  6.76s/it, loss=11.793]"
     ]
    },
    {
     "name": "stdout",
     "output_type": "stream",
     "text": [
      "0/287\n",
      "30/287\n",
      "60/287\n",
      "90/287\n",
      "120/287\n",
      "150/287\n",
      "180/287\n",
      "210/287\n",
      "240/287\n",
      "270/287\n"
     ]
    },
    {
     "name": "stderr",
     "output_type": "stream",
     "text": [
      " 52%|█████▏    | 208/400 [23:10<21:40,  6.77s/it, loss=12.724]"
     ]
    },
    {
     "name": "stdout",
     "output_type": "stream",
     "text": [
      "0/287\n",
      "30/287\n",
      "60/287\n",
      "90/287\n",
      "120/287\n",
      "150/287\n",
      "180/287\n",
      "210/287\n",
      "240/287\n",
      "270/287\n"
     ]
    },
    {
     "name": "stderr",
     "output_type": "stream",
     "text": [
      " 52%|█████▏    | 209/400 [23:17<21:33,  6.77s/it, loss=11.818]"
     ]
    },
    {
     "name": "stdout",
     "output_type": "stream",
     "text": [
      "0/287\n",
      "30/287\n",
      "60/287\n",
      "90/287\n",
      "120/287\n",
      "150/287\n",
      "180/287\n",
      "210/287\n",
      "240/287\n",
      "270/287\n"
     ]
    },
    {
     "name": "stderr",
     "output_type": "stream",
     "text": [
      " 52%|█████▎    | 210/400 [23:24<21:25,  6.76s/it, loss=11.794]"
     ]
    },
    {
     "name": "stdout",
     "output_type": "stream",
     "text": [
      "0/287\n",
      "30/287\n",
      "60/287\n",
      "90/287\n",
      "120/287\n",
      "150/287\n",
      "180/287\n",
      "210/287\n",
      "240/287\n",
      "270/287\n"
     ]
    },
    {
     "name": "stderr",
     "output_type": "stream",
     "text": [
      " 53%|█████▎    | 211/400 [23:31<21:16,  6.76s/it, loss=11.419]"
     ]
    },
    {
     "name": "stdout",
     "output_type": "stream",
     "text": [
      "0/287\n",
      "30/287\n",
      "60/287\n",
      "90/287\n",
      "120/287\n",
      "150/287\n",
      "180/287\n",
      "210/287\n",
      "240/287\n",
      "270/287\n"
     ]
    },
    {
     "name": "stderr",
     "output_type": "stream",
     "text": [
      " 53%|█████▎    | 212/400 [23:37<21:09,  6.75s/it, loss=11.298]"
     ]
    },
    {
     "name": "stdout",
     "output_type": "stream",
     "text": [
      "0/287\n",
      "30/287\n",
      "60/287\n",
      "90/287\n",
      "120/287\n",
      "150/287\n",
      "180/287\n",
      "210/287\n",
      "240/287\n",
      "270/287\n"
     ]
    },
    {
     "name": "stderr",
     "output_type": "stream",
     "text": [
      " 53%|█████▎    | 213/400 [23:44<21:01,  6.74s/it, loss=11.803]"
     ]
    },
    {
     "name": "stdout",
     "output_type": "stream",
     "text": [
      "0/287\n",
      "30/287\n",
      "60/287\n",
      "90/287\n",
      "120/287\n",
      "150/287\n",
      "180/287\n",
      "210/287\n",
      "240/287\n",
      "270/287\n"
     ]
    },
    {
     "name": "stderr",
     "output_type": "stream",
     "text": [
      " 54%|█████▎    | 214/400 [23:51<20:57,  6.76s/it, loss=11.366]"
     ]
    },
    {
     "name": "stdout",
     "output_type": "stream",
     "text": [
      "0/287\n",
      "30/287\n",
      "60/287\n",
      "90/287\n",
      "120/287\n",
      "150/287\n",
      "180/287\n",
      "210/287\n",
      "240/287\n",
      "270/287\n"
     ]
    },
    {
     "name": "stderr",
     "output_type": "stream",
     "text": [
      " 54%|█████▍    | 215/400 [23:58<20:51,  6.76s/it, loss=12.097]"
     ]
    },
    {
     "name": "stdout",
     "output_type": "stream",
     "text": [
      "0/287\n",
      "30/287\n",
      "60/287\n",
      "90/287\n",
      "120/287\n",
      "150/287\n",
      "180/287\n",
      "210/287\n",
      "240/287\n",
      "270/287\n"
     ]
    },
    {
     "name": "stderr",
     "output_type": "stream",
     "text": [
      " 54%|█████▍    | 216/400 [24:04<20:40,  6.74s/it, loss=14.177]"
     ]
    },
    {
     "name": "stdout",
     "output_type": "stream",
     "text": [
      "0/287\n",
      "30/287\n",
      "60/287\n",
      "90/287\n",
      "120/287\n",
      "150/287\n",
      "180/287\n",
      "210/287\n",
      "240/287\n",
      "270/287\n"
     ]
    },
    {
     "name": "stderr",
     "output_type": "stream",
     "text": [
      " 54%|█████▍    | 217/400 [24:11<20:29,  6.72s/it, loss=13.104]"
     ]
    },
    {
     "name": "stdout",
     "output_type": "stream",
     "text": [
      "0/287\n",
      "30/287\n",
      "60/287\n",
      "90/287\n",
      "120/287\n",
      "150/287\n",
      "180/287\n",
      "210/287\n",
      "240/287\n",
      "270/287\n"
     ]
    },
    {
     "name": "stderr",
     "output_type": "stream",
     "text": [
      " 55%|█████▍    | 218/400 [24:18<20:20,  6.71s/it, loss=13.169]"
     ]
    },
    {
     "name": "stdout",
     "output_type": "stream",
     "text": [
      "0/287\n",
      "30/287\n",
      "60/287\n",
      "90/287\n",
      "120/287\n",
      "150/287\n",
      "180/287\n",
      "210/287\n",
      "240/287\n",
      "270/287\n"
     ]
    },
    {
     "name": "stderr",
     "output_type": "stream",
     "text": [
      " 55%|█████▍    | 219/400 [24:24<20:17,  6.72s/it, loss=12.454]"
     ]
    },
    {
     "name": "stdout",
     "output_type": "stream",
     "text": [
      "0/287\n",
      "30/287\n",
      "60/287\n",
      "90/287\n",
      "120/287\n",
      "150/287\n",
      "180/287\n",
      "210/287\n",
      "240/287\n",
      "270/287\n"
     ]
    },
    {
     "name": "stderr",
     "output_type": "stream",
     "text": [
      " 55%|█████▌    | 220/400 [24:31<20:14,  6.75s/it, loss=12.297]"
     ]
    },
    {
     "name": "stdout",
     "output_type": "stream",
     "text": [
      "0/287\n",
      "30/287\n",
      "60/287\n",
      "90/287\n",
      "120/287\n",
      "150/287\n",
      "180/287\n",
      "210/287\n",
      "240/287\n",
      "270/287\n"
     ]
    },
    {
     "name": "stderr",
     "output_type": "stream",
     "text": [
      " 55%|█████▌    | 221/400 [24:38<20:09,  6.76s/it, loss=12.047]"
     ]
    },
    {
     "name": "stdout",
     "output_type": "stream",
     "text": [
      "0/287\n",
      "30/287\n",
      "60/287\n",
      "90/287\n",
      "120/287\n",
      "150/287\n",
      "180/287\n",
      "210/287\n",
      "240/287\n",
      "270/287\n"
     ]
    },
    {
     "name": "stderr",
     "output_type": "stream",
     "text": [
      " 56%|█████▌    | 222/400 [24:45<20:06,  6.78s/it, loss=11.860]"
     ]
    },
    {
     "name": "stdout",
     "output_type": "stream",
     "text": [
      "0/287\n",
      "30/287\n",
      "60/287\n",
      "90/287\n",
      "120/287\n",
      "150/287\n",
      "180/287\n",
      "210/287\n",
      "240/287\n",
      "270/287\n"
     ]
    },
    {
     "name": "stderr",
     "output_type": "stream",
     "text": [
      " 56%|█████▌    | 223/400 [24:52<20:00,  6.78s/it, loss=11.715]"
     ]
    },
    {
     "name": "stdout",
     "output_type": "stream",
     "text": [
      "0/287\n",
      "30/287\n",
      "60/287\n",
      "90/287\n",
      "120/287\n",
      "150/287\n",
      "180/287\n",
      "210/287\n",
      "240/287\n",
      "270/287\n"
     ]
    },
    {
     "name": "stderr",
     "output_type": "stream",
     "text": [
      " 56%|█████▌    | 224/400 [24:58<19:54,  6.79s/it, loss=11.488]"
     ]
    },
    {
     "name": "stdout",
     "output_type": "stream",
     "text": [
      "0/287\n",
      "30/287\n",
      "60/287\n",
      "90/287\n",
      "120/287\n",
      "150/287\n",
      "180/287\n",
      "210/287\n",
      "240/287\n",
      "270/287\n"
     ]
    },
    {
     "name": "stderr",
     "output_type": "stream",
     "text": [
      " 56%|█████▋    | 225/400 [25:05<19:47,  6.78s/it, loss=11.644]"
     ]
    },
    {
     "name": "stdout",
     "output_type": "stream",
     "text": [
      "0/287\n",
      "30/287\n",
      "60/287\n",
      "90/287\n",
      "120/287\n",
      "150/287\n",
      "180/287\n",
      "210/287\n",
      "240/287\n",
      "270/287\n"
     ]
    },
    {
     "name": "stderr",
     "output_type": "stream",
     "text": [
      " 56%|█████▋    | 226/400 [25:12<19:38,  6.78s/it, loss=11.495]"
     ]
    },
    {
     "name": "stdout",
     "output_type": "stream",
     "text": [
      "0/287\n",
      "30/287\n",
      "60/287\n",
      "90/287\n",
      "120/287\n",
      "150/287\n",
      "180/287\n",
      "210/287\n",
      "240/287\n",
      "270/287\n"
     ]
    },
    {
     "name": "stderr",
     "output_type": "stream",
     "text": [
      " 57%|█████▋    | 227/400 [25:19<19:34,  6.79s/it, loss=11.322]"
     ]
    },
    {
     "name": "stdout",
     "output_type": "stream",
     "text": [
      "0/287\n",
      "30/287\n",
      "60/287\n",
      "90/287\n",
      "120/287\n",
      "150/287\n",
      "180/287\n",
      "210/287\n",
      "240/287\n",
      "270/287\n"
     ]
    },
    {
     "name": "stderr",
     "output_type": "stream",
     "text": [
      " 57%|█████▋    | 228/400 [25:26<19:26,  6.78s/it, loss=10.983]"
     ]
    },
    {
     "name": "stdout",
     "output_type": "stream",
     "text": [
      "0/287\n",
      "30/287\n",
      "60/287\n",
      "90/287\n",
      "120/287\n",
      "150/287\n",
      "180/287\n",
      "210/287\n",
      "240/287\n",
      "270/287\n"
     ]
    },
    {
     "name": "stderr",
     "output_type": "stream",
     "text": [
      " 57%|█████▋    | 229/400 [25:32<19:23,  6.80s/it, loss=10.849]"
     ]
    },
    {
     "name": "stdout",
     "output_type": "stream",
     "text": [
      "0/287\n",
      "30/287\n",
      "60/287\n",
      "90/287\n",
      "120/287\n",
      "150/287\n",
      "180/287\n",
      "210/287\n",
      "240/287\n",
      "270/287\n"
     ]
    },
    {
     "name": "stderr",
     "output_type": "stream",
     "text": [
      " 57%|█████▊    | 230/400 [25:39<19:13,  6.79s/it, loss=10.664]"
     ]
    },
    {
     "name": "stdout",
     "output_type": "stream",
     "text": [
      "0/287\n",
      "30/287\n",
      "60/287\n",
      "90/287\n",
      "120/287\n",
      "150/287\n",
      "180/287\n",
      "210/287\n",
      "240/287\n",
      "270/287\n"
     ]
    },
    {
     "name": "stderr",
     "output_type": "stream",
     "text": [
      " 58%|█████▊    | 231/400 [25:46<19:05,  6.78s/it, loss=12.230]"
     ]
    },
    {
     "name": "stdout",
     "output_type": "stream",
     "text": [
      "0/287\n",
      "30/287\n",
      "60/287\n",
      "90/287\n",
      "120/287\n",
      "150/287\n",
      "180/287\n",
      "210/287\n",
      "240/287\n",
      "270/287\n"
     ]
    },
    {
     "name": "stderr",
     "output_type": "stream",
     "text": [
      " 58%|█████▊    | 232/400 [25:53<19:02,  6.80s/it, loss=11.502]"
     ]
    },
    {
     "name": "stdout",
     "output_type": "stream",
     "text": [
      "0/287\n",
      "30/287\n",
      "60/287\n",
      "90/287\n",
      "120/287\n",
      "150/287\n",
      "180/287\n",
      "210/287\n",
      "240/287\n",
      "270/287\n"
     ]
    },
    {
     "name": "stderr",
     "output_type": "stream",
     "text": [
      " 58%|█████▊    | 233/400 [26:00<18:56,  6.81s/it, loss=12.756]"
     ]
    },
    {
     "name": "stdout",
     "output_type": "stream",
     "text": [
      "0/287\n",
      "30/287\n",
      "60/287\n",
      "90/287\n",
      "120/287\n",
      "150/287\n",
      "180/287\n",
      "210/287\n",
      "240/287\n",
      "270/287\n"
     ]
    },
    {
     "name": "stderr",
     "output_type": "stream",
     "text": [
      " 58%|█████▊    | 234/400 [26:06<18:49,  6.81s/it, loss=13.283]"
     ]
    },
    {
     "name": "stdout",
     "output_type": "stream",
     "text": [
      "0/287\n",
      "30/287\n",
      "60/287\n",
      "90/287\n",
      "120/287\n",
      "150/287\n",
      "180/287\n",
      "210/287\n",
      "240/287\n",
      "270/287\n"
     ]
    },
    {
     "name": "stderr",
     "output_type": "stream",
     "text": [
      " 59%|█████▉    | 235/400 [26:13<18:38,  6.78s/it, loss=12.534]"
     ]
    },
    {
     "name": "stdout",
     "output_type": "stream",
     "text": [
      "0/287\n",
      "30/287\n",
      "60/287\n",
      "90/287\n",
      "120/287\n",
      "150/287\n",
      "180/287\n",
      "210/287\n",
      "240/287\n",
      "270/287\n"
     ]
    },
    {
     "name": "stderr",
     "output_type": "stream",
     "text": [
      " 59%|█████▉    | 236/400 [26:20<18:29,  6.76s/it, loss=12.067]"
     ]
    },
    {
     "name": "stdout",
     "output_type": "stream",
     "text": [
      "0/287\n",
      "30/287\n",
      "60/287\n",
      "90/287\n",
      "120/287\n",
      "150/287\n",
      "180/287\n",
      "210/287\n",
      "240/287\n",
      "270/287\n"
     ]
    },
    {
     "name": "stderr",
     "output_type": "stream",
     "text": [
      " 59%|█████▉    | 237/400 [26:27<18:21,  6.76s/it, loss=12.305]"
     ]
    },
    {
     "name": "stdout",
     "output_type": "stream",
     "text": [
      "0/287\n",
      "30/287\n",
      "60/287\n",
      "90/287\n",
      "120/287\n",
      "150/287\n",
      "180/287\n",
      "210/287\n",
      "240/287\n",
      "270/287\n"
     ]
    },
    {
     "name": "stderr",
     "output_type": "stream",
     "text": [
      " 60%|█████▉    | 238/400 [26:33<18:17,  6.78s/it, loss=11.480]"
     ]
    },
    {
     "name": "stdout",
     "output_type": "stream",
     "text": [
      "0/287\n",
      "30/287\n",
      "60/287\n",
      "90/287\n",
      "120/287\n",
      "150/287\n",
      "180/287\n",
      "210/287\n",
      "240/287\n",
      "270/287\n"
     ]
    },
    {
     "name": "stderr",
     "output_type": "stream",
     "text": [
      " 60%|█████▉    | 239/400 [26:40<18:09,  6.77s/it, loss=11.796]"
     ]
    },
    {
     "name": "stdout",
     "output_type": "stream",
     "text": [
      "0/287\n",
      "30/287\n",
      "60/287\n",
      "90/287\n",
      "120/287\n",
      "150/287\n",
      "180/287\n",
      "210/287\n",
      "240/287\n",
      "270/287\n"
     ]
    },
    {
     "name": "stderr",
     "output_type": "stream",
     "text": [
      " 60%|██████    | 240/400 [26:47<17:58,  6.74s/it, loss=11.788]"
     ]
    },
    {
     "name": "stdout",
     "output_type": "stream",
     "text": [
      "0/287\n",
      "30/287\n",
      "60/287\n",
      "90/287\n",
      "120/287\n",
      "150/287\n",
      "180/287\n",
      "210/287\n",
      "240/287\n",
      "270/287\n"
     ]
    },
    {
     "name": "stderr",
     "output_type": "stream",
     "text": [
      " 60%|██████    | 241/400 [26:54<17:50,  6.73s/it, loss=11.918]"
     ]
    },
    {
     "name": "stdout",
     "output_type": "stream",
     "text": [
      "0/287\n",
      "30/287\n",
      "60/287\n",
      "90/287\n",
      "120/287\n",
      "150/287\n",
      "180/287\n",
      "210/287\n",
      "240/287\n",
      "270/287\n"
     ]
    },
    {
     "name": "stderr",
     "output_type": "stream",
     "text": [
      " 60%|██████    | 242/400 [27:00<17:45,  6.74s/it, loss=11.468]"
     ]
    },
    {
     "name": "stdout",
     "output_type": "stream",
     "text": [
      "0/287\n",
      "30/287\n",
      "60/287\n",
      "90/287\n",
      "120/287\n",
      "150/287\n",
      "180/287\n",
      "210/287\n",
      "240/287\n",
      "270/287\n"
     ]
    },
    {
     "name": "stderr",
     "output_type": "stream",
     "text": [
      " 61%|██████    | 243/400 [27:07<17:41,  6.76s/it, loss=11.130]"
     ]
    },
    {
     "name": "stdout",
     "output_type": "stream",
     "text": [
      "0/287\n",
      "30/287\n",
      "60/287\n",
      "90/287\n",
      "120/287\n",
      "150/287\n",
      "180/287\n",
      "210/287\n",
      "240/287\n",
      "270/287\n"
     ]
    },
    {
     "name": "stderr",
     "output_type": "stream",
     "text": [
      " 61%|██████    | 244/400 [27:14<17:37,  6.78s/it, loss=11.023]"
     ]
    },
    {
     "name": "stdout",
     "output_type": "stream",
     "text": [
      "0/287\n",
      "30/287\n",
      "60/287\n",
      "90/287\n",
      "120/287\n",
      "150/287\n",
      "180/287\n",
      "210/287\n",
      "240/287\n",
      "270/287\n"
     ]
    },
    {
     "name": "stderr",
     "output_type": "stream",
     "text": [
      " 61%|██████▏   | 245/400 [27:21<17:29,  6.77s/it, loss=11.108]"
     ]
    },
    {
     "name": "stdout",
     "output_type": "stream",
     "text": [
      "0/287\n",
      "30/287\n",
      "60/287\n",
      "90/287\n",
      "120/287\n",
      "150/287\n",
      "180/287\n",
      "210/287\n",
      "240/287\n",
      "270/287\n"
     ]
    },
    {
     "name": "stderr",
     "output_type": "stream",
     "text": [
      " 62%|██████▏   | 246/400 [27:28<17:23,  6.78s/it, loss=10.935]"
     ]
    },
    {
     "name": "stdout",
     "output_type": "stream",
     "text": [
      "0/287\n",
      "30/287\n",
      "60/287\n",
      "90/287\n",
      "120/287\n",
      "150/287\n",
      "180/287\n",
      "210/287\n",
      "240/287\n",
      "270/287\n"
     ]
    },
    {
     "name": "stderr",
     "output_type": "stream",
     "text": [
      " 62%|██████▏   | 247/400 [27:34<17:15,  6.77s/it, loss=10.741]"
     ]
    },
    {
     "name": "stdout",
     "output_type": "stream",
     "text": [
      "0/287\n",
      "30/287\n",
      "60/287\n",
      "90/287\n",
      "120/287\n",
      "150/287\n",
      "180/287\n",
      "210/287\n",
      "240/287\n",
      "270/287\n"
     ]
    },
    {
     "name": "stderr",
     "output_type": "stream",
     "text": [
      " 62%|██████▏   | 248/400 [27:41<17:10,  6.78s/it, loss=10.670]"
     ]
    },
    {
     "name": "stdout",
     "output_type": "stream",
     "text": [
      "0/287\n",
      "30/287\n",
      "60/287\n",
      "90/287\n",
      "120/287\n",
      "150/287\n",
      "180/287\n",
      "210/287\n",
      "240/287\n",
      "270/287\n"
     ]
    },
    {
     "name": "stderr",
     "output_type": "stream",
     "text": [
      " 62%|██████▏   | 249/400 [27:48<17:06,  6.80s/it, loss=10.889]"
     ]
    },
    {
     "name": "stdout",
     "output_type": "stream",
     "text": [
      "0/287\n",
      "30/287\n",
      "60/287\n",
      "90/287\n",
      "120/287\n",
      "150/287\n",
      "180/287\n",
      "210/287\n",
      "240/287\n",
      "270/287\n"
     ]
    },
    {
     "name": "stderr",
     "output_type": "stream",
     "text": [
      " 62%|██████▎   | 250/400 [27:55<16:53,  6.76s/it, loss=10.383]"
     ]
    },
    {
     "name": "stdout",
     "output_type": "stream",
     "text": [
      "0/287\n",
      "30/287\n",
      "60/287\n",
      "90/287\n",
      "120/287\n",
      "150/287\n",
      "180/287\n",
      "210/287\n",
      "240/287\n",
      "270/287\n"
     ]
    },
    {
     "name": "stderr",
     "output_type": "stream",
     "text": [
      " 63%|██████▎   | 251/400 [28:01<16:43,  6.74s/it, loss=10.431]"
     ]
    },
    {
     "name": "stdout",
     "output_type": "stream",
     "text": [
      "0/287\n",
      "30/287\n",
      "60/287\n",
      "90/287\n",
      "120/287\n",
      "150/287\n",
      "180/287\n",
      "210/287\n",
      "240/287\n",
      "270/287\n"
     ]
    },
    {
     "name": "stderr",
     "output_type": "stream",
     "text": [
      " 63%|██████▎   | 252/400 [28:08<16:36,  6.73s/it, loss=10.852]"
     ]
    },
    {
     "name": "stdout",
     "output_type": "stream",
     "text": [
      "0/287\n",
      "30/287\n",
      "60/287\n",
      "90/287\n",
      "120/287\n",
      "150/287\n",
      "180/287\n",
      "210/287\n",
      "240/287\n",
      "270/287\n"
     ]
    },
    {
     "name": "stderr",
     "output_type": "stream",
     "text": [
      " 63%|██████▎   | 253/400 [28:15<16:37,  6.79s/it, loss=10.913]"
     ]
    },
    {
     "name": "stdout",
     "output_type": "stream",
     "text": [
      "0/287\n",
      "30/287\n",
      "60/287\n",
      "90/287\n",
      "120/287\n",
      "150/287\n",
      "180/287\n",
      "210/287\n",
      "240/287\n",
      "270/287\n"
     ]
    },
    {
     "name": "stderr",
     "output_type": "stream",
     "text": [
      " 64%|██████▎   | 254/400 [28:22<16:33,  6.81s/it, loss=10.448]"
     ]
    },
    {
     "name": "stdout",
     "output_type": "stream",
     "text": [
      "0/287\n",
      "30/287\n",
      "60/287\n",
      "90/287\n",
      "120/287\n",
      "150/287\n",
      "180/287\n",
      "210/287\n",
      "240/287\n",
      "270/287\n"
     ]
    },
    {
     "name": "stderr",
     "output_type": "stream",
     "text": [
      " 64%|██████▍   | 255/400 [28:28<16:24,  6.79s/it, loss=10.797]"
     ]
    },
    {
     "name": "stdout",
     "output_type": "stream",
     "text": [
      "0/287\n",
      "30/287\n",
      "60/287\n",
      "90/287\n",
      "120/287\n",
      "150/287\n",
      "180/287\n",
      "210/287\n",
      "240/287\n",
      "270/287\n"
     ]
    },
    {
     "name": "stderr",
     "output_type": "stream",
     "text": [
      " 64%|██████▍   | 256/400 [28:35<16:16,  6.78s/it, loss=12.873]"
     ]
    },
    {
     "name": "stdout",
     "output_type": "stream",
     "text": [
      "0/287\n",
      "30/287\n",
      "60/287\n",
      "90/287\n",
      "120/287\n",
      "150/287\n",
      "180/287\n",
      "210/287\n",
      "240/287\n",
      "270/287\n"
     ]
    },
    {
     "name": "stderr",
     "output_type": "stream",
     "text": [
      " 64%|██████▍   | 257/400 [28:42<16:08,  6.78s/it, loss=12.079]"
     ]
    },
    {
     "name": "stdout",
     "output_type": "stream",
     "text": [
      "0/287\n",
      "30/287\n",
      "60/287\n",
      "90/287\n",
      "120/287\n",
      "150/287\n",
      "180/287\n",
      "210/287\n",
      "240/287\n",
      "270/287\n"
     ]
    },
    {
     "name": "stderr",
     "output_type": "stream",
     "text": [
      " 64%|██████▍   | 258/400 [28:49<16:04,  6.79s/it, loss=11.406]"
     ]
    },
    {
     "name": "stdout",
     "output_type": "stream",
     "text": [
      "0/287\n",
      "30/287\n",
      "60/287\n",
      "90/287\n",
      "120/287\n",
      "150/287\n",
      "180/287\n",
      "210/287\n",
      "240/287\n",
      "270/287\n"
     ]
    },
    {
     "name": "stderr",
     "output_type": "stream",
     "text": [
      " 65%|██████▍   | 259/400 [28:56<15:55,  6.78s/it, loss=11.342]"
     ]
    },
    {
     "name": "stdout",
     "output_type": "stream",
     "text": [
      "0/287\n",
      "30/287\n",
      "60/287\n",
      "90/287\n",
      "120/287\n",
      "150/287\n",
      "180/287\n",
      "210/287\n",
      "240/287\n",
      "270/287\n"
     ]
    },
    {
     "name": "stderr",
     "output_type": "stream",
     "text": [
      " 65%|██████▌   | 260/400 [29:02<15:47,  6.77s/it, loss=11.431]"
     ]
    },
    {
     "name": "stdout",
     "output_type": "stream",
     "text": [
      "0/287\n",
      "30/287\n",
      "60/287\n",
      "90/287\n",
      "120/287\n",
      "150/287\n",
      "180/287\n",
      "210/287\n",
      "240/287\n",
      "270/287\n"
     ]
    },
    {
     "name": "stderr",
     "output_type": "stream",
     "text": [
      " 65%|██████▌   | 261/400 [29:09<15:39,  6.76s/it, loss=10.909]"
     ]
    },
    {
     "name": "stdout",
     "output_type": "stream",
     "text": [
      "0/287\n",
      "30/287\n",
      "60/287\n",
      "90/287\n",
      "120/287\n",
      "150/287\n",
      "180/287\n",
      "210/287\n",
      "240/287\n",
      "270/287\n"
     ]
    },
    {
     "name": "stderr",
     "output_type": "stream",
     "text": [
      " 66%|██████▌   | 262/400 [29:16<15:34,  6.77s/it, loss=11.410]"
     ]
    },
    {
     "name": "stdout",
     "output_type": "stream",
     "text": [
      "0/287\n",
      "30/287\n",
      "60/287\n",
      "90/287\n",
      "120/287\n",
      "150/287\n",
      "180/287\n",
      "210/287\n",
      "240/287\n",
      "270/287\n"
     ]
    },
    {
     "name": "stderr",
     "output_type": "stream",
     "text": [
      " 66%|██████▌   | 263/400 [29:23<15:28,  6.77s/it, loss=11.811]"
     ]
    },
    {
     "name": "stdout",
     "output_type": "stream",
     "text": [
      "0/287\n",
      "30/287\n",
      "60/287\n",
      "90/287\n",
      "120/287\n",
      "150/287\n",
      "180/287\n",
      "210/287\n",
      "240/287\n",
      "270/287\n"
     ]
    },
    {
     "name": "stderr",
     "output_type": "stream",
     "text": [
      " 66%|██████▌   | 264/400 [29:29<15:20,  6.77s/it, loss=11.023]"
     ]
    },
    {
     "name": "stdout",
     "output_type": "stream",
     "text": [
      "0/287\n",
      "30/287\n",
      "60/287\n",
      "90/287\n",
      "120/287\n",
      "150/287\n",
      "180/287\n",
      "210/287\n",
      "240/287\n",
      "270/287\n"
     ]
    },
    {
     "name": "stderr",
     "output_type": "stream",
     "text": [
      " 66%|██████▋   | 265/400 [29:36<15:17,  6.80s/it, loss=11.044]"
     ]
    },
    {
     "name": "stdout",
     "output_type": "stream",
     "text": [
      "0/287\n",
      "30/287\n",
      "60/287\n",
      "90/287\n",
      "120/287\n",
      "150/287\n",
      "180/287\n",
      "210/287\n",
      "240/287\n",
      "270/287\n"
     ]
    },
    {
     "name": "stderr",
     "output_type": "stream",
     "text": [
      " 66%|██████▋   | 266/400 [29:43<15:10,  6.79s/it, loss=10.781]"
     ]
    },
    {
     "name": "stdout",
     "output_type": "stream",
     "text": [
      "0/287\n",
      "30/287\n",
      "60/287\n",
      "90/287\n",
      "120/287\n",
      "150/287\n",
      "180/287\n",
      "210/287\n",
      "240/287\n",
      "270/287\n"
     ]
    },
    {
     "name": "stderr",
     "output_type": "stream",
     "text": [
      " 67%|██████▋   | 267/400 [29:50<15:05,  6.81s/it, loss=10.904]"
     ]
    },
    {
     "name": "stdout",
     "output_type": "stream",
     "text": [
      "0/287\n",
      "30/287\n",
      "60/287\n",
      "90/287\n",
      "120/287\n",
      "150/287\n",
      "180/287\n",
      "210/287\n",
      "240/287\n",
      "270/287\n"
     ]
    },
    {
     "name": "stderr",
     "output_type": "stream",
     "text": [
      " 67%|██████▋   | 268/400 [29:57<14:59,  6.82s/it, loss=10.571]"
     ]
    },
    {
     "name": "stdout",
     "output_type": "stream",
     "text": [
      "0/287\n",
      "30/287\n",
      "60/287\n",
      "90/287\n",
      "120/287\n",
      "150/287\n",
      "180/287\n",
      "210/287\n",
      "240/287\n",
      "270/287\n"
     ]
    },
    {
     "name": "stderr",
     "output_type": "stream",
     "text": [
      " 67%|██████▋   | 269/400 [30:04<14:52,  6.81s/it, loss=10.530]"
     ]
    },
    {
     "name": "stdout",
     "output_type": "stream",
     "text": [
      "0/287\n",
      "30/287\n",
      "60/287\n",
      "90/287\n",
      "120/287\n",
      "150/287\n",
      "180/287\n",
      "210/287\n",
      "240/287\n",
      "270/287\n"
     ]
    },
    {
     "name": "stderr",
     "output_type": "stream",
     "text": [
      " 68%|██████▊   | 270/400 [30:10<14:46,  6.82s/it, loss=10.450]"
     ]
    },
    {
     "name": "stdout",
     "output_type": "stream",
     "text": [
      "0/287\n",
      "30/287\n",
      "60/287\n",
      "90/287\n",
      "120/287\n",
      "150/287\n",
      "180/287\n",
      "210/287\n",
      "240/287\n",
      "270/287\n"
     ]
    },
    {
     "name": "stderr",
     "output_type": "stream",
     "text": [
      " 68%|██████▊   | 271/400 [30:17<14:39,  6.82s/it, loss=10.405]"
     ]
    },
    {
     "name": "stdout",
     "output_type": "stream",
     "text": [
      "0/287\n",
      "30/287\n",
      "60/287\n",
      "90/287\n",
      "120/287\n",
      "150/287\n",
      "180/287\n",
      "210/287\n",
      "240/287\n",
      "270/287\n"
     ]
    },
    {
     "name": "stderr",
     "output_type": "stream",
     "text": [
      " 68%|██████▊   | 272/400 [30:24<14:34,  6.83s/it, loss=10.233]"
     ]
    },
    {
     "name": "stdout",
     "output_type": "stream",
     "text": [
      "0/287\n",
      "30/287\n",
      "60/287\n",
      "90/287\n",
      "120/287\n",
      "150/287\n",
      "180/287\n",
      "210/287\n",
      "240/287\n",
      "270/287\n"
     ]
    },
    {
     "name": "stderr",
     "output_type": "stream",
     "text": [
      " 68%|██████▊   | 273/400 [30:31<14:28,  6.84s/it, loss=10.073]"
     ]
    },
    {
     "name": "stdout",
     "output_type": "stream",
     "text": [
      "0/287\n",
      "30/287\n",
      "60/287\n",
      "90/287\n",
      "120/287\n",
      "150/287\n",
      "180/287\n",
      "210/287\n",
      "240/287\n",
      "270/287\n"
     ]
    },
    {
     "name": "stderr",
     "output_type": "stream",
     "text": [
      " 68%|██████▊   | 274/400 [30:38<14:18,  6.82s/it, loss=9.950]"
     ]
    },
    {
     "name": "stdout",
     "output_type": "stream",
     "text": [
      "0/287\n",
      "30/287\n",
      "60/287\n",
      "90/287\n",
      "120/287\n",
      "150/287\n",
      "180/287\n",
      "210/287\n",
      "240/287\n",
      "270/287\n"
     ]
    },
    {
     "name": "stderr",
     "output_type": "stream",
     "text": [
      " 69%|██████▉   | 275/400 [30:44<14:11,  6.81s/it, loss=10.036]"
     ]
    },
    {
     "name": "stdout",
     "output_type": "stream",
     "text": [
      "0/287\n",
      "30/287\n",
      "60/287\n",
      "90/287\n",
      "120/287\n",
      "150/287\n",
      "180/287\n",
      "210/287\n",
      "240/287\n",
      "270/287\n"
     ]
    },
    {
     "name": "stderr",
     "output_type": "stream",
     "text": [
      " 69%|██████▉   | 276/400 [30:51<14:02,  6.79s/it, loss=10.556]"
     ]
    },
    {
     "name": "stdout",
     "output_type": "stream",
     "text": [
      "0/287\n",
      "30/287\n",
      "60/287\n",
      "90/287\n",
      "120/287\n",
      "150/287\n",
      "180/287\n",
      "210/287\n",
      "240/287\n",
      "270/287\n"
     ]
    },
    {
     "name": "stderr",
     "output_type": "stream",
     "text": [
      " 69%|██████▉   | 277/400 [30:58<13:57,  6.81s/it, loss=10.341]"
     ]
    },
    {
     "name": "stdout",
     "output_type": "stream",
     "text": [
      "0/287\n",
      "30/287\n",
      "60/287\n",
      "90/287\n",
      "120/287\n",
      "150/287\n",
      "180/287\n",
      "210/287\n",
      "240/287\n",
      "270/287\n"
     ]
    },
    {
     "name": "stderr",
     "output_type": "stream",
     "text": [
      " 70%|██████▉   | 278/400 [31:05<13:50,  6.81s/it, loss=10.212]"
     ]
    },
    {
     "name": "stdout",
     "output_type": "stream",
     "text": [
      "0/287\n",
      "30/287\n",
      "60/287\n",
      "90/287\n",
      "120/287\n",
      "150/287\n",
      "180/287\n",
      "210/287\n",
      "240/287\n",
      "270/287\n"
     ]
    },
    {
     "name": "stderr",
     "output_type": "stream",
     "text": [
      " 70%|██████▉   | 279/400 [31:12<13:42,  6.80s/it, loss=11.382]"
     ]
    },
    {
     "name": "stdout",
     "output_type": "stream",
     "text": [
      "0/287\n",
      "30/287\n",
      "60/287\n",
      "90/287\n",
      "120/287\n",
      "150/287\n",
      "180/287\n",
      "210/287\n",
      "240/287\n",
      "270/287\n"
     ]
    },
    {
     "name": "stderr",
     "output_type": "stream",
     "text": [
      " 70%|███████   | 280/400 [31:18<13:35,  6.80s/it, loss=10.589]"
     ]
    },
    {
     "name": "stdout",
     "output_type": "stream",
     "text": [
      "0/287\n",
      "30/287\n",
      "60/287\n",
      "90/287\n",
      "120/287\n",
      "150/287\n",
      "180/287\n",
      "210/287\n",
      "240/287\n",
      "270/287\n"
     ]
    },
    {
     "name": "stderr",
     "output_type": "stream",
     "text": [
      " 70%|███████   | 281/400 [31:25<13:29,  6.80s/it, loss=10.391]"
     ]
    },
    {
     "name": "stdout",
     "output_type": "stream",
     "text": [
      "0/287\n",
      "30/287\n",
      "60/287\n",
      "90/287\n",
      "120/287\n",
      "150/287\n",
      "180/287\n",
      "210/287\n",
      "240/287\n",
      "270/287\n"
     ]
    },
    {
     "name": "stderr",
     "output_type": "stream",
     "text": [
      " 70%|███████   | 282/400 [31:32<13:23,  6.81s/it, loss=10.437]"
     ]
    },
    {
     "name": "stdout",
     "output_type": "stream",
     "text": [
      "0/287\n",
      "30/287\n",
      "60/287\n",
      "90/287\n",
      "120/287\n",
      "150/287\n",
      "180/287\n",
      "210/287\n",
      "240/287\n",
      "270/287\n"
     ]
    },
    {
     "name": "stderr",
     "output_type": "stream",
     "text": [
      " 71%|███████   | 283/400 [31:39<13:13,  6.78s/it, loss=10.068]"
     ]
    },
    {
     "name": "stdout",
     "output_type": "stream",
     "text": [
      "0/287\n",
      "30/287\n",
      "60/287\n",
      "90/287\n",
      "120/287\n",
      "150/287\n",
      "180/287\n",
      "210/287\n",
      "240/287\n",
      "270/287\n"
     ]
    },
    {
     "name": "stderr",
     "output_type": "stream",
     "text": [
      " 71%|███████   | 284/400 [31:46<13:05,  6.77s/it, loss=10.145]"
     ]
    },
    {
     "name": "stdout",
     "output_type": "stream",
     "text": [
      "0/287\n",
      "30/287\n",
      "60/287\n",
      "90/287\n",
      "120/287\n",
      "150/287\n",
      "180/287\n",
      "210/287\n",
      "240/287\n",
      "270/287\n"
     ]
    },
    {
     "name": "stderr",
     "output_type": "stream",
     "text": [
      " 71%|███████▏  | 285/400 [31:52<12:58,  6.77s/it, loss=10.051]"
     ]
    },
    {
     "name": "stdout",
     "output_type": "stream",
     "text": [
      "0/287\n",
      "30/287\n",
      "60/287\n",
      "90/287\n",
      "120/287\n",
      "150/287\n",
      "180/287\n",
      "210/287\n",
      "240/287\n",
      "270/287\n"
     ]
    },
    {
     "name": "stderr",
     "output_type": "stream",
     "text": [
      " 72%|███████▏  | 286/400 [31:59<12:51,  6.77s/it, loss=9.809]"
     ]
    },
    {
     "name": "stdout",
     "output_type": "stream",
     "text": [
      "0/287\n",
      "30/287\n",
      "60/287\n",
      "90/287\n",
      "120/287\n",
      "150/287\n",
      "180/287\n",
      "210/287\n",
      "240/287\n",
      "270/287\n"
     ]
    },
    {
     "name": "stderr",
     "output_type": "stream",
     "text": [
      " 72%|███████▏  | 287/400 [32:06<12:46,  6.78s/it, loss=9.644]"
     ]
    },
    {
     "name": "stdout",
     "output_type": "stream",
     "text": [
      "0/287\n",
      "30/287\n",
      "60/287\n",
      "90/287\n",
      "120/287\n",
      "150/287\n",
      "180/287\n",
      "210/287\n",
      "240/287\n",
      "270/287\n"
     ]
    },
    {
     "name": "stderr",
     "output_type": "stream",
     "text": [
      " 72%|███████▏  | 288/400 [32:13<12:39,  6.78s/it, loss=9.722]"
     ]
    },
    {
     "name": "stdout",
     "output_type": "stream",
     "text": [
      "0/287\n",
      "30/287\n",
      "60/287\n",
      "90/287\n",
      "120/287\n",
      "150/287\n",
      "180/287\n",
      "210/287\n",
      "240/287\n",
      "270/287\n"
     ]
    },
    {
     "name": "stderr",
     "output_type": "stream",
     "text": [
      " 72%|███████▏  | 289/400 [32:19<12:31,  6.77s/it, loss=9.632]"
     ]
    },
    {
     "name": "stdout",
     "output_type": "stream",
     "text": [
      "0/287\n",
      "30/287\n",
      "60/287\n",
      "90/287\n",
      "120/287\n",
      "150/287\n",
      "180/287\n",
      "210/287\n",
      "240/287\n",
      "270/287\n"
     ]
    },
    {
     "name": "stderr",
     "output_type": "stream",
     "text": [
      " 72%|███████▎  | 290/400 [32:26<12:25,  6.78s/it, loss=9.781]"
     ]
    },
    {
     "name": "stdout",
     "output_type": "stream",
     "text": [
      "0/287\n",
      "30/287\n",
      "60/287\n",
      "90/287\n",
      "120/287\n",
      "150/287\n",
      "180/287\n",
      "210/287\n",
      "240/287\n",
      "270/287\n"
     ]
    },
    {
     "name": "stderr",
     "output_type": "stream",
     "text": [
      " 73%|███████▎  | 291/400 [32:33<12:21,  6.80s/it, loss=9.871]"
     ]
    },
    {
     "name": "stdout",
     "output_type": "stream",
     "text": [
      "0/287\n",
      "30/287\n",
      "60/287\n",
      "90/287\n",
      "120/287\n",
      "150/287\n",
      "180/287\n",
      "210/287\n",
      "240/287\n",
      "270/287\n"
     ]
    },
    {
     "name": "stderr",
     "output_type": "stream",
     "text": [
      " 73%|███████▎  | 292/400 [32:40<12:17,  6.83s/it, loss=9.606]"
     ]
    },
    {
     "name": "stdout",
     "output_type": "stream",
     "text": [
      "0/287\n",
      "30/287\n",
      "60/287\n",
      "90/287\n",
      "120/287\n",
      "150/287\n",
      "180/287\n",
      "210/287\n",
      "240/287\n",
      "270/287\n"
     ]
    },
    {
     "name": "stderr",
     "output_type": "stream",
     "text": [
      " 73%|███████▎  | 293/400 [32:47<12:08,  6.81s/it, loss=9.425]"
     ]
    },
    {
     "name": "stdout",
     "output_type": "stream",
     "text": [
      "0/287\n",
      "30/287\n",
      "60/287\n",
      "90/287\n",
      "120/287\n",
      "150/287\n",
      "180/287\n",
      "210/287\n",
      "240/287\n",
      "270/287\n"
     ]
    },
    {
     "name": "stderr",
     "output_type": "stream",
     "text": [
      " 74%|███████▎  | 294/400 [32:53<12:00,  6.80s/it, loss=9.348]"
     ]
    },
    {
     "name": "stdout",
     "output_type": "stream",
     "text": [
      "0/287\n",
      "30/287\n",
      "60/287\n",
      "90/287\n",
      "120/287\n",
      "150/287\n",
      "180/287\n",
      "210/287\n",
      "240/287\n",
      "270/287\n"
     ]
    },
    {
     "name": "stderr",
     "output_type": "stream",
     "text": [
      " 74%|███████▍  | 295/400 [33:00<11:51,  6.78s/it, loss=9.628]"
     ]
    },
    {
     "name": "stdout",
     "output_type": "stream",
     "text": [
      "0/287\n",
      "30/287\n",
      "60/287\n",
      "90/287\n",
      "120/287\n",
      "150/287\n",
      "180/287\n",
      "210/287\n",
      "240/287\n",
      "270/287\n"
     ]
    },
    {
     "name": "stderr",
     "output_type": "stream",
     "text": [
      " 74%|███████▍  | 296/400 [33:07<11:44,  6.78s/it, loss=9.499]"
     ]
    },
    {
     "name": "stdout",
     "output_type": "stream",
     "text": [
      "0/287\n",
      "30/287\n",
      "60/287\n",
      "90/287\n",
      "120/287\n",
      "150/287\n",
      "180/287\n",
      "210/287\n",
      "240/287\n",
      "270/287\n"
     ]
    },
    {
     "name": "stderr",
     "output_type": "stream",
     "text": [
      " 74%|███████▍  | 297/400 [33:14<11:38,  6.78s/it, loss=9.497]"
     ]
    },
    {
     "name": "stdout",
     "output_type": "stream",
     "text": [
      "0/287\n",
      "30/287\n",
      "60/287\n",
      "90/287\n",
      "120/287\n",
      "150/287\n",
      "180/287\n",
      "210/287\n",
      "240/287\n",
      "270/287\n"
     ]
    },
    {
     "name": "stderr",
     "output_type": "stream",
     "text": [
      " 74%|███████▍  | 298/400 [33:21<11:31,  6.78s/it, loss=9.586]"
     ]
    },
    {
     "name": "stdout",
     "output_type": "stream",
     "text": [
      "0/287\n",
      "30/287\n",
      "60/287\n",
      "90/287\n",
      "120/287\n",
      "150/287\n",
      "180/287\n",
      "210/287\n",
      "240/287\n",
      "270/287\n"
     ]
    },
    {
     "name": "stderr",
     "output_type": "stream",
     "text": [
      " 75%|███████▍  | 299/400 [33:27<11:25,  6.78s/it, loss=9.361]"
     ]
    },
    {
     "name": "stdout",
     "output_type": "stream",
     "text": [
      "0/287\n",
      "30/287\n",
      "60/287\n",
      "90/287\n",
      "120/287\n",
      "150/287\n",
      "180/287\n",
      "210/287\n",
      "240/287\n",
      "270/287\n"
     ]
    },
    {
     "name": "stderr",
     "output_type": "stream",
     "text": [
      " 75%|███████▌  | 300/400 [33:34<11:19,  6.80s/it, loss=9.347]"
     ]
    },
    {
     "name": "stdout",
     "output_type": "stream",
     "text": [
      "0/287\n",
      "30/287\n",
      "60/287\n",
      "90/287\n",
      "120/287\n",
      "150/287\n",
      "180/287\n",
      "210/287\n",
      "240/287\n",
      "270/287\n"
     ]
    },
    {
     "name": "stderr",
     "output_type": "stream",
     "text": [
      " 75%|███████▌  | 301/400 [33:41<11:13,  6.80s/it, loss=9.066]"
     ]
    },
    {
     "name": "stdout",
     "output_type": "stream",
     "text": [
      "0/287\n",
      "30/287\n",
      "60/287\n",
      "90/287\n",
      "120/287\n",
      "150/287\n",
      "180/287\n",
      "210/287\n",
      "240/287\n",
      "270/287\n"
     ]
    },
    {
     "name": "stderr",
     "output_type": "stream",
     "text": [
      " 76%|███████▌  | 302/400 [33:48<11:07,  6.81s/it, loss=9.136]"
     ]
    },
    {
     "name": "stdout",
     "output_type": "stream",
     "text": [
      "0/287\n",
      "30/287\n",
      "60/287\n",
      "90/287\n",
      "120/287\n",
      "150/287\n",
      "180/287\n",
      "210/287\n",
      "240/287\n",
      "270/287\n"
     ]
    },
    {
     "name": "stderr",
     "output_type": "stream",
     "text": [
      " 76%|███████▌  | 303/400 [33:55<10:59,  6.80s/it, loss=9.274]"
     ]
    },
    {
     "name": "stdout",
     "output_type": "stream",
     "text": [
      "0/287\n",
      "30/287\n",
      "60/287\n",
      "90/287\n",
      "120/287\n",
      "150/287\n",
      "180/287\n",
      "210/287\n",
      "240/287\n",
      "270/287\n"
     ]
    },
    {
     "name": "stderr",
     "output_type": "stream",
     "text": [
      " 76%|███████▌  | 304/400 [34:01<10:53,  6.81s/it, loss=9.701]"
     ]
    },
    {
     "name": "stdout",
     "output_type": "stream",
     "text": [
      "0/287\n",
      "30/287\n",
      "60/287\n",
      "90/287\n",
      "120/287\n",
      "150/287\n",
      "180/287\n",
      "210/287\n",
      "240/287\n",
      "270/287\n"
     ]
    },
    {
     "name": "stderr",
     "output_type": "stream",
     "text": [
      " 76%|███████▋  | 305/400 [34:08<10:44,  6.79s/it, loss=9.924]"
     ]
    },
    {
     "name": "stdout",
     "output_type": "stream",
     "text": [
      "0/287\n",
      "30/287\n",
      "60/287\n",
      "90/287\n",
      "120/287\n",
      "150/287\n",
      "180/287\n",
      "210/287\n",
      "240/287\n",
      "270/287\n"
     ]
    },
    {
     "name": "stderr",
     "output_type": "stream",
     "text": [
      " 76%|███████▋  | 306/400 [34:15<10:37,  6.79s/it, loss=9.823]"
     ]
    },
    {
     "name": "stdout",
     "output_type": "stream",
     "text": [
      "0/287\n",
      "30/287\n",
      "60/287\n",
      "90/287\n",
      "120/287\n",
      "150/287\n",
      "180/287\n",
      "210/287\n",
      "240/287\n",
      "270/287\n"
     ]
    },
    {
     "name": "stderr",
     "output_type": "stream",
     "text": [
      " 77%|███████▋  | 307/400 [34:22<10:30,  6.78s/it, loss=9.429]"
     ]
    },
    {
     "name": "stdout",
     "output_type": "stream",
     "text": [
      "0/287\n",
      "30/287\n",
      "60/287\n",
      "90/287\n",
      "120/287\n",
      "150/287\n",
      "180/287\n",
      "210/287\n",
      "240/287\n",
      "270/287\n"
     ]
    },
    {
     "name": "stderr",
     "output_type": "stream",
     "text": [
      " 77%|███████▋  | 308/400 [34:28<10:23,  6.77s/it, loss=9.137]"
     ]
    },
    {
     "name": "stdout",
     "output_type": "stream",
     "text": [
      "0/287\n",
      "30/287\n",
      "60/287\n",
      "90/287\n",
      "120/287\n",
      "150/287\n",
      "180/287\n",
      "210/287\n",
      "240/287\n",
      "270/287\n"
     ]
    },
    {
     "name": "stderr",
     "output_type": "stream",
     "text": [
      " 77%|███████▋  | 309/400 [34:35<10:17,  6.78s/it, loss=9.345]"
     ]
    },
    {
     "name": "stdout",
     "output_type": "stream",
     "text": [
      "0/287\n",
      "30/287\n",
      "60/287\n",
      "90/287\n",
      "120/287\n",
      "150/287\n",
      "180/287\n",
      "210/287\n",
      "240/287\n",
      "270/287\n"
     ]
    },
    {
     "name": "stderr",
     "output_type": "stream",
     "text": [
      " 78%|███████▊  | 310/400 [34:42<10:11,  6.80s/it, loss=9.037]"
     ]
    },
    {
     "name": "stdout",
     "output_type": "stream",
     "text": [
      "0/287\n",
      "30/287\n",
      "60/287\n",
      "90/287\n",
      "120/287\n",
      "150/287\n",
      "180/287\n",
      "210/287\n",
      "240/287\n",
      "270/287\n"
     ]
    },
    {
     "name": "stderr",
     "output_type": "stream",
     "text": [
      " 78%|███████▊  | 311/400 [34:49<10:05,  6.81s/it, loss=9.125]"
     ]
    },
    {
     "name": "stdout",
     "output_type": "stream",
     "text": [
      "0/287\n",
      "30/287\n",
      "60/287\n",
      "90/287\n",
      "120/287\n",
      "150/287\n",
      "180/287\n",
      "210/287\n",
      "240/287\n",
      "270/287\n"
     ]
    },
    {
     "name": "stderr",
     "output_type": "stream",
     "text": [
      " 78%|███████▊  | 312/400 [34:56<10:00,  6.82s/it, loss=9.269]"
     ]
    },
    {
     "name": "stdout",
     "output_type": "stream",
     "text": [
      "0/287\n",
      "30/287\n",
      "60/287\n",
      "90/287\n",
      "120/287\n",
      "150/287\n",
      "180/287\n",
      "210/287\n",
      "240/287\n",
      "270/287\n"
     ]
    },
    {
     "name": "stderr",
     "output_type": "stream",
     "text": [
      " 78%|███████▊  | 313/400 [35:03<09:53,  6.82s/it, loss=9.086]"
     ]
    },
    {
     "name": "stdout",
     "output_type": "stream",
     "text": [
      "0/287\n",
      "30/287\n",
      "60/287\n",
      "90/287\n",
      "120/287\n",
      "150/287\n",
      "180/287\n",
      "210/287\n",
      "240/287\n",
      "270/287\n"
     ]
    },
    {
     "name": "stderr",
     "output_type": "stream",
     "text": [
      " 78%|███████▊  | 314/400 [35:09<09:44,  6.80s/it, loss=8.858]"
     ]
    },
    {
     "name": "stdout",
     "output_type": "stream",
     "text": [
      "0/287\n",
      "30/287\n",
      "60/287\n",
      "90/287\n",
      "120/287\n",
      "150/287\n",
      "180/287\n",
      "210/287\n",
      "240/287\n",
      "270/287\n"
     ]
    },
    {
     "name": "stderr",
     "output_type": "stream",
     "text": [
      " 79%|███████▉  | 315/400 [35:16<09:38,  6.80s/it, loss=8.966]"
     ]
    },
    {
     "name": "stdout",
     "output_type": "stream",
     "text": [
      "0/287\n",
      "30/287\n",
      "60/287\n",
      "90/287\n",
      "120/287\n",
      "150/287\n",
      "180/287\n",
      "210/287\n",
      "240/287\n",
      "270/287\n"
     ]
    },
    {
     "name": "stderr",
     "output_type": "stream",
     "text": [
      " 79%|███████▉  | 316/400 [35:23<09:32,  6.82s/it, loss=8.792]"
     ]
    },
    {
     "name": "stdout",
     "output_type": "stream",
     "text": [
      "0/287\n",
      "30/287\n",
      "60/287\n",
      "90/287\n",
      "120/287\n",
      "150/287\n",
      "180/287\n",
      "210/287\n",
      "240/287\n",
      "270/287\n"
     ]
    },
    {
     "name": "stderr",
     "output_type": "stream",
     "text": [
      " 79%|███████▉  | 317/400 [35:30<09:26,  6.83s/it, loss=8.914]"
     ]
    },
    {
     "name": "stdout",
     "output_type": "stream",
     "text": [
      "0/287\n",
      "30/287\n",
      "60/287\n",
      "90/287\n",
      "120/287\n",
      "150/287\n",
      "180/287\n",
      "210/287\n",
      "240/287\n",
      "270/287\n"
     ]
    },
    {
     "name": "stderr",
     "output_type": "stream",
     "text": [
      " 80%|███████▉  | 318/400 [35:37<09:18,  6.81s/it, loss=8.824]"
     ]
    },
    {
     "name": "stdout",
     "output_type": "stream",
     "text": [
      "0/287\n",
      "30/287\n",
      "60/287\n",
      "90/287\n",
      "120/287\n",
      "150/287\n",
      "180/287\n",
      "210/287\n",
      "240/287\n",
      "270/287\n"
     ]
    },
    {
     "name": "stderr",
     "output_type": "stream",
     "text": [
      " 80%|███████▉  | 319/400 [35:43<09:09,  6.78s/it, loss=8.968]"
     ]
    },
    {
     "name": "stdout",
     "output_type": "stream",
     "text": [
      "0/287\n",
      "30/287\n",
      "60/287\n",
      "90/287\n",
      "120/287\n",
      "150/287\n",
      "180/287\n",
      "210/287\n",
      "240/287\n",
      "270/287\n"
     ]
    },
    {
     "name": "stderr",
     "output_type": "stream",
     "text": [
      " 80%|████████  | 320/400 [35:50<09:01,  6.77s/it, loss=9.620]"
     ]
    },
    {
     "name": "stdout",
     "output_type": "stream",
     "text": [
      "0/287\n",
      "30/287\n",
      "60/287\n",
      "90/287\n",
      "120/287\n",
      "150/287\n",
      "180/287\n",
      "210/287\n",
      "240/287\n",
      "270/287\n"
     ]
    },
    {
     "name": "stderr",
     "output_type": "stream",
     "text": [
      " 80%|████████  | 321/400 [35:57<08:55,  6.78s/it, loss=9.523]"
     ]
    },
    {
     "name": "stdout",
     "output_type": "stream",
     "text": [
      "0/287\n",
      "30/287\n",
      "60/287\n",
      "90/287\n",
      "120/287\n",
      "150/287\n",
      "180/287\n",
      "210/287\n",
      "240/287\n",
      "270/287\n"
     ]
    },
    {
     "name": "stderr",
     "output_type": "stream",
     "text": [
      " 80%|████████  | 322/400 [36:04<08:48,  6.78s/it, loss=9.150]"
     ]
    },
    {
     "name": "stdout",
     "output_type": "stream",
     "text": [
      "0/287\n",
      "30/287\n",
      "60/287\n",
      "90/287\n",
      "120/287\n",
      "150/287\n",
      "180/287\n",
      "210/287\n",
      "240/287\n",
      "270/287\n"
     ]
    },
    {
     "name": "stderr",
     "output_type": "stream",
     "text": [
      " 81%|████████  | 323/400 [36:10<08:41,  6.77s/it, loss=8.999]"
     ]
    },
    {
     "name": "stdout",
     "output_type": "stream",
     "text": [
      "0/287\n",
      "30/287\n",
      "60/287\n",
      "90/287\n",
      "120/287\n",
      "150/287\n",
      "180/287\n",
      "210/287\n",
      "240/287\n",
      "270/287\n"
     ]
    },
    {
     "name": "stderr",
     "output_type": "stream",
     "text": [
      " 81%|████████  | 324/400 [36:17<08:34,  6.77s/it, loss=9.045]"
     ]
    },
    {
     "name": "stdout",
     "output_type": "stream",
     "text": [
      "0/287\n",
      "30/287\n",
      "60/287\n",
      "90/287\n",
      "120/287\n",
      "150/287\n",
      "180/287\n",
      "210/287\n",
      "240/287\n",
      "270/287\n"
     ]
    },
    {
     "name": "stderr",
     "output_type": "stream",
     "text": [
      " 81%|████████▏ | 325/400 [36:24<08:28,  6.78s/it, loss=8.763]"
     ]
    },
    {
     "name": "stdout",
     "output_type": "stream",
     "text": [
      "0/287\n",
      "30/287\n",
      "60/287\n",
      "90/287\n",
      "120/287\n",
      "150/287\n",
      "180/287\n",
      "210/287\n",
      "240/287\n",
      "270/287\n"
     ]
    },
    {
     "name": "stderr",
     "output_type": "stream",
     "text": [
      " 82%|████████▏ | 326/400 [36:31<08:22,  6.79s/it, loss=8.865]"
     ]
    },
    {
     "name": "stdout",
     "output_type": "stream",
     "text": [
      "0/287\n",
      "30/287\n",
      "60/287\n",
      "90/287\n",
      "120/287\n",
      "150/287\n",
      "180/287\n",
      "210/287\n",
      "240/287\n",
      "270/287\n"
     ]
    },
    {
     "name": "stderr",
     "output_type": "stream",
     "text": [
      " 82%|████████▏ | 327/400 [36:38<08:16,  6.80s/it, loss=8.685]"
     ]
    },
    {
     "name": "stdout",
     "output_type": "stream",
     "text": [
      "0/287\n",
      "30/287\n",
      "60/287\n",
      "90/287\n",
      "120/287\n",
      "150/287\n",
      "180/287\n",
      "210/287\n",
      "240/287\n",
      "270/287\n"
     ]
    },
    {
     "name": "stderr",
     "output_type": "stream",
     "text": [
      " 82%|████████▏ | 328/400 [36:44<08:09,  6.80s/it, loss=8.780]"
     ]
    },
    {
     "name": "stdout",
     "output_type": "stream",
     "text": [
      "0/287\n",
      "30/287\n",
      "60/287\n",
      "90/287\n",
      "120/287\n",
      "150/287\n",
      "180/287\n",
      "210/287\n",
      "240/287\n",
      "270/287\n"
     ]
    },
    {
     "name": "stderr",
     "output_type": "stream",
     "text": [
      " 82%|████████▏ | 329/400 [36:51<08:02,  6.79s/it, loss=8.929]"
     ]
    },
    {
     "name": "stdout",
     "output_type": "stream",
     "text": [
      "0/287\n",
      "30/287\n",
      "60/287\n",
      "90/287\n",
      "120/287\n",
      "150/287\n",
      "180/287\n",
      "210/287\n",
      "240/287\n",
      "270/287\n"
     ]
    },
    {
     "name": "stderr",
     "output_type": "stream",
     "text": [
      " 82%|████████▎ | 330/400 [36:58<07:56,  6.80s/it, loss=8.800]"
     ]
    },
    {
     "name": "stdout",
     "output_type": "stream",
     "text": [
      "0/287\n",
      "30/287\n",
      "60/287\n",
      "90/287\n",
      "120/287\n",
      "150/287\n",
      "180/287\n",
      "210/287\n",
      "240/287\n",
      "270/287\n"
     ]
    },
    {
     "name": "stderr",
     "output_type": "stream",
     "text": [
      " 83%|████████▎ | 331/400 [37:05<07:48,  6.80s/it, loss=8.630]"
     ]
    },
    {
     "name": "stdout",
     "output_type": "stream",
     "text": [
      "0/287\n",
      "30/287\n",
      "60/287\n",
      "90/287\n",
      "120/287\n",
      "150/287\n",
      "180/287\n",
      "210/287\n",
      "240/287\n",
      "270/287\n"
     ]
    },
    {
     "name": "stderr",
     "output_type": "stream",
     "text": [
      " 83%|████████▎ | 332/400 [37:12<07:40,  6.78s/it, loss=8.773]"
     ]
    },
    {
     "name": "stdout",
     "output_type": "stream",
     "text": [
      "0/287\n",
      "30/287\n",
      "60/287\n",
      "90/287\n",
      "120/287\n",
      "150/287\n",
      "180/287\n",
      "210/287\n",
      "240/287\n",
      "270/287\n"
     ]
    },
    {
     "name": "stderr",
     "output_type": "stream",
     "text": [
      " 83%|████████▎ | 333/400 [37:18<07:33,  6.76s/it, loss=8.590]"
     ]
    },
    {
     "name": "stdout",
     "output_type": "stream",
     "text": [
      "0/287\n",
      "30/287\n",
      "60/287\n",
      "90/287\n",
      "120/287\n",
      "150/287\n",
      "180/287\n",
      "210/287\n",
      "240/287\n",
      "270/287\n"
     ]
    },
    {
     "name": "stderr",
     "output_type": "stream",
     "text": [
      " 84%|████████▎ | 334/400 [37:25<07:26,  6.76s/it, loss=8.672]"
     ]
    },
    {
     "name": "stdout",
     "output_type": "stream",
     "text": [
      "0/287\n",
      "30/287\n",
      "60/287\n",
      "90/287\n",
      "120/287\n",
      "150/287\n",
      "180/287\n",
      "210/287\n",
      "240/287\n",
      "270/287\n"
     ]
    },
    {
     "name": "stderr",
     "output_type": "stream",
     "text": [
      " 84%|████████▍ | 335/400 [37:32<07:19,  6.76s/it, loss=8.583]"
     ]
    },
    {
     "name": "stdout",
     "output_type": "stream",
     "text": [
      "0/287\n",
      "30/287\n",
      "60/287\n",
      "90/287\n",
      "120/287\n",
      "150/287\n",
      "180/287\n",
      "210/287\n",
      "240/287\n",
      "270/287\n"
     ]
    },
    {
     "name": "stderr",
     "output_type": "stream",
     "text": [
      " 84%|████████▍ | 336/400 [37:39<07:12,  6.76s/it, loss=8.639]"
     ]
    },
    {
     "name": "stdout",
     "output_type": "stream",
     "text": [
      "0/287\n",
      "30/287\n",
      "60/287\n",
      "90/287\n",
      "120/287\n",
      "150/287\n",
      "180/287\n",
      "210/287\n",
      "240/287\n",
      "270/287\n"
     ]
    },
    {
     "name": "stderr",
     "output_type": "stream",
     "text": [
      " 84%|████████▍ | 337/400 [37:45<07:04,  6.74s/it, loss=8.784]"
     ]
    },
    {
     "name": "stdout",
     "output_type": "stream",
     "text": [
      "0/287\n",
      "30/287\n",
      "60/287\n",
      "90/287\n",
      "120/287\n",
      "150/287\n",
      "180/287\n",
      "210/287\n",
      "240/287\n",
      "270/287\n"
     ]
    },
    {
     "name": "stderr",
     "output_type": "stream",
     "text": [
      " 84%|████████▍ | 338/400 [37:52<06:57,  6.73s/it, loss=8.606]"
     ]
    },
    {
     "name": "stdout",
     "output_type": "stream",
     "text": [
      "0/287\n",
      "30/287\n",
      "60/287\n",
      "90/287\n",
      "120/287\n",
      "150/287\n",
      "180/287\n",
      "210/287\n",
      "240/287\n",
      "270/287\n"
     ]
    },
    {
     "name": "stderr",
     "output_type": "stream",
     "text": [
      " 85%|████████▍ | 339/400 [37:59<06:51,  6.74s/it, loss=8.625]"
     ]
    },
    {
     "name": "stdout",
     "output_type": "stream",
     "text": [
      "0/287\n",
      "30/287\n",
      "60/287\n",
      "90/287\n",
      "120/287\n",
      "150/287\n",
      "180/287\n",
      "210/287\n",
      "240/287\n",
      "270/287\n"
     ]
    },
    {
     "name": "stderr",
     "output_type": "stream",
     "text": [
      " 85%|████████▌ | 340/400 [38:06<06:45,  6.76s/it, loss=8.750]"
     ]
    },
    {
     "name": "stdout",
     "output_type": "stream",
     "text": [
      "0/287\n",
      "30/287\n",
      "60/287\n",
      "90/287\n",
      "120/287\n",
      "150/287\n",
      "180/287\n",
      "210/287\n",
      "240/287\n",
      "270/287\n"
     ]
    },
    {
     "name": "stderr",
     "output_type": "stream",
     "text": [
      " 85%|████████▌ | 341/400 [38:12<06:38,  6.76s/it, loss=8.350]"
     ]
    },
    {
     "name": "stdout",
     "output_type": "stream",
     "text": [
      "0/287\n",
      "30/287\n",
      "60/287\n",
      "90/287\n",
      "120/287\n",
      "150/287\n",
      "180/287\n",
      "210/287\n",
      "240/287\n",
      "270/287\n"
     ]
    },
    {
     "name": "stderr",
     "output_type": "stream",
     "text": [
      " 86%|████████▌ | 342/400 [38:19<06:31,  6.75s/it, loss=8.606]"
     ]
    },
    {
     "name": "stdout",
     "output_type": "stream",
     "text": [
      "0/287\n",
      "30/287\n",
      "60/287\n",
      "90/287\n",
      "120/287\n",
      "150/287\n",
      "180/287\n",
      "210/287\n",
      "240/287\n",
      "270/287\n"
     ]
    },
    {
     "name": "stderr",
     "output_type": "stream",
     "text": [
      " 86%|████████▌ | 343/400 [38:26<06:24,  6.74s/it, loss=8.662]"
     ]
    },
    {
     "name": "stdout",
     "output_type": "stream",
     "text": [
      "0/287\n",
      "30/287\n",
      "60/287\n",
      "90/287\n",
      "120/287\n",
      "150/287\n",
      "180/287\n",
      "210/287\n",
      "240/287\n",
      "270/287\n"
     ]
    },
    {
     "name": "stderr",
     "output_type": "stream",
     "text": [
      " 86%|████████▌ | 344/400 [38:33<06:18,  6.76s/it, loss=8.752]"
     ]
    },
    {
     "name": "stdout",
     "output_type": "stream",
     "text": [
      "0/287\n",
      "30/287\n",
      "60/287\n",
      "90/287\n",
      "120/287\n",
      "150/287\n",
      "180/287\n",
      "210/287\n",
      "240/287\n",
      "270/287\n"
     ]
    },
    {
     "name": "stderr",
     "output_type": "stream",
     "text": [
      " 86%|████████▋ | 345/400 [38:39<06:13,  6.79s/it, loss=8.581]"
     ]
    },
    {
     "name": "stdout",
     "output_type": "stream",
     "text": [
      "0/287\n",
      "30/287\n",
      "60/287\n",
      "90/287\n",
      "120/287\n",
      "150/287\n",
      "180/287\n",
      "210/287\n",
      "240/287\n",
      "270/287\n"
     ]
    },
    {
     "name": "stderr",
     "output_type": "stream",
     "text": [
      " 86%|████████▋ | 346/400 [38:46<06:06,  6.79s/it, loss=8.558]"
     ]
    },
    {
     "name": "stdout",
     "output_type": "stream",
     "text": [
      "0/287\n",
      "30/287\n",
      "60/287\n",
      "90/287\n",
      "120/287\n",
      "150/287\n",
      "180/287\n",
      "210/287\n",
      "240/287\n",
      "270/287\n"
     ]
    },
    {
     "name": "stderr",
     "output_type": "stream",
     "text": [
      " 87%|████████▋ | 347/400 [38:53<05:58,  6.76s/it, loss=8.428]"
     ]
    },
    {
     "name": "stdout",
     "output_type": "stream",
     "text": [
      "0/287\n",
      "30/287\n",
      "60/287\n",
      "90/287\n",
      "120/287\n",
      "150/287\n",
      "180/287\n",
      "210/287\n",
      "240/287\n",
      "270/287\n"
     ]
    },
    {
     "name": "stderr",
     "output_type": "stream",
     "text": [
      " 87%|████████▋ | 348/400 [39:00<05:50,  6.75s/it, loss=8.545]"
     ]
    },
    {
     "name": "stdout",
     "output_type": "stream",
     "text": [
      "0/287\n",
      "30/287\n",
      "60/287\n",
      "90/287\n",
      "120/287\n",
      "150/287\n",
      "180/287\n",
      "210/287\n",
      "240/287\n",
      "270/287\n"
     ]
    },
    {
     "name": "stderr",
     "output_type": "stream",
     "text": [
      " 87%|████████▋ | 349/400 [39:06<05:44,  6.75s/it, loss=8.565]"
     ]
    },
    {
     "name": "stdout",
     "output_type": "stream",
     "text": [
      "0/287\n",
      "30/287\n",
      "60/287\n",
      "90/287\n",
      "120/287\n",
      "150/287\n",
      "180/287\n",
      "210/287\n",
      "240/287\n",
      "270/287\n"
     ]
    },
    {
     "name": "stderr",
     "output_type": "stream",
     "text": [
      " 88%|████████▊ | 350/400 [39:13<05:37,  6.76s/it, loss=8.594]"
     ]
    },
    {
     "name": "stdout",
     "output_type": "stream",
     "text": [
      "0/287\n",
      "30/287\n",
      "60/287\n",
      "90/287\n",
      "120/287\n",
      "150/287\n",
      "180/287\n",
      "210/287\n",
      "240/287\n",
      "270/287\n"
     ]
    },
    {
     "name": "stderr",
     "output_type": "stream",
     "text": [
      " 88%|████████▊ | 351/400 [39:20<05:31,  6.77s/it, loss=8.593]"
     ]
    },
    {
     "name": "stdout",
     "output_type": "stream",
     "text": [
      "0/287\n",
      "30/287\n",
      "60/287\n",
      "90/287\n",
      "120/287\n",
      "150/287\n",
      "180/287\n",
      "210/287\n",
      "240/287\n",
      "270/287\n"
     ]
    },
    {
     "name": "stderr",
     "output_type": "stream",
     "text": [
      " 88%|████████▊ | 352/400 [39:27<05:24,  6.77s/it, loss=8.666]"
     ]
    },
    {
     "name": "stdout",
     "output_type": "stream",
     "text": [
      "0/287\n",
      "30/287\n",
      "60/287\n",
      "90/287\n",
      "120/287\n",
      "150/287\n",
      "180/287\n",
      "210/287\n",
      "240/287\n",
      "270/287\n"
     ]
    },
    {
     "name": "stderr",
     "output_type": "stream",
     "text": [
      " 88%|████████▊ | 353/400 [39:33<05:17,  6.75s/it, loss=8.394]"
     ]
    },
    {
     "name": "stdout",
     "output_type": "stream",
     "text": [
      "0/287\n",
      "30/287\n",
      "60/287\n",
      "90/287\n",
      "120/287\n",
      "150/287\n",
      "180/287\n",
      "210/287\n",
      "240/287\n",
      "270/287\n"
     ]
    },
    {
     "name": "stderr",
     "output_type": "stream",
     "text": [
      " 88%|████████▊ | 354/400 [39:40<05:09,  6.73s/it, loss=8.466]"
     ]
    },
    {
     "name": "stdout",
     "output_type": "stream",
     "text": [
      "0/287\n",
      "30/287\n",
      "60/287\n",
      "90/287\n",
      "120/287\n",
      "150/287\n",
      "180/287\n",
      "210/287\n",
      "240/287\n",
      "270/287\n"
     ]
    },
    {
     "name": "stderr",
     "output_type": "stream",
     "text": [
      " 89%|████████▉ | 355/400 [39:47<05:02,  6.73s/it, loss=8.552]"
     ]
    },
    {
     "name": "stdout",
     "output_type": "stream",
     "text": [
      "0/287\n",
      "30/287\n",
      "60/287\n",
      "90/287\n",
      "120/287\n",
      "150/287\n",
      "180/287\n",
      "210/287\n",
      "240/287\n",
      "270/287\n"
     ]
    },
    {
     "name": "stderr",
     "output_type": "stream",
     "text": [
      " 89%|████████▉ | 356/400 [39:54<04:55,  6.72s/it, loss=8.443]"
     ]
    },
    {
     "name": "stdout",
     "output_type": "stream",
     "text": [
      "0/287\n",
      "30/287\n",
      "60/287\n",
      "90/287\n",
      "120/287\n",
      "150/287\n",
      "180/287\n",
      "210/287\n",
      "240/287\n",
      "270/287\n"
     ]
    },
    {
     "name": "stderr",
     "output_type": "stream",
     "text": [
      " 89%|████████▉ | 357/400 [40:00<04:49,  6.73s/it, loss=8.304]"
     ]
    },
    {
     "name": "stdout",
     "output_type": "stream",
     "text": [
      "0/287\n",
      "30/287\n",
      "60/287\n",
      "90/287\n",
      "120/287\n",
      "150/287\n",
      "180/287\n",
      "210/287\n",
      "240/287\n",
      "270/287\n"
     ]
    },
    {
     "name": "stderr",
     "output_type": "stream",
     "text": [
      " 90%|████████▉ | 358/400 [40:07<04:42,  6.72s/it, loss=8.631]"
     ]
    },
    {
     "name": "stdout",
     "output_type": "stream",
     "text": [
      "0/287\n",
      "30/287\n",
      "60/287\n",
      "90/287\n",
      "120/287\n",
      "150/287\n",
      "180/287\n",
      "210/287\n",
      "240/287\n",
      "270/287\n"
     ]
    },
    {
     "name": "stderr",
     "output_type": "stream",
     "text": [
      " 90%|████████▉ | 359/400 [40:14<04:35,  6.72s/it, loss=8.385]"
     ]
    },
    {
     "name": "stdout",
     "output_type": "stream",
     "text": [
      "0/287\n",
      "30/287\n",
      "60/287\n",
      "90/287\n",
      "120/287\n",
      "150/287\n",
      "180/287\n",
      "210/287\n",
      "240/287\n",
      "270/287\n"
     ]
    },
    {
     "name": "stderr",
     "output_type": "stream",
     "text": [
      " 90%|█████████ | 360/400 [40:20<04:29,  6.74s/it, loss=8.559]"
     ]
    },
    {
     "name": "stdout",
     "output_type": "stream",
     "text": [
      "0/287\n",
      "30/287\n",
      "60/287\n",
      "90/287\n",
      "120/287\n",
      "150/287\n",
      "180/287\n",
      "210/287\n",
      "240/287\n",
      "270/287\n"
     ]
    },
    {
     "name": "stderr",
     "output_type": "stream",
     "text": [
      " 90%|█████████ | 361/400 [40:27<04:23,  6.76s/it, loss=8.547]"
     ]
    },
    {
     "name": "stdout",
     "output_type": "stream",
     "text": [
      "0/287\n",
      "30/287\n",
      "60/287\n",
      "90/287\n",
      "120/287\n",
      "150/287\n",
      "180/287\n",
      "210/287\n",
      "240/287\n",
      "270/287\n"
     ]
    },
    {
     "name": "stderr",
     "output_type": "stream",
     "text": [
      " 90%|█████████ | 362/400 [40:34<04:15,  6.74s/it, loss=8.416]"
     ]
    },
    {
     "name": "stdout",
     "output_type": "stream",
     "text": [
      "0/287\n",
      "30/287\n",
      "60/287\n",
      "90/287\n",
      "120/287\n",
      "150/287\n",
      "180/287\n",
      "210/287\n",
      "240/287\n",
      "270/287\n"
     ]
    },
    {
     "name": "stderr",
     "output_type": "stream",
     "text": [
      " 91%|█████████ | 363/400 [40:41<04:08,  6.73s/it, loss=8.317]"
     ]
    },
    {
     "name": "stdout",
     "output_type": "stream",
     "text": [
      "0/287\n",
      "30/287\n",
      "60/287\n",
      "90/287\n",
      "120/287\n",
      "150/287\n",
      "180/287\n",
      "210/287\n",
      "240/287\n",
      "270/287\n"
     ]
    },
    {
     "name": "stderr",
     "output_type": "stream",
     "text": [
      " 91%|█████████ | 364/400 [40:47<04:02,  6.74s/it, loss=8.475]"
     ]
    },
    {
     "name": "stdout",
     "output_type": "stream",
     "text": [
      "0/287\n",
      "30/287\n",
      "60/287\n",
      "90/287\n",
      "120/287\n",
      "150/287\n",
      "180/287\n",
      "210/287\n",
      "240/287\n",
      "270/287\n"
     ]
    },
    {
     "name": "stderr",
     "output_type": "stream",
     "text": [
      " 91%|█████████▏| 365/400 [40:54<03:56,  6.75s/it, loss=8.354]"
     ]
    },
    {
     "name": "stdout",
     "output_type": "stream",
     "text": [
      "0/287\n",
      "30/287\n",
      "60/287\n",
      "90/287\n",
      "120/287\n",
      "150/287\n",
      "180/287\n",
      "210/287\n",
      "240/287\n",
      "270/287\n"
     ]
    },
    {
     "name": "stderr",
     "output_type": "stream",
     "text": [
      " 92%|█████████▏| 366/400 [41:01<03:49,  6.74s/it, loss=8.488]"
     ]
    },
    {
     "name": "stdout",
     "output_type": "stream",
     "text": [
      "0/287\n",
      "30/287\n",
      "60/287\n",
      "90/287\n",
      "120/287\n",
      "150/287\n",
      "180/287\n",
      "210/287\n",
      "240/287\n",
      "270/287\n"
     ]
    },
    {
     "name": "stderr",
     "output_type": "stream",
     "text": [
      " 92%|█████████▏| 367/400 [41:08<03:41,  6.71s/it, loss=8.486]"
     ]
    },
    {
     "name": "stdout",
     "output_type": "stream",
     "text": [
      "0/287\n",
      "30/287\n",
      "60/287\n",
      "90/287\n",
      "120/287\n",
      "150/287\n",
      "180/287\n",
      "210/287\n",
      "240/287\n",
      "270/287\n"
     ]
    },
    {
     "name": "stderr",
     "output_type": "stream",
     "text": [
      " 92%|█████████▏| 368/400 [41:14<03:34,  6.70s/it, loss=8.482]"
     ]
    },
    {
     "name": "stdout",
     "output_type": "stream",
     "text": [
      "0/287\n",
      "30/287\n",
      "60/287\n",
      "90/287\n",
      "120/287\n",
      "150/287\n",
      "180/287\n",
      "210/287\n",
      "240/287\n",
      "270/287\n"
     ]
    },
    {
     "name": "stderr",
     "output_type": "stream",
     "text": [
      " 92%|█████████▏| 369/400 [41:21<03:27,  6.69s/it, loss=8.418]"
     ]
    },
    {
     "name": "stdout",
     "output_type": "stream",
     "text": [
      "0/287\n",
      "30/287\n",
      "60/287\n",
      "90/287\n",
      "120/287\n",
      "150/287\n",
      "180/287\n",
      "210/287\n",
      "240/287\n",
      "270/287\n"
     ]
    },
    {
     "name": "stderr",
     "output_type": "stream",
     "text": [
      " 92%|█████████▎| 370/400 [41:28<03:21,  6.70s/it, loss=8.457]"
     ]
    },
    {
     "name": "stdout",
     "output_type": "stream",
     "text": [
      "0/287\n",
      "30/287\n",
      "60/287\n",
      "90/287\n",
      "120/287\n",
      "150/287\n",
      "180/287\n",
      "210/287\n",
      "240/287\n",
      "270/287\n"
     ]
    },
    {
     "name": "stderr",
     "output_type": "stream",
     "text": [
      " 93%|█████████▎| 371/400 [41:34<03:14,  6.71s/it, loss=8.406]"
     ]
    },
    {
     "name": "stdout",
     "output_type": "stream",
     "text": [
      "0/287\n",
      "30/287\n",
      "60/287\n",
      "90/287\n",
      "120/287\n",
      "150/287\n",
      "180/287\n",
      "210/287\n",
      "240/287\n",
      "270/287\n"
     ]
    },
    {
     "name": "stderr",
     "output_type": "stream",
     "text": [
      " 93%|█████████▎| 372/400 [41:41<03:07,  6.70s/it, loss=8.391]"
     ]
    },
    {
     "name": "stdout",
     "output_type": "stream",
     "text": [
      "0/287\n",
      "30/287\n",
      "60/287\n",
      "90/287\n",
      "120/287\n",
      "150/287\n",
      "180/287\n",
      "210/287\n",
      "240/287\n",
      "270/287\n"
     ]
    },
    {
     "name": "stderr",
     "output_type": "stream",
     "text": [
      " 93%|█████████▎| 373/400 [41:48<03:01,  6.72s/it, loss=8.428]"
     ]
    },
    {
     "name": "stdout",
     "output_type": "stream",
     "text": [
      "0/287\n",
      "30/287\n",
      "60/287\n",
      "90/287\n",
      "120/287\n",
      "150/287\n",
      "180/287\n",
      "210/287\n",
      "240/287\n",
      "270/287\n"
     ]
    },
    {
     "name": "stderr",
     "output_type": "stream",
     "text": [
      " 94%|█████████▎| 374/400 [41:55<02:54,  6.72s/it, loss=8.425]"
     ]
    },
    {
     "name": "stdout",
     "output_type": "stream",
     "text": [
      "0/287\n",
      "30/287\n",
      "60/287\n",
      "90/287\n",
      "120/287\n",
      "150/287\n",
      "180/287\n",
      "210/287\n",
      "240/287\n",
      "270/287\n"
     ]
    },
    {
     "name": "stderr",
     "output_type": "stream",
     "text": [
      " 94%|█████████▍| 375/400 [42:01<02:48,  6.75s/it, loss=8.254]"
     ]
    },
    {
     "name": "stdout",
     "output_type": "stream",
     "text": [
      "0/287\n",
      "30/287\n",
      "60/287\n",
      "90/287\n",
      "120/287\n",
      "150/287\n",
      "180/287\n",
      "210/287\n",
      "240/287\n",
      "270/287\n"
     ]
    },
    {
     "name": "stderr",
     "output_type": "stream",
     "text": [
      " 94%|█████████▍| 376/400 [42:08<02:42,  6.76s/it, loss=8.353]"
     ]
    },
    {
     "name": "stdout",
     "output_type": "stream",
     "text": [
      "0/287\n",
      "30/287\n",
      "60/287\n",
      "90/287\n",
      "120/287\n",
      "150/287\n",
      "180/287\n",
      "210/287\n",
      "240/287\n",
      "270/287\n"
     ]
    },
    {
     "name": "stderr",
     "output_type": "stream",
     "text": [
      " 94%|█████████▍| 377/400 [42:15<02:35,  6.75s/it, loss=8.274]"
     ]
    },
    {
     "name": "stdout",
     "output_type": "stream",
     "text": [
      "0/287\n",
      "30/287\n",
      "60/287\n",
      "90/287\n",
      "120/287\n",
      "150/287\n",
      "180/287\n",
      "210/287\n",
      "240/287\n",
      "270/287\n"
     ]
    },
    {
     "name": "stderr",
     "output_type": "stream",
     "text": [
      " 94%|█████████▍| 378/400 [42:22<02:28,  6.73s/it, loss=8.430]"
     ]
    },
    {
     "name": "stdout",
     "output_type": "stream",
     "text": [
      "0/287\n",
      "30/287\n",
      "60/287\n",
      "90/287\n",
      "120/287\n",
      "150/287\n",
      "180/287\n",
      "210/287\n",
      "240/287\n",
      "270/287\n"
     ]
    },
    {
     "name": "stderr",
     "output_type": "stream",
     "text": [
      " 95%|█████████▍| 379/400 [42:28<02:21,  6.72s/it, loss=8.279]"
     ]
    },
    {
     "name": "stdout",
     "output_type": "stream",
     "text": [
      "0/287\n",
      "30/287\n",
      "60/287\n",
      "90/287\n",
      "120/287\n",
      "150/287\n",
      "180/287\n",
      "210/287\n",
      "240/287\n",
      "270/287\n"
     ]
    },
    {
     "name": "stderr",
     "output_type": "stream",
     "text": [
      " 95%|█████████▌| 380/400 [42:35<02:14,  6.75s/it, loss=8.359]"
     ]
    },
    {
     "name": "stdout",
     "output_type": "stream",
     "text": [
      "0/287\n",
      "30/287\n",
      "60/287\n",
      "90/287\n",
      "120/287\n",
      "150/287\n",
      "180/287\n",
      "210/287\n",
      "240/287\n",
      "270/287\n"
     ]
    },
    {
     "name": "stderr",
     "output_type": "stream",
     "text": [
      " 95%|█████████▌| 381/400 [42:42<02:08,  6.75s/it, loss=8.309]"
     ]
    },
    {
     "name": "stdout",
     "output_type": "stream",
     "text": [
      "0/287\n",
      "30/287\n",
      "60/287\n",
      "90/287\n",
      "120/287\n",
      "150/287\n",
      "180/287\n",
      "210/287\n",
      "240/287\n",
      "270/287\n"
     ]
    },
    {
     "name": "stderr",
     "output_type": "stream",
     "text": [
      " 96%|█████████▌| 382/400 [42:48<02:01,  6.73s/it, loss=8.530]"
     ]
    },
    {
     "name": "stdout",
     "output_type": "stream",
     "text": [
      "0/287\n",
      "30/287\n",
      "60/287\n",
      "90/287\n",
      "120/287\n",
      "150/287\n",
      "180/287\n",
      "210/287\n",
      "240/287\n",
      "270/287\n"
     ]
    },
    {
     "name": "stderr",
     "output_type": "stream",
     "text": [
      " 96%|█████████▌| 383/400 [42:55<01:54,  6.71s/it, loss=8.368]"
     ]
    },
    {
     "name": "stdout",
     "output_type": "stream",
     "text": [
      "0/287\n",
      "30/287\n",
      "60/287\n",
      "90/287\n",
      "120/287\n",
      "150/287\n",
      "180/287\n",
      "210/287\n",
      "240/287\n",
      "270/287\n"
     ]
    },
    {
     "name": "stderr",
     "output_type": "stream",
     "text": [
      " 96%|█████████▌| 384/400 [43:02<01:47,  6.70s/it, loss=8.496]"
     ]
    },
    {
     "name": "stdout",
     "output_type": "stream",
     "text": [
      "0/287\n",
      "30/287\n",
      "60/287\n",
      "90/287\n",
      "120/287\n",
      "150/287\n",
      "180/287\n",
      "210/287\n",
      "240/287\n",
      "270/287\n"
     ]
    },
    {
     "name": "stderr",
     "output_type": "stream",
     "text": [
      " 96%|█████████▋| 385/400 [43:09<01:40,  6.70s/it, loss=8.502]"
     ]
    },
    {
     "name": "stdout",
     "output_type": "stream",
     "text": [
      "0/287\n",
      "30/287\n",
      "60/287\n",
      "90/287\n",
      "120/287\n",
      "150/287\n",
      "180/287\n",
      "210/287\n",
      "240/287\n",
      "270/287\n"
     ]
    },
    {
     "name": "stderr",
     "output_type": "stream",
     "text": [
      " 96%|█████████▋| 386/400 [43:15<01:33,  6.69s/it, loss=8.349]"
     ]
    },
    {
     "name": "stdout",
     "output_type": "stream",
     "text": [
      "0/287\n",
      "30/287\n",
      "60/287\n",
      "90/287\n",
      "120/287\n",
      "150/287\n",
      "180/287\n",
      "210/287\n",
      "240/287\n",
      "270/287\n"
     ]
    },
    {
     "name": "stderr",
     "output_type": "stream",
     "text": [
      " 97%|█████████▋| 387/400 [43:22<01:27,  6.69s/it, loss=8.330]"
     ]
    },
    {
     "name": "stdout",
     "output_type": "stream",
     "text": [
      "0/287\n",
      "30/287\n",
      "60/287\n",
      "90/287\n",
      "120/287\n",
      "150/287\n",
      "180/287\n",
      "210/287\n",
      "240/287\n",
      "270/287\n"
     ]
    },
    {
     "name": "stderr",
     "output_type": "stream",
     "text": [
      " 97%|█████████▋| 388/400 [43:29<01:20,  6.72s/it, loss=8.208]"
     ]
    },
    {
     "name": "stdout",
     "output_type": "stream",
     "text": [
      "0/287\n",
      "30/287\n",
      "60/287\n",
      "90/287\n",
      "120/287\n",
      "150/287\n",
      "180/287\n",
      "210/287\n",
      "240/287\n",
      "270/287\n"
     ]
    },
    {
     "name": "stderr",
     "output_type": "stream",
     "text": [
      " 97%|█████████▋| 389/400 [43:36<01:14,  6.77s/it, loss=8.338]"
     ]
    },
    {
     "name": "stdout",
     "output_type": "stream",
     "text": [
      "0/287\n",
      "30/287\n",
      "60/287\n",
      "90/287\n",
      "120/287\n",
      "150/287\n",
      "180/287\n",
      "210/287\n",
      "240/287\n",
      "270/287\n"
     ]
    },
    {
     "name": "stderr",
     "output_type": "stream",
     "text": [
      " 98%|█████████▊| 390/400 [43:42<01:08,  6.81s/it, loss=8.320]"
     ]
    },
    {
     "name": "stdout",
     "output_type": "stream",
     "text": [
      "0/287\n",
      "30/287\n",
      "60/287\n",
      "90/287\n",
      "120/287\n",
      "150/287\n",
      "180/287\n",
      "210/287\n",
      "240/287\n",
      "270/287\n"
     ]
    },
    {
     "name": "stderr",
     "output_type": "stream",
     "text": [
      " 98%|█████████▊| 391/400 [43:49<01:01,  6.81s/it, loss=8.322]"
     ]
    },
    {
     "name": "stdout",
     "output_type": "stream",
     "text": [
      "0/287\n",
      "30/287\n",
      "60/287\n",
      "90/287\n",
      "120/287\n",
      "150/287\n",
      "180/287\n",
      "210/287\n",
      "240/287\n",
      "270/287\n"
     ]
    },
    {
     "name": "stderr",
     "output_type": "stream",
     "text": [
      " 98%|█████████▊| 392/400 [43:56<00:54,  6.77s/it, loss=8.402]"
     ]
    },
    {
     "name": "stdout",
     "output_type": "stream",
     "text": [
      "0/287\n",
      "30/287\n",
      "60/287\n",
      "90/287\n",
      "120/287\n",
      "150/287\n",
      "180/287\n",
      "210/287\n",
      "240/287\n",
      "270/287\n"
     ]
    },
    {
     "name": "stderr",
     "output_type": "stream",
     "text": [
      " 98%|█████████▊| 393/400 [44:03<00:47,  6.74s/it, loss=8.543]"
     ]
    },
    {
     "name": "stdout",
     "output_type": "stream",
     "text": [
      "0/287\n",
      "30/287\n",
      "60/287\n",
      "90/287\n",
      "120/287\n",
      "150/287\n",
      "180/287\n",
      "210/287\n",
      "240/287\n",
      "270/287\n"
     ]
    },
    {
     "name": "stderr",
     "output_type": "stream",
     "text": [
      " 98%|█████████▊| 394/400 [44:09<00:40,  6.74s/it, loss=8.413]"
     ]
    },
    {
     "name": "stdout",
     "output_type": "stream",
     "text": [
      "0/287\n",
      "30/287\n",
      "60/287\n",
      "90/287\n",
      "120/287\n",
      "150/287\n",
      "180/287\n",
      "210/287\n",
      "240/287\n",
      "270/287\n"
     ]
    },
    {
     "name": "stderr",
     "output_type": "stream",
     "text": [
      " 99%|█████████▉| 395/400 [44:16<00:33,  6.75s/it, loss=8.476]"
     ]
    },
    {
     "name": "stdout",
     "output_type": "stream",
     "text": [
      "0/287\n",
      "30/287\n",
      "60/287\n",
      "90/287\n",
      "120/287\n",
      "150/287\n",
      "180/287\n",
      "210/287\n",
      "240/287\n",
      "270/287\n"
     ]
    },
    {
     "name": "stderr",
     "output_type": "stream",
     "text": [
      " 99%|█████████▉| 396/400 [44:23<00:26,  6.73s/it, loss=8.352]"
     ]
    },
    {
     "name": "stdout",
     "output_type": "stream",
     "text": [
      "0/287\n",
      "30/287\n",
      "60/287\n",
      "90/287\n",
      "120/287\n",
      "150/287\n",
      "180/287\n",
      "210/287\n",
      "240/287\n",
      "270/287\n"
     ]
    },
    {
     "name": "stderr",
     "output_type": "stream",
     "text": [
      " 99%|█████████▉| 397/400 [44:30<00:20,  6.72s/it, loss=8.323]"
     ]
    },
    {
     "name": "stdout",
     "output_type": "stream",
     "text": [
      "0/287\n",
      "30/287\n",
      "60/287\n",
      "90/287\n",
      "120/287\n",
      "150/287\n",
      "180/287\n",
      "210/287\n",
      "240/287\n",
      "270/287\n"
     ]
    },
    {
     "name": "stderr",
     "output_type": "stream",
     "text": [
      "100%|█████████▉| 398/400 [44:36<00:13,  6.73s/it, loss=8.443]"
     ]
    },
    {
     "name": "stdout",
     "output_type": "stream",
     "text": [
      "0/287\n",
      "30/287\n",
      "60/287\n",
      "90/287\n",
      "120/287\n",
      "150/287\n",
      "180/287\n",
      "210/287\n",
      "240/287\n",
      "270/287\n"
     ]
    },
    {
     "name": "stderr",
     "output_type": "stream",
     "text": [
      "100%|█████████▉| 399/400 [44:43<00:06,  6.76s/it, loss=8.248]"
     ]
    },
    {
     "name": "stdout",
     "output_type": "stream",
     "text": [
      "0/287\n",
      "30/287\n",
      "60/287\n",
      "90/287\n",
      "120/287\n",
      "150/287\n",
      "180/287\n",
      "210/287\n",
      "240/287\n",
      "270/287\n"
     ]
    },
    {
     "name": "stderr",
     "output_type": "stream",
     "text": [
      "100%|██████████| 400/400 [44:50<00:00,  6.73s/it, loss=8.393]\n"
     ]
    }
   ],
   "source": [
    "# model = lstm_encoder_decoder.lstm_seq2seq(input_size = X_train.shape[2], hidden_size = 30,attn=True, in_seq_len=iw)\n",
    "loss = model.train_model(X_train, Y_train, n_epochs = 400, target_len = ow, batch_size = 500, training_prediction = 'mixed_teacher_forcing', teacher_forcing_ratio = 0.7, learning_rate = 0.005, dynamic_tf = False, cosineAn=True)"
   ]
  },
  {
   "cell_type": "code",
   "execution_count": 24,
   "metadata": {
    "colab": {
     "base_uri": "https://localhost:8080/",
     "height": 1000
    },
    "id": "bDLefTDO3xVd",
    "outputId": "ad737d6c-d495-4e4a-8b27-43634d92f00f"
   },
   "outputs": [
    {
     "name": "stdout",
     "output_type": "stream",
     "text": [
      "TTTTTTTTTTTTTTTTTTTTTTTTTTRRRRRRRRYYYYYY\n"
     ]
    },
    {
     "data": {
      "text/plain": [
       "<module 'matplotlib.pyplot' from '/usr/local/lib/python3.7/dist-packages/matplotlib/pyplot.py'>"
      ]
     },
     "execution_count": 24,
     "metadata": {},
     "output_type": "execute_result"
    },
    {
     "data": {
      "image/png": "[encoded data removed]",
      "text/plain": [
       "<Figure size 936x1080 with 8 Axes>"
      ]
     },
     "metadata": {
      "needs_background": "light"
     },
     "output_type": "display_data"
    }
   ],
   "source": [
    "# plot predictions on train/test data\n",
    "# import plotting \n",
    "plotting.plot_train_test_results(model, Xtrain, Ytrain, Xtest, Ytest,num_rows=4)\n"
   ]
  },
  {
   "cell_type": "markdown",
   "metadata": {
    "id": "1RtmN3rF_Jnr"
   },
   "source": [
    "Save the model and the related data after the training - **Make sure you use informative correct name**"
   ]
  },
  {
   "cell_type": "code",
   "execution_count": null,
   "metadata": {
    "id": "I-aqZEwNaEIx"
   },
   "outputs": [],
   "source": [
    "torch.save(model,'model_H14.ckpt')"
   ]
  },
  {
   "cell_type": "code",
   "execution_count": null,
   "metadata": {
    "id": "k2_FzOcCLx9k"
   },
   "outputs": [],
   "source": [
    "data_to_pickle = [Xtrain, Ytrain, Xtest, Ytest]\n",
    "open_file = open('data_model_H14', \"wb\")\n",
    "pickle.dump(data_to_pickle, open_file)\n",
    "open_file.close()"
   ]
  },
  {
   "cell_type": "markdown",
   "metadata": {
    "id": "e0fRcv2D_nKE"
   },
   "source": [
    "Load the model and the related data - **Run it only if you wish to use old saved model**. make sure you enter needed model name."
   ]
  },
  {
   "cell_type": "code",
   "execution_count": null,
   "metadata": {
    "id": "cdjuApmOmgss"
   },
   "outputs": [],
   "source": [
    "model = torch.load('model_H7.ckpt')"
   ]
  },
  {
   "cell_type": "code",
   "execution_count": null,
   "metadata": {
    "id": "SqHNVsm4MGe5"
   },
   "outputs": [],
   "source": [
    "open_file = open('data_model_H7', \"rb\")\n",
    "loaded_list = pickle.load(open_file)\n",
    "Xtrain, Ytrain, Xtest, Ytest = loaded_list[0], loaded_list[1], loaded_list[2], loaded_list[3]\n",
    "open_file.close()"
   ]
  },
  {
   "cell_type": "code",
   "execution_count": null,
   "metadata": {
    "id": "kV-lermp-_pZ"
   },
   "outputs": [],
   "source": [
    "# convert windowed data from np.array to PyTorch tensor\n",
    "X_train, Y_train, X_test, Y_test = generate_dataset.numpy_to_torch(Xtrain, Ytrain, Xtest, Ytest)"
   ]
  },
  {
   "cell_type": "markdown",
   "metadata": {
    "id": "yw1roeP9_5o5"
   },
   "source": [
    "investigate the model"
   ]
  },
  {
   "cell_type": "code",
   "execution_count": null,
   "metadata": {
    "id": "DaeaGcFoxmZ0"
   },
   "outputs": [],
   "source": [
    "from sklearn.metrics import mean_squared_error, mean_absolute_error, r2_score\n",
    "import pandas as pd"
   ]
  },
  {
   "cell_type": "code",
   "execution_count": null,
   "metadata": {
    "id": "KfDf911Uc-x9"
   },
   "outputs": [],
   "source": [
    "import  tqdm"
   ]
  },
  {
   "cell_type": "code",
   "execution_count": null,
   "metadata": {
    "id": "cNudMiGVxrPD"
   },
   "outputs": [],
   "source": [
    "# return- MSE, MSE of normalized samples, R2 score\n",
    "def compute_loses(y,y_pred):\n",
    "  normlized_y = (y-y.min())/(y.max()-y.min())\n",
    "  normlized_y_pred = (y_pred-y_pred.min())/(y_pred.max()-y_pred.min())\n",
    "  return ([mean_squared_error(y,y_pred),mean_squared_error(normlized_y,normlized_y_pred),r2_score(y,y_pred)])"
   ]
  },
  {
   "cell_type": "code",
   "execution_count": null,
   "metadata": {
    "colab": {
     "base_uri": "https://localhost:8080/"
    },
    "id": "Cy-Z-Bulv-aW",
    "outputId": "b1862d07-f126-4691-9ec9-7f8e978fa614"
   },
   "outputs": [
    {
     "name": "stderr",
     "output_type": "stream",
     "text": [
      "100%|██████████| 35946/35946 [05:26<00:00, 110.22it/s]\n"
     ]
    }
   ],
   "source": [
    "predictions = []\n",
    "for i in tqdm.tqdm(range(X_test.shape[1])):\n",
    "      X_test_plt = X_test[:, i, :]\n",
    "      Y_test_pred = model.predict(X_test_plt, target_len = ow)\n",
    "      predictions.append(Y_test_pred)\n",
    "      # loses.append(compute_loses(Ytest[:,i],Y_test_pred))"
   ]
  },
  {
   "cell_type": "code",
   "execution_count": null,
   "metadata": {
    "id": "iDEjWi775hK5"
   },
   "outputs": [],
   "source": [
    "predictions = [p[:,0] for p in predictions] # reduce dimantion"
   ]
  },
  {
   "cell_type": "code",
   "execution_count": null,
   "metadata": {
    "colab": {
     "base_uri": "https://localhost:8080/"
    },
    "id": "WIgawStBzdkj",
    "outputId": "0694d3a8-be00-4d5d-a4a1-5ceb65bb6f33"
   },
   "outputs": [
    {
     "name": "stderr",
     "output_type": "stream",
     "text": [
      "100%|██████████| 35946/35946 [00:19<00:00, 1807.75it/s]\n"
     ]
    }
   ],
   "source": [
    "loses= []\n",
    "for i in tqdm.tqdm(range(Y_test.shape[1])):\n",
    "    loses.append(compute_loses(Ytest[:,i],predictions[i]) )"
   ]
  },
  {
   "cell_type": "code",
   "execution_count": null,
   "metadata": {
    "id": "vQU0OCXlzlrU"
   },
   "outputs": [],
   "source": [
    "results_df = pd.DataFrame(loses,columns=['mse','nmse','r2'])"
   ]
  },
  {
   "cell_type": "code",
   "execution_count": null,
   "metadata": {
    "colab": {
     "base_uri": "https://localhost:8080/",
     "height": 333
    },
    "id": "rPhm1fOL6640",
    "outputId": "96edc1bc-3bac-44d7-a069-003a50ee3285"
   },
   "outputs": [
    {
     "data": {
      "text/plain": [
       "Text(0.5, 0, 'MSE Value')"
      ]
     },
     "execution_count": 71,
     "metadata": {},
     "output_type": "execute_result"
    },
    {
     "data": {
      "image/png": "[encoded data removed]",
      "text/plain": [
       "<Figure size 432x288 with 1 Axes>"
      ]
     },
     "metadata": {
      "needs_background": "light"
     },
     "output_type": "display_data"
    }
   ],
   "source": [
    "results_df.mse.hist(bins=100)\n",
    "plt.title('Histogram of MSE')\n",
    "plt.ylabel('Prevalence')\n",
    "plt.xlabel('MSE Value')"
   ]
  },
  {
   "cell_type": "code",
   "execution_count": null,
   "metadata": {
    "colab": {
     "base_uri": "https://localhost:8080/",
     "height": 333
    },
    "id": "W7J2mPDl6_nC",
    "outputId": "106e2ff6-a6f8-4456-93e9-272182324065"
   },
   "outputs": [
    {
     "data": {
      "text/plain": [
       "Text(0.5, 0, 'R squared score')"
      ]
     },
     "execution_count": 72,
     "metadata": {},
     "output_type": "execute_result"
    },
    {
     "data": {
      "image/png": "[encoded data removed]",
      "text/plain": [
       "<Figure size 432x288 with 1 Axes>"
      ]
     },
     "metadata": {
      "needs_background": "light"
     },
     "output_type": "display_data"
    }
   ],
   "source": [
    "results_df.r2.hist(bins=100)\n",
    "plt.title('Histogram of R squared')\n",
    "plt.ylabel('Prevalence')\n",
    "plt.xlabel('R squared score')"
   ]
  },
  {
   "cell_type": "code",
   "execution_count": null,
   "metadata": {
    "colab": {
     "base_uri": "https://localhost:8080/"
    },
    "id": "OlRZ311w710j",
    "outputId": "f6a5ec71-198e-4ae8-8d4d-2400bf543c5d"
   },
   "outputs": [
    {
     "data": {
      "text/plain": [
       "0.9350387046396176"
      ]
     },
     "execution_count": 87,
     "metadata": {},
     "output_type": "execute_result"
    }
   ],
   "source": [
    "results_df.r2.max()"
   ]
  },
  {
   "cell_type": "code",
   "execution_count": null,
   "metadata": {
    "id": "_RemX8S17NSz"
   },
   "outputs": [],
   "source": [
    "argmin = results_df.mse.argmax()"
   ]
  },
  {
   "cell_type": "code",
   "execution_count": null,
   "metadata": {
    "colab": {
     "base_uri": "https://localhost:8080/"
    },
    "id": "LKOPt4Y39cq4",
    "outputId": "740d4c03-b519-410b-84b8-28eeadf85430"
   },
   "outputs": [
    {
     "data": {
      "text/plain": [
       "(35946, 3)"
      ]
     },
     "execution_count": 89,
     "metadata": {},
     "output_type": "execute_result"
    }
   ],
   "source": [
    "results_df.shape"
   ]
  },
  {
   "cell_type": "code",
   "execution_count": null,
   "metadata": {
    "id": "TwPLyvB18RnY"
   },
   "outputs": [],
   "source": [
    "# argmax = np.argmax(results_df[results_df.r2>0]['r2'])"
   ]
  },
  {
   "cell_type": "code",
   "execution_count": null,
   "metadata": {
    "id": "fgvAuxaRWuwh"
   },
   "outputs": [],
   "source": [
    "# len(results_df[results_df.r2>0]['r2']) / len(results_df['r2'])"
   ]
  },
  {
   "cell_type": "code",
   "execution_count": null,
   "metadata": {
    "id": "d4x9eer0n5QR"
   },
   "outputs": [],
   "source": [
    "# results_df[results_df.r2>0]['r2'][5]"
   ]
  },
  {
   "cell_type": "code",
   "execution_count": null,
   "metadata": {
    "id": "L6QXYHRHpdOE"
   },
   "outputs": [],
   "source": [
    "# results_df.to_csv('./results_df_H14.csv')"
   ]
  },
  {
   "cell_type": "code",
   "execution_count": null,
   "metadata": {
    "id": "cRs00g53nriK"
   },
   "outputs": [],
   "source": [
    "# argmax=35944\n",
    "# plt.plot(predictions[argmax])\n",
    "# plt.plot(Ytest[:,argmax])"
   ]
  },
  {
   "cell_type": "code",
   "execution_count": null,
   "metadata": {
    "id": "dSUvV9TL7XGf"
   },
   "outputs": [],
   "source": [
    "# argmin=35944\n",
    "# plt.plot(predictions[argmin])\n",
    "# plt.plot(Ytest[:,argmin])"
   ]
  },
  {
   "cell_type": "code",
   "execution_count": null,
   "metadata": {
    "id": "diElhDhT7gjH"
   },
   "outputs": [],
   "source": []
  }
 ],
 "metadata": {
  "accelerator": "GPU",
  "colab": {
   "collapsed_sections": [],
   "name": "Copy of Ofirs_submittion_notebook.ipynb",
   "provenance": []
  },
  "kernelspec": {
   "display_name": "Python 3",
   "language": "python",
   "name": "python3"
  },
  "language_info": {
   "codemirror_mode": {
    "name": "ipython",
    "version": 3
   },
   "file_extension": ".py",
   "mimetype": "text/x-python",
   "name": "python",
   "nbconvert_exporter": "python",
   "pygments_lexer": "ipython3",
   "version": "3.7.10"
  }
 },
 "nbformat": 4,
 "nbformat_minor": 1
}
