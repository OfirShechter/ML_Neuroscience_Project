{
 "cells": [
  {
   "cell_type": "code",
   "execution_count": null,
   "id": "e6f7074b",
   "metadata": {},
   "outputs": [],
   "source": [
    "# based on Sebastian Raschka jupyter notebook\n",
    "# git with several models: https://github.com/rasbt/deeplearning-models\n",
    "# model used: Multilayer Perceptron\n",
    "# https://nbviewer.jupyter.org/github/rasbt/deeplearning-models/blob/master/pytorch_ipynb/mlp/mlp-basic.ipynb"
   ]
  },
  {
   "cell_type": "code",
   "execution_count": 1,
   "id": "1691a582",
   "metadata": {},
   "outputs": [],
   "source": [
    "import time\n",
    "import numpy as np\n",
    "from torchvision import datasets\n",
    "from torchvision import transforms\n",
    "from torch.utils.data import DataLoader\n",
    "import torch.nn.functional as F\n",
    "import torch\n",
    "import pickle\n",
    "import matlab.engine\n",
    "import numpy as np\n",
    "import matplotlib.pyplot as plt\n",
    "import scipy\n",
    "from scipy import signal\n",
    "\n",
    "if torch.cuda.is_available():\n",
    "    torch.backends.cudnn.deterministic = True"
   ]
  },
  {
   "cell_type": "code",
   "execution_count": 2,
   "id": "fd943e88",
   "metadata": {},
   "outputs": [],
   "source": [
    "##########################\n",
    "### SETTINGS\n",
    "##########################\n",
    "\n",
    "# Device\n",
    "device = torch.device(\"cuda:3\" if torch.cuda.is_available() else \"cpu\")\n",
    "\n",
    "# Hyperparameters\n",
    "random_seed = 1\n",
    "learning_rate = 0.1\n",
    "num_epochs = 10\n",
    "batch_size = 64\n",
    "\n",
    "# Architecture\n",
    "num_features = 1080 #size of the pic, 30 * 36\n",
    "num_hidden_1 = 128\n",
    "num_hidden_2 = 256\n",
    "num_classes = 2 #seperate sleep and wakefulness"
   ]
  },
  {
   "cell_type": "code",
   "execution_count": 3,
   "id": "1adbd3d9",
   "metadata": {},
   "outputs": [],
   "source": [
    "# help functions\n",
    "pickle_path = '/home/yandex/BrainW2021/projects/ML_Ofir_Eden_Eden/Data/pickel_files/Hour'\n",
    "time_window_hours = 1\n",
    "time_window_ms = time_window_hours * 60.0 * 60 * 1000\n",
    "\n",
    "# get the data from the relevant pickle file\n",
    "def get_pickle_file(hour):\n",
    "    infile = open(pickle_path + str(hour),'rb')\n",
    "    pc_pymat = pickle.load(infile)\n",
    "    infile.close()\n",
    "    return pc_pymat\n",
    "\n",
    "# preform fourie transform using welch\n",
    "def welch_fft_on_data(pc_pymat): \n",
    "    freq_power = []\n",
    "    for i in range(360):\n",
    "        single_bin = pc_pymat[i * 200000:200000*(i+1)]\n",
    "        f, Pxx_den = signal.welch(single_bin, 20000, nperseg=20000, noverlap=10000, scaling='spectrum')\n",
    "        freq_power.append(Pxx_den)\n",
    "\n",
    "    freq_power = np.array(freq_power)\n",
    "    \n",
    "    # normalized spectogram data - norm power of each frequency with it's avarage power\n",
    "    low_freq_power = freq_power[:,:30]\n",
    "    avg_freq_power = np.array([0.0]*30)\n",
    "    # calculate avarage power of the freq\n",
    "    for i in range(30):\n",
    "        avg_freq_power[i] = sum(low_freq_power[:,i]) / low_freq_power.shape[0]\n",
    "\n",
    "    # create the normalized matrix\n",
    "    norm_freq_power = []\n",
    "    for seg in low_freq_power:\n",
    "        new_seg = np.array([0.0]*30)\n",
    "        for i in range(30):\n",
    "            new_seg[i] = seg[i] / avg_freq_power[i]\n",
    "        norm_freq_power.append(new_seg)\n",
    "\n",
    "    norm_freq_power = np.array(norm_freq_power)\n",
    "    return f, norm_freq_power\n",
    "\n",
    "# the good samples- after all processing\n",
    "def generate_train_test_data_to_pickle():\n",
    "    train_data = []\n",
    "    h_test_sleep = np.random.randint(3,9,1)[0]\n",
    "    # get sleep train data\n",
    "    for i in range(3,9):\n",
    "        if i == h_test_sleep:\n",
    "            continue\n",
    "        pc_pymat = get_pickle_file(i)\n",
    "        _ , freq_power = welch_fft_on_data(pc_pymat)\n",
    "        samples_max = freq_power.shape[0] - 36\n",
    "        for j in range(samples_max):\n",
    "            datum = torch.from_numpy(freq_power[i:i+36,:])\n",
    "            lable = 1            \n",
    "            train_data.append((datum, lable))\n",
    "\n",
    "    # get awake train data (after first sleep)\n",
    "    h_test_awake = np.random.randint(11,15,1)[0]\n",
    "    for i in range(11,15):\n",
    "        if i == h_test_awake:\n",
    "            continue\n",
    "        pc_pymat = get_pickle_file(i)\n",
    "        _ , freq_power = welch_fft_on_data(pc_pymat)\n",
    "        samples_max = freq_power.shape[0] - 36\n",
    "        for j in range(samples_max):\n",
    "            datum = torch.from_numpy(freq_power[i:i+36,:])\n",
    "            lable = 0\n",
    "            train_data.append((datum, lable))\n",
    "\n",
    "    test_data = []\n",
    "    for i in [h_test_sleep,h_test_awake]:\n",
    "        pc_pymat = get_pickle_file(i)\n",
    "        _ , freq_power = welch_fft_on_data(pc_pymat)\n",
    "        samples_max = freq_power.shape[0] - 36\n",
    "        for j in range(samples_max):\n",
    "            datum = torch.from_numpy(freq_power[i:i+36,:])\n",
    "            lable = 0 if i==h_test_awake else 1\n",
    "            test_data.append((datum, lable))\n",
    "    print([h_test_sleep,h_test_awake])\n",
    "    # save train data to pickle\n",
    "    filename = '/home/yandex/BrainW2021/projects/ML_Ofir_Eden_Eden/Data/pickel_files/train_dataset'\n",
    "    outfile = open(filename,'wb')\n",
    "    pickle.dump(train_data,outfile)\n",
    "    outfile.close()\n",
    "    \n",
    "    # save test data to pickle\n",
    "    filename = '/home/yandex/BrainW2021/projects/ML_Ofir_Eden_Eden/Data/pickel_files/test_dataset'\n",
    "    outfile = open(filename,'wb')\n",
    "    pickle.dump(test_data,outfile)\n",
    "    outfile.close()\n",
    "    \n",
    "    return train_data, test_data\n",
    "    \n",
    "# get from pickle the train and test data generated using 'generate_train_test_data_to_pickle()'   \n",
    "def get_train_test_data():\n",
    "    infile = open('/home/yandex/BrainW2021/projects/ML_Ofir_Eden_Eden/Data/pickel_files/train_dataset','rb')\n",
    "    train_dataset = pickle.load(infile)\n",
    "    infile.close()\n",
    "    infile = open('/home/yandex/BrainW2021/projects/ML_Ofir_Eden_Eden/Data/pickel_files/test_dataset','rb')\n",
    "    test_dataset = pickle.load(infile)\n",
    "    infile.close()\n",
    "    return train_dataset, test_dataset"
   ]
  },
  {
   "cell_type": "code",
   "execution_count": 4,
   "id": "3a9cc972",
   "metadata": {},
   "outputs": [],
   "source": [
    "# pc_pymat = get_pickle_file(7)\n",
    "# f7, freq_power7 = welch_fft_on_data_noNorm(pc_pymat)\n",
    "# pc_pymat = get_pickle_file(14)\n",
    "# f14, freq_power14 = welch_fft_on_data_noNorm(pc_pymat)"
   ]
  },
  {
   "cell_type": "code",
   "execution_count": 5,
   "id": "d03704d0",
   "metadata": {},
   "outputs": [],
   "source": [
    "# #plot spectogram before processing it\n",
    "# plt.figure(figsize=(1,5))\n",
    "# plt.pcolormesh([i for i in range(36)], f14[:30], np.abs(np.log(np.transpose(freq_power14[:36,:30]))), shading='gouraud')\n",
    "# plt.title('STFT Magnitude')\n",
    "# plt.ylabel('Frequency [Hz]')\n",
    "# plt.xlabel('Time [fourie bins]')\n",
    "# plt.show()"
   ]
  },
  {
   "cell_type": "code",
   "execution_count": 6,
   "id": "fdcb302b",
   "metadata": {},
   "outputs": [],
   "source": [
    "# #plot spectogram before processing it\n",
    "# plt.figure(figsize=(1,5))\n",
    "# plt.pcolormesh([i for i in range(36)], f7[:30], np.abs(np.log(np.transpose(freq_power7[:36,:30]))), shading='gouraud')\n",
    "# plt.title('STFT Magnitude')\n",
    "# plt.ylabel('Frequency [Hz]')\n",
    "# plt.xlabel('Time [fourie bins]')\n",
    "# plt.show()"
   ]
  },
  {
   "cell_type": "code",
   "execution_count": 7,
   "id": "b38faa29",
   "metadata": {},
   "outputs": [
    {
     "name": "stdout",
     "output_type": "stream",
     "text": [
      "Image batch dimensions: torch.Size([64, 36, 30])\n",
      "Image label dimensions: torch.Size([64])\n"
     ]
    }
   ],
   "source": [
    "##########################\n",
    "### DATASET\n",
    "##########################\n",
    "# train_dataset, test_dataset = generate_train_test_data_to_pickle() #in comment because need to be used only once\n",
    "# train_data1, test_data1 = generate_train_test_data_to_pickle_noNorm()\n",
    "train_dataset, test_dataset = get_train_test_data()\n",
    "\n",
    "train_loader = DataLoader(dataset=train_dataset, \n",
    "                          batch_size=batch_size, \n",
    "                          shuffle=True)\n",
    "\n",
    "test_loader = DataLoader(dataset=test_dataset, \n",
    "                         batch_size=batch_size, \n",
    "                         shuffle=True)\n",
    "# Checking the dataset\n",
    "for images, labels in train_loader:  \n",
    "    print('Image batch dimensions:', images.shape)\n",
    "    print('Image label dimensions:', labels.shape)\n",
    "    break\n"
   ]
  },
  {
   "cell_type": "code",
   "execution_count": 8,
   "id": "a476bc96",
   "metadata": {},
   "outputs": [],
   "source": [
    "##########################\n",
    "### MODEL\n",
    "##########################\n",
    "\n",
    "class MultilayerPerceptron(torch.nn.Module):\n",
    "\n",
    "    def __init__(self, num_features, num_classes):\n",
    "        super(MultilayerPerceptron, self).__init__()\n",
    "        \n",
    "        ### 1st hidden layer\n",
    "        self.linear_1 = torch.nn.Linear(num_features, num_hidden_1)\n",
    "        # demonstrate how to access the weights:\n",
    "#         self.linear_1.weight.detach().normal_(0.0, 0.1)\n",
    "#         self.linear_1.bias.detach().zero_()\n",
    "        \n",
    "        ### 2nd hidden layer\n",
    "        self.linear_2 = torch.nn.Linear(num_hidden_1, num_hidden_2)\n",
    "        \n",
    "        ### Output layer\n",
    "        self.linear_out = torch.nn.Linear(num_hidden_2, num_classes)\n",
    "        \n",
    "    def forward(self, x):\n",
    "        out = self.linear_1(x)\n",
    "        out = F.relu(out)\n",
    "        out = self.linear_2(out)\n",
    "        out = F.relu(out)\n",
    "        logits = self.linear_out(out)\n",
    "        probas = F.log_softmax(logits, dim=1)\n",
    "        return logits, probas\n",
    "    \n",
    "torch.manual_seed(random_seed)\n",
    "model = MultilayerPerceptron(num_features=num_features,\n",
    "                             num_classes=num_classes)\n",
    "\n",
    "model = model.to(device)\n",
    "\n",
    "optimizer = torch.optim.SGD(model.parameters(), lr=learning_rate) "
   ]
  },
  {
   "cell_type": "code",
   "execution_count": 9,
   "id": "0761275c",
   "metadata": {},
   "outputs": [],
   "source": [
    "def compute_accuracy(net, data_loader):\n",
    "    net.eval()\n",
    "    correct_pred, num_examples = 0, 0\n",
    "    with torch.no_grad():\n",
    "        for features, targets in data_loader:\n",
    "            features = features.view(-1, 30*36).to(device)\n",
    "            targets = targets.to(device)\n",
    "            logits, probas = net(features.float())\n",
    "            _, predicted_labels = torch.max(probas, 1)\n",
    "#             print('----------------------------------------')\n",
    "#             print(targets)\n",
    "#             print(predicted_labels)\n",
    "            num_examples += targets.size(0)\n",
    "            correct_pred += (predicted_labels == targets).sum()\n",
    "        return correct_pred.float()/num_examples * 100"
   ]
  },
  {
   "cell_type": "code",
   "execution_count": null,
   "id": "361069a8",
   "metadata": {},
   "outputs": [],
   "source": []
  },
  {
   "cell_type": "code",
   "execution_count": 10,
   "id": "0e2177f0",
   "metadata": {},
   "outputs": [
    {
     "name": "stdout",
     "output_type": "stream",
     "text": [
      "Epoch: 001/010 | Batch 000/041 | Cost: 0.6572\n",
      "Epoch: 001/010 training accuracy: 100.00%\n",
      "Time elapsed: 0.01 min\n",
      "Epoch: 002/010 | Batch 000/041 | Cost: 0.4629\n",
      "Epoch: 002/010 training accuracy: 100.00%\n",
      "Time elapsed: 0.01 min\n",
      "Epoch: 003/010 | Batch 000/041 | Cost: 0.0094\n",
      "Epoch: 003/010 training accuracy: 100.00%\n",
      "Time elapsed: 0.02 min\n",
      "Epoch: 004/010 | Batch 000/041 | Cost: 0.0017\n",
      "Epoch: 004/010 training accuracy: 100.00%\n",
      "Time elapsed: 0.02 min\n",
      "Epoch: 005/010 | Batch 000/041 | Cost: 0.0010\n",
      "Epoch: 005/010 training accuracy: 100.00%\n",
      "Time elapsed: 0.02 min\n",
      "Epoch: 006/010 | Batch 000/041 | Cost: 0.0005\n",
      "Epoch: 006/010 training accuracy: 100.00%\n",
      "Time elapsed: 0.03 min\n",
      "Epoch: 007/010 | Batch 000/041 | Cost: 0.0005\n",
      "Epoch: 007/010 training accuracy: 100.00%\n",
      "Time elapsed: 0.03 min\n",
      "Epoch: 008/010 | Batch 000/041 | Cost: 0.0003\n",
      "Epoch: 008/010 training accuracy: 100.00%\n",
      "Time elapsed: 0.04 min\n",
      "Epoch: 009/010 | Batch 000/041 | Cost: 0.0003\n",
      "Epoch: 009/010 training accuracy: 100.00%\n",
      "Time elapsed: 0.04 min\n",
      "Epoch: 010/010 | Batch 000/041 | Cost: 0.0002\n",
      "Epoch: 010/010 training accuracy: 100.00%\n",
      "Time elapsed: 0.05 min\n",
      "Total Training Time: 0.05 min\n"
     ]
    }
   ],
   "source": [
    "# run the model   \n",
    "start_time = time.time()\n",
    "for epoch in range(num_epochs):\n",
    "    model.train()\n",
    "    for batch_idx, (features, targets) in enumerate(train_loader):\n",
    "#         print(batch_idx)\n",
    "        features = features.view(-1, 30*36).to(device)\n",
    "#         features = torch.zeros_like(features)\n",
    "        targets = targets.to(device)\n",
    "            \n",
    "        ### FORWARD AND BACK PROP\n",
    "        logits, probas = model(features.float())\n",
    "        cost = F.cross_entropy(logits, targets)\n",
    "        optimizer.zero_grad()\n",
    "        \n",
    "        cost.backward()\n",
    "        \n",
    "        ### UPDATE MODEL PARAMETERS\n",
    "        optimizer.step()\n",
    "        \n",
    "        ### LOGGING\n",
    "        if not batch_idx % 50:\n",
    "            print ('Epoch: %03d/%03d | Batch %03d/%03d | Cost: %.4f' \n",
    "                   %(epoch+1, num_epochs, batch_idx, \n",
    "                     len(train_loader), cost))\n",
    "\n",
    "    with torch.set_grad_enabled(False):\n",
    "        print('Epoch: %03d/%03d training accuracy: %.2f%%' % (\n",
    "              epoch+1, num_epochs, \n",
    "              compute_accuracy(model, train_loader)))\n",
    "        \n",
    "    print('Time elapsed: %.2f min' % ((time.time() - start_time)/60))\n",
    "    \n",
    "print('Total Training Time: %.2f min' % ((time.time() - start_time)/60))"
   ]
  },
  {
   "cell_type": "code",
   "execution_count": 11,
   "id": "a8b542c3",
   "metadata": {},
   "outputs": [
    {
     "name": "stdout",
     "output_type": "stream",
     "text": [
      "Test accuracy: 100.00%\n"
     ]
    }
   ],
   "source": [
    "print('Test accuracy: %.2f%%' % (compute_accuracy(model, test_loader)))"
   ]
  },
  {
   "cell_type": "markdown",
   "id": "319454f7",
   "metadata": {},
   "source": [
    "# Saliency Map Sleep"
   ]
  },
  {
   "cell_type": "code",
   "execution_count": 12,
   "id": "519e1f47",
   "metadata": {},
   "outputs": [],
   "source": [
    "# help functions\n",
    "pickle_path = '/home/yandex/BrainW2021/projects/ML_Ofir_Eden_Eden/Data/pickel_files/Hour'\n",
    "time_window_hours = 1\n",
    "time_window_ms = time_window_hours * 60.0 * 60 * 1000\n",
    "\n",
    "# the good samples- after all processing\n",
    "def generate_train_test_data_to_pickle_sleep_awake(isSleep, state):\n",
    "    # lizard 1\n",
    "    # -----------------------------------------------------------\n",
    "    pickle_path = '/home/yandex/BrainW2021/projects/ML_Ofir_Eden_Eden/Data/pickel_files/Hour'\n",
    "    train_data = []\n",
    "    # get sleep train data\n",
    "#     arr = range(3,9) if isSleep else range(11,15) \n",
    "    arr = [7] if isSleep else [14]\n",
    "    lable = 1 if isSleep else 0\n",
    "    for i in arr:\n",
    "        pc_pymat = get_pickle_file(i)\n",
    "        _ , freq_power = welch_fft_on_data(pc_pymat)\n",
    "        samples_max = freq_power.shape[0] - 36\n",
    "        for j in range(samples_max):\n",
    "            datum = torch.from_numpy(freq_power[i:i+36,:])         \n",
    "            train_data.append((datum, lable))    \n",
    "    \n",
    "    # save train data to pickle\n",
    "    filename = '/home/yandex/BrainW2021/projects/ML_Ofir_Eden_Eden/Data/pickel_files/' + state + '_dataset'\n",
    "    outfile = open(filename,'wb')\n",
    "    pickle.dump(train_data,outfile)\n",
    "    outfile.close()\n",
    "    \n",
    "    return train_data\n",
    "    \n",
    "# get from pickle the train and test data generated using 'generate_train_test_data_to_pickle()'   \n",
    "def get_train_test_data_sleep_awake(state):\n",
    "    infile = open('/home/yandex/BrainW2021/projects/ML_Ofir_Eden_Eden/Data/pickel_files/' + state + '_dataset','rb')\n",
    "    train_dataset = pickle.load(infile)\n",
    "    infile.close()\n",
    "\n",
    "    return train_dataset\n",
    "\n",
    "sleep_dataset = get_train_test_data_sleep_awake('sleep')\n",
    "\n",
    "awake_dataset = get_train_test_data_sleep_awake('awake')"
   ]
  },
  {
   "cell_type": "code",
   "execution_count": 13,
   "id": "105cd305",
   "metadata": {},
   "outputs": [],
   "source": [
    "# generate_train_test_data_to_pickle_sleep_awake(True, 'sleep')\n",
    "# generate_train_test_data_to_pickle_sleep_awake(False, 'awake')"
   ]
  },
  {
   "cell_type": "code",
   "execution_count": 26,
   "id": "d2cc4f11",
   "metadata": {},
   "outputs": [],
   "source": [
    "sleep_loader = DataLoader(dataset=sleep_dataset, \n",
    "                          batch_size=1, \n",
    "                          shuffle=True)\n",
    "\n",
    "awake_loader = DataLoader(dataset=awake_dataset, \n",
    "                          batch_size=1, \n",
    "                          shuffle=True)\n",
    "\n",
    "net = model\n",
    "# comment out sleep_loader or awake_loader according to the desire seliancy map needed \n",
    "data_loader = sleep_loader\n",
    "# data_loader = awake_loader\n",
    "\n",
    "net.eval()\n",
    "correct_pred, num_examples = 0, 0\n",
    "# with torch.no_grad():\n",
    "for features, targets in data_loader:\n",
    "    features = features.view(-1, 30*36)\n",
    "    features = features.to(device)\n",
    "    # Set the requires_grad_ to the image for retrieving gradients\n",
    "    features.requires_grad_()\n",
    "#     features.retain_grad()\n",
    "    targets = targets.to(device)\n",
    "\n",
    "    logits, probas = net(features.float())\n",
    "    _, predicted_labels = torch.max(probas, 1)\n",
    "    logits[0][predicted_labels[0]].backward()\n",
    "\n",
    "\n",
    "    num_examples += targets.size(0)\n",
    "    correct_pred += (predicted_labels == targets).sum()\n",
    "    break;\n",
    "#     return correct_pred.float()/num_examples * 100"
   ]
  },
  {
   "cell_type": "code",
   "execution_count": 27,
   "id": "d987cfc8",
   "metadata": {},
   "outputs": [],
   "source": [
    "# features.grad.data.abs()"
   ]
  },
  {
   "cell_type": "code",
   "execution_count": 28,
   "id": "787359bf",
   "metadata": {},
   "outputs": [],
   "source": [
    "# Retireve the saliency map and also pick the maximum value from channels on each pixel.\n",
    "# In this case, we look at dim=1. Recall the shape (batch_size, channel, width, height)\n",
    "\n",
    "saliency = features.grad.data\n",
    "# saliency, _ = torch.max(features.grad.data.abs(), dim=1) \n",
    "saliency = saliency.reshape(30, 36)\n",
    "\n",
    "# Reshape the image\n",
    "features = features.reshape(-1,30, 36)"
   ]
  },
  {
   "cell_type": "code",
   "execution_count": 17,
   "id": "e2b44ef3",
   "metadata": {},
   "outputs": [],
   "source": [
    "features1 = features\n",
    "saliency1 = saliency"
   ]
  },
  {
   "cell_type": "code",
   "execution_count": 25,
   "id": "3cf0a344",
   "metadata": {},
   "outputs": [
    {
     "data": {
      "image/png": "[encoded data removed]",
      "text/plain": [
       "<Figure size 432x288 with 2 Axes>"
      ]
     },
     "metadata": {
      "needs_background": "light"
     },
     "output_type": "display_data"
    }
   ],
   "source": [
    "# Visualize the image and the saliency map\n",
    "fig, ax = plt.subplots(1, 2)\n",
    "ax[0].imshow(features1.cpu().detach().numpy().transpose(1, 2, 0))\n",
    "ax[0].axis('off')\n",
    "ax[0].set_title(\"Spectrogram Slice Input\")\n",
    "ax[1].imshow(saliency1.cpu(), cmap='hot')\n",
    "ax[1].axis('off')\n",
    "ax[1].set_title(\"Corresponding Saliency Map\")\n",
    "# plt.title('Example of a Saliency Map for Singel Datum - wakefulness state')\n",
    "plt.tight_layout()\n",
    "# fig.suptitle('The Image and Its Saliency Map - awake')\n",
    "plt.show()"
   ]
  },
  {
   "cell_type": "code",
   "execution_count": 30,
   "id": "170ccc30",
   "metadata": {},
   "outputs": [
    {
     "data": {
      "image/png": "[encoded data removed]",
      "text/plain": [
       "<Figure size 432x288 with 2 Axes>"
      ]
     },
     "metadata": {
      "needs_background": "light"
     },
     "output_type": "display_data"
    }
   ],
   "source": [
    "# Visualize the image and the saliency map\n",
    "fig, ax = plt.subplots(1, 2)\n",
    "ax[0].imshow(features.cpu().detach().numpy().transpose(1, 2, 0))\n",
    "ax[0].axis('off')\n",
    "ax[0].set_title(\"Spectrogram Slice Input\")\n",
    "ax[1].imshow(saliency.cpu(), cmap='hot')\n",
    "ax[1].axis('off')\n",
    "ax[1].set_title(\"Corresponding Saliency Map\")\n",
    "plt.tight_layout()\n",
    "# fig.suptitle('The Image and Its Saliency Map - Sleep')\n",
    "plt.show()"
   ]
  },
  {
   "cell_type": "code",
   "execution_count": 17,
   "id": "f6ebb536",
   "metadata": {},
   "outputs": [
    {
     "data": {
      "image/png": "[encoded data removed]",
      "text/plain": [
       "<Figure size 432x288 with 2 Axes>"
      ]
     },
     "metadata": {
      "needs_background": "light"
     },
     "output_type": "display_data"
    }
   ],
   "source": [
    "# Visualize the image and the saliency map\n",
    "fig, ax = plt.subplots(1, 2)\n",
    "ax[0].imshow(features.cpu().detach().numpy().transpose(1, 2, 0))\n",
    "ax[0].axis('off')\n",
    "ax[1].imshow(saliency.cpu().abs(), cmap='hot')\n",
    "ax[1].axis('off')\n",
    "plt.tight_layout()\n",
    "fig.suptitle('The Image and Its Saliency Map - awake')\n",
    "plt.show()"
   ]
  }
 ],
 "metadata": {
  "kernelspec": {
   "display_name": "Python 3",
   "language": "python",
   "name": "python3"
  },
  "language_info": {
   "codemirror_mode": {
    "name": "ipython",
    "version": 3
   },
   "file_extension": ".py",
   "mimetype": "text/x-python",
   "name": "python",
   "nbconvert_exporter": "python",
   "pygments_lexer": "ipython3",
   "version": "3.7.10"
  }
 },
 "nbformat": 4,
 "nbformat_minor": 5
}
