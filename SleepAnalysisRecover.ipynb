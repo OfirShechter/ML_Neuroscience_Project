{
 "cells": [
  {
   "cell_type": "code",
   "execution_count": 1,
   "id": "da2f983d",
   "metadata": {},
   "outputs": [],
   "source": [
    "import matlab.engine\n",
    "import numpy as np\n",
    "import matplotlib.pyplot as plt\n",
    "from scipy import signal\n",
    "import pickle"
   ]
  },
  {
   "cell_type": "code",
   "execution_count": 14,
   "id": "7bf638e4",
   "metadata": {},
   "outputs": [
    {
     "name": "stdout",
     "output_type": "stream",
     "text": [
      "/home/yandex/BrainW2021/projects/ML_Ofir_Eden_Eden/NET/dataAnalysisObjects\n"
     ]
    }
   ],
   "source": [
    "cd \"/home/yandex/BrainW2021/projects/ML_Ofir_Eden_Eden/NET/dataAnalysisObjects/\""
   ]
  },
  {
   "cell_type": "code",
   "execution_count": 15,
   "id": "ded1f8f8",
   "metadata": {},
   "outputs": [],
   "source": [
    "eng = matlab.engine.start_matlab() #the engine is set to the current path"
   ]
  },
  {
   "cell_type": "code",
   "execution_count": 24,
   "id": "aecde215",
   "metadata": {},
   "outputs": [],
   "source": [
    "excel_fullpath = r\"/home/yandex/BrainW2021/projects/ML_Ofir_Eden_Eden/Data/brainStatesSS.xlsx\" #NOTE: meta file shoud be with the bin file at the same folder"
   ]
  },
  {
   "cell_type": "code",
   "execution_count": 23,
   "id": "6d5dd437",
   "metadata": {},
   "outputs": [
    {
     "ename": "AttributeError",
     "evalue": "module 'matlab' has no attribute 'string'",
     "output_type": "error",
     "traceback": [
      "\u001b[0;31m---------------------------------------------------------------------------\u001b[0m",
      "\u001b[0;31mAttributeError\u001b[0m                            Traceback (most recent call last)",
      "\u001b[0;32m<ipython-input-23-b37bfacb8f51>\u001b[0m in \u001b[0;36m<module>\u001b[0;34m\u001b[0m\n\u001b[0;32m----> 1\u001b[0;31m \u001b[0mmatlab\u001b[0m\u001b[0;34m.\u001b[0m\u001b[0mstring\u001b[0m\u001b[0;34m(\u001b[0m\u001b[0;34m\"fd\"\u001b[0m\u001b[0;34m)\u001b[0m\u001b[0;34m\u001b[0m\u001b[0;34m\u001b[0m\u001b[0m\n\u001b[0m",
      "\u001b[0;31mAttributeError\u001b[0m: module 'matlab' has no attribute 'string'"
     ]
    }
   ],
   "source": [
    "matlab.string(\"fd\")"
   ]
  },
  {
   "cell_type": "code",
   "execution_count": 25,
   "id": "300ec558",
   "metadata": {},
   "outputs": [
    {
     "ename": "MatlabExecutionError",
     "evalue": "\n  File /home/yandex/BrainW2021/projects/ML_Ofir_Eden_Eden/NET/dataAnalysisObjects/recAnalysis.m, line 315, in recAnalysis.getExcelData\n\n  File /home/yandex/BrainW2021/projects/ML_Ofir_Eden_Eden/NET/dataAnalysisObjects/recAnalysis.m, line 38, in recAnalysis.recAnalysis\n\n  File /home/yandex/BrainW2021/projects/ML_Ofir_Eden_Eden/NET/dataAnalysisObjects/@sleepAnalysis/sleepAnalysis.m, line 12, in sleepAnalysis.sleepAnalysis\nUndefined function 'convertPath2LinuxMPIBR' for input arguments of type 'char'.\n",
     "output_type": "error",
     "traceback": [
      "\u001b[0;31m---------------------------------------------------------------------------\u001b[0m",
      "\u001b[0;31mMatlabExecutionError\u001b[0m                      Traceback (most recent call last)",
      "\u001b[0;32m<ipython-input-25-794b33444bf7>\u001b[0m in \u001b[0;36m<module>\u001b[0;34m\u001b[0m\n\u001b[0;32m----> 1\u001b[0;31m \u001b[0msleep_obj\u001b[0m \u001b[0;34m=\u001b[0m \u001b[0meng\u001b[0m\u001b[0;34m.\u001b[0m\u001b[0msleepAnalysis\u001b[0m\u001b[0;34m(\u001b[0m\u001b[0mexcel_fullpath\u001b[0m\u001b[0;34m)\u001b[0m \u001b[0;31m#NOTE- if faile - make sure you created eng in the rigth path\u001b[0m\u001b[0;34m\u001b[0m\u001b[0;34m\u001b[0m\u001b[0m\n\u001b[0m",
      "\u001b[0;32m~/.conda/envs/liz_the_lizerd/lib/python3.7/site-packages/matlab/engine/matlabengine.py\u001b[0m in \u001b[0;36m__call__\u001b[0;34m(self, *args, **kwargs)\u001b[0m\n\u001b[1;32m     69\u001b[0m         \u001b[0;32melse\u001b[0m\u001b[0;34m:\u001b[0m\u001b[0;34m\u001b[0m\u001b[0;34m\u001b[0m\u001b[0m\n\u001b[1;32m     70\u001b[0m             return FutureResult(self._engine(), future, nargs, _stdout,\n\u001b[0;32m---> 71\u001b[0;31m                                 _stderr, feval=True).result()\n\u001b[0m\u001b[1;32m     72\u001b[0m \u001b[0;34m\u001b[0m\u001b[0m\n\u001b[1;32m     73\u001b[0m     \u001b[0;32mdef\u001b[0m \u001b[0m__validate_engine\u001b[0m\u001b[0;34m(\u001b[0m\u001b[0mself\u001b[0m\u001b[0;34m)\u001b[0m\u001b[0;34m:\u001b[0m\u001b[0;34m\u001b[0m\u001b[0;34m\u001b[0m\u001b[0m\n",
      "\u001b[0;32m~/.conda/envs/liz_the_lizerd/lib/python3.7/site-packages/matlab/engine/futureresult.py\u001b[0m in \u001b[0;36mresult\u001b[0;34m(self, timeout)\u001b[0m\n\u001b[1;32m     65\u001b[0m                 \u001b[0;32mraise\u001b[0m \u001b[0mTypeError\u001b[0m\u001b[0;34m(\u001b[0m\u001b[0mpythonengine\u001b[0m\u001b[0;34m.\u001b[0m\u001b[0mgetMessage\u001b[0m\u001b[0;34m(\u001b[0m\u001b[0;34m'TimeoutCannotBeNegative'\u001b[0m\u001b[0;34m)\u001b[0m\u001b[0;34m)\u001b[0m\u001b[0;34m\u001b[0m\u001b[0;34m\u001b[0m\u001b[0m\n\u001b[1;32m     66\u001b[0m \u001b[0;34m\u001b[0m\u001b[0m\n\u001b[0;32m---> 67\u001b[0;31m         \u001b[0;32mreturn\u001b[0m \u001b[0mself\u001b[0m\u001b[0;34m.\u001b[0m\u001b[0m__future\u001b[0m\u001b[0;34m.\u001b[0m\u001b[0mresult\u001b[0m\u001b[0;34m(\u001b[0m\u001b[0mtimeout\u001b[0m\u001b[0;34m)\u001b[0m\u001b[0;34m\u001b[0m\u001b[0;34m\u001b[0m\u001b[0m\n\u001b[0m\u001b[1;32m     68\u001b[0m \u001b[0;34m\u001b[0m\u001b[0m\n\u001b[1;32m     69\u001b[0m     \u001b[0;32mdef\u001b[0m \u001b[0mcancel\u001b[0m\u001b[0;34m(\u001b[0m\u001b[0mself\u001b[0m\u001b[0;34m)\u001b[0m\u001b[0;34m:\u001b[0m\u001b[0;34m\u001b[0m\u001b[0;34m\u001b[0m\u001b[0m\n",
      "\u001b[0;32m~/.conda/envs/liz_the_lizerd/lib/python3.7/site-packages/matlab/engine/fevalfuture.py\u001b[0m in \u001b[0;36mresult\u001b[0;34m(self, timeout)\u001b[0m\n\u001b[1;32m     80\u001b[0m                 \u001b[0;32mraise\u001b[0m \u001b[0mTimeoutError\u001b[0m\u001b[0;34m(\u001b[0m\u001b[0mpythonengine\u001b[0m\u001b[0;34m.\u001b[0m\u001b[0mgetMessage\u001b[0m\u001b[0;34m(\u001b[0m\u001b[0;34m'MatlabFunctionTimeout'\u001b[0m\u001b[0;34m)\u001b[0m\u001b[0;34m)\u001b[0m\u001b[0;34m\u001b[0m\u001b[0;34m\u001b[0m\u001b[0m\n\u001b[1;32m     81\u001b[0m \u001b[0;34m\u001b[0m\u001b[0m\n\u001b[0;32m---> 82\u001b[0;31m             \u001b[0mself\u001b[0m\u001b[0;34m.\u001b[0m\u001b[0m_result\u001b[0m \u001b[0;34m=\u001b[0m \u001b[0mpythonengine\u001b[0m\u001b[0;34m.\u001b[0m\u001b[0mgetFEvalResult\u001b[0m\u001b[0;34m(\u001b[0m\u001b[0mself\u001b[0m\u001b[0;34m.\u001b[0m\u001b[0m_future\u001b[0m\u001b[0;34m,\u001b[0m\u001b[0mself\u001b[0m\u001b[0;34m.\u001b[0m\u001b[0m_nargout\u001b[0m\u001b[0;34m,\u001b[0m \u001b[0;32mNone\u001b[0m\u001b[0;34m,\u001b[0m \u001b[0mout\u001b[0m\u001b[0;34m=\u001b[0m\u001b[0mself\u001b[0m\u001b[0;34m.\u001b[0m\u001b[0m_out\u001b[0m\u001b[0;34m,\u001b[0m \u001b[0merr\u001b[0m\u001b[0;34m=\u001b[0m\u001b[0mself\u001b[0m\u001b[0;34m.\u001b[0m\u001b[0m_err\u001b[0m\u001b[0;34m)\u001b[0m\u001b[0;34m\u001b[0m\u001b[0;34m\u001b[0m\u001b[0m\n\u001b[0m\u001b[1;32m     83\u001b[0m             \u001b[0mself\u001b[0m\u001b[0;34m.\u001b[0m\u001b[0m_retrieved\u001b[0m \u001b[0;34m=\u001b[0m \u001b[0;32mTrue\u001b[0m\u001b[0;34m\u001b[0m\u001b[0;34m\u001b[0m\u001b[0m\n\u001b[1;32m     84\u001b[0m             \u001b[0;32mreturn\u001b[0m \u001b[0mself\u001b[0m\u001b[0;34m.\u001b[0m\u001b[0m_result\u001b[0m\u001b[0;34m\u001b[0m\u001b[0;34m\u001b[0m\u001b[0m\n",
      "\u001b[0;31mMatlabExecutionError\u001b[0m: \n  File /home/yandex/BrainW2021/projects/ML_Ofir_Eden_Eden/NET/dataAnalysisObjects/recAnalysis.m, line 315, in recAnalysis.getExcelData\n\n  File /home/yandex/BrainW2021/projects/ML_Ofir_Eden_Eden/NET/dataAnalysisObjects/recAnalysis.m, line 38, in recAnalysis.recAnalysis\n\n  File /home/yandex/BrainW2021/projects/ML_Ofir_Eden_Eden/NET/dataAnalysisObjects/@sleepAnalysis/sleepAnalysis.m, line 12, in sleepAnalysis.sleepAnalysis\nUndefined function 'convertPath2LinuxMPIBR' for input arguments of type 'char'.\n"
     ]
    }
   ],
   "source": [
    "sleep_obj = eng.sleepAnalysis(excel_fullpath) #NOTE- if faile - make sure you created eng in the rigth path"
   ]
  },
  {
   "cell_type": "code",
   "execution_count": null,
   "id": "50bdd1e0",
   "metadata": {},
   "outputs": [],
   "source": [
    "import pandas"
   ]
  },
  {
   "cell_type": "code",
   "execution_count": 27,
   "id": "13cd57b1",
   "metadata": {},
   "outputs": [
    {
     "name": "stdout",
     "output_type": "stream",
     "text": [
      "Collecting pandas\n",
      "  Downloading pandas-1.2.4-cp37-cp37m-manylinux1_x86_64.whl (9.9 MB)\n",
      "\u001b[K     |################################| 9.9 MB 53 kB/s  eta 0:00:01\n",
      "\u001b[?25hCollecting pytz>=2017.3\n",
      "  Downloading pytz-2021.1-py2.py3-none-any.whl (510 kB)\n",
      "\u001b[K     |################################| 510 kB 17.2 MB/s eta 0:00:01\n",
      "\u001b[?25hRequirement already satisfied: python-dateutil>=2.7.3 in /specific/a/home/cc/students/csguests/ofirshechter/.conda/envs/liz_the_lizerd/lib/python3.7/site-packages (from pandas) (2.8.1)\n",
      "Requirement already satisfied: numpy>=1.16.5 in /specific/a/home/cc/students/csguests/ofirshechter/.conda/envs/liz_the_lizerd/lib/python3.7/site-packages (from pandas) (1.20.3)\n",
      "Requirement already satisfied: six>=1.5 in /specific/a/home/cc/students/csguests/ofirshechter/.conda/envs/liz_the_lizerd/lib/python3.7/site-packages (from python-dateutil>=2.7.3->pandas) (1.16.0)\n",
      "Installing collected packages: pytz, pandas\n",
      "Successfully installed pandas-1.2.4 pytz-2021.1\n"
     ]
    }
   ],
   "source": [
    "!pip install pandas"
   ]
  },
  {
   "cell_type": "code",
   "execution_count": null,
   "id": "c499aa16",
   "metadata": {},
   "outputs": [],
   "source": [
    "pd.read_excel(excel_fullpath)"
   ]
  },
  {
   "cell_type": "code",
   "execution_count": null,
   "id": "47253c40",
   "metadata": {},
   "outputs": [],
   "source": []
  }
 ],
 "metadata": {
  "kernelspec": {
   "display_name": "Python 3",
   "language": "python",
   "name": "python3"
  },
  "language_info": {
   "codemirror_mode": {
    "name": "ipython",
    "version": 3
   },
   "file_extension": ".py",
   "mimetype": "text/x-python",
   "name": "python",
   "nbconvert_exporter": "python",
   "pygments_lexer": "ipython3",
   "version": "3.7.10"
  }
 },
 "nbformat": 4,
 "nbformat_minor": 5
}
